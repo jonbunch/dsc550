{
 "cells": [
  {
   "cell_type": "markdown",
   "source": [
    "### Jonathan Bunch\n",
    "\n",
    "24 October 2021\n",
    "\n",
    "Bellevue University\n",
    "\n",
    "DSC550-T301\n",
    "\n",
    "---\n",
    "\n",
    "# Final Project Milestone Three\n",
    "\n",
    "Before I begin the modeling stage of this milestone, I will attempt to better organize my data to identify/create some\n",
    "new features to work with.  The feedback from last week's milestone helped me identify some new ideas for extracting\n",
    "information and grouping my features in a relevant way.  My sample size is still quite small, but I believe these\n",
    "changes have significantly improved the amount of information available for modeling.  I also chose to re-integrate\n",
    "a secondary data set that includes yearly statistics on fertility rate, mortality rate, and per capita income."
   ],
   "metadata": {
    "collapsed": false
   }
  },
  {
   "cell_type": "code",
   "execution_count": 3,
   "outputs": [],
   "source": [
    "import pandas as pd\n",
    "import numpy as np\n",
    "import matplotlib.pyplot as plt\n",
    "from sklearn.linear_model import LinearRegression\n",
    "from sklearn.model_selection import train_test_split\n",
    "from sklearn.dummy import DummyRegressor\n",
    "from sklearn.metrics import mean_squared_error, mean_absolute_error, r2_score, explained_variance_score"
   ],
   "metadata": {
    "collapsed": false,
    "pycharm": {
     "name": "#%%\n"
    }
   }
  },
  {
   "cell_type": "code",
   "execution_count": 4,
   "outputs": [],
   "source": [
    "# Import my data sets.\n",
    "disney_raw = pd.read_csv(\"disney_movies_total_gross.csv\")\n",
    "fmi_raw = pd.read_csv(\"MortalityFertilityIncome.csv\", decimal=',')"
   ],
   "metadata": {
    "collapsed": false,
    "pycharm": {
     "name": "#%%\n"
    }
   }
  },
  {
   "cell_type": "markdown",
   "source": [
    "First, I will filter and re-organize the mortality/fertility/income data set."
   ],
   "metadata": {
    "collapsed": false
   }
  },
  {
   "cell_type": "code",
   "execution_count": 5,
   "outputs": [
    {
     "name": "stdout",
     "output_type": "stream",
     "text": [
      "Shape:  (1, 141) \n",
      "\n"
     ]
    },
    {
     "data": {
      "text/plain": "   m1970  m1971  m1972  m1973  m1974  m1975  m1976  m1977  m1978  m1979  ...  \\\n0   19.9   19.1   18.3   17.5   16.7   16.0   15.2   14.5   13.8   13.2  ...   \n\n         i2007        i2008        i2009        i2010        i2011  \\\n0  40594.21177  40369.26202  39379.54994  40903.86626  42607.52741   \n\n         i2012        i2013        i2014       i2015        i2016  \n0  44582.33345  45548.28824  47344.28554  49058.0894  49725.78053  \n\n[1 rows x 141 columns]",
      "text/html": "<div>\n<style scoped>\n    .dataframe tbody tr th:only-of-type {\n        vertical-align: middle;\n    }\n\n    .dataframe tbody tr th {\n        vertical-align: top;\n    }\n\n    .dataframe thead th {\n        text-align: right;\n    }\n</style>\n<table border=\"1\" class=\"dataframe\">\n  <thead>\n    <tr style=\"text-align: right;\">\n      <th></th>\n      <th>m1970</th>\n      <th>m1971</th>\n      <th>m1972</th>\n      <th>m1973</th>\n      <th>m1974</th>\n      <th>m1975</th>\n      <th>m1976</th>\n      <th>m1977</th>\n      <th>m1978</th>\n      <th>m1979</th>\n      <th>...</th>\n      <th>i2007</th>\n      <th>i2008</th>\n      <th>i2009</th>\n      <th>i2010</th>\n      <th>i2011</th>\n      <th>i2012</th>\n      <th>i2013</th>\n      <th>i2014</th>\n      <th>i2015</th>\n      <th>i2016</th>\n    </tr>\n  </thead>\n  <tbody>\n    <tr>\n      <th>0</th>\n      <td>19.9</td>\n      <td>19.1</td>\n      <td>18.3</td>\n      <td>17.5</td>\n      <td>16.7</td>\n      <td>16.0</td>\n      <td>15.2</td>\n      <td>14.5</td>\n      <td>13.8</td>\n      <td>13.2</td>\n      <td>...</td>\n      <td>40594.21177</td>\n      <td>40369.26202</td>\n      <td>39379.54994</td>\n      <td>40903.86626</td>\n      <td>42607.52741</td>\n      <td>44582.33345</td>\n      <td>45548.28824</td>\n      <td>47344.28554</td>\n      <td>49058.0894</td>\n      <td>49725.78053</td>\n    </tr>\n  </tbody>\n</table>\n<p>1 rows × 141 columns</p>\n</div>"
     },
     "execution_count": 5,
     "metadata": {},
     "output_type": "execute_result"
    }
   ],
   "source": [
    "# Isolate the data for the country of interest.\n",
    "fmi_1 = fmi_raw[fmi_raw['Country Name'] == \"United States\"]\n",
    "# Drop unnecessary columns.\n",
    "fmi_1 = fmi_1.drop(columns=['Country Name', 'Country Code', 'Region']).reset_index(drop=True)\n",
    "print('Shape: ', fmi_1.shape, '\\n')\n",
    "fmi_1.head()"
   ],
   "metadata": {
    "collapsed": false,
    "pycharm": {
     "name": "#%%\n"
    }
   }
  },
  {
   "cell_type": "markdown",
   "source": [
    "As we can see, the data structure is not very useful. I need to split the one long row into columns based on the\n",
    "prefix in the column name, and create rows based on the year."
   ],
   "metadata": {
    "collapsed": false
   }
  },
  {
   "cell_type": "code",
   "execution_count": 6,
   "outputs": [
    {
     "data": {
      "text/plain": "      mortality  fertility  income_per_cap\nyear                                      \n1970       19.9      2.480     4591.218634\n1971       19.1      2.266     4891.985558\n1972       18.3      2.010     5305.320034\n1973       17.5      1.879     5912.942042\n1974       16.7      1.835     6152.478813",
      "text/html": "<div>\n<style scoped>\n    .dataframe tbody tr th:only-of-type {\n        vertical-align: middle;\n    }\n\n    .dataframe tbody tr th {\n        vertical-align: top;\n    }\n\n    .dataframe thead th {\n        text-align: right;\n    }\n</style>\n<table border=\"1\" class=\"dataframe\">\n  <thead>\n    <tr style=\"text-align: right;\">\n      <th></th>\n      <th>mortality</th>\n      <th>fertility</th>\n      <th>income_per_cap</th>\n    </tr>\n    <tr>\n      <th>year</th>\n      <th></th>\n      <th></th>\n      <th></th>\n    </tr>\n  </thead>\n  <tbody>\n    <tr>\n      <th>1970</th>\n      <td>19.9</td>\n      <td>2.480</td>\n      <td>4591.218634</td>\n    </tr>\n    <tr>\n      <th>1971</th>\n      <td>19.1</td>\n      <td>2.266</td>\n      <td>4891.985558</td>\n    </tr>\n    <tr>\n      <th>1972</th>\n      <td>18.3</td>\n      <td>2.010</td>\n      <td>5305.320034</td>\n    </tr>\n    <tr>\n      <th>1973</th>\n      <td>17.5</td>\n      <td>1.879</td>\n      <td>5912.942042</td>\n    </tr>\n    <tr>\n      <th>1974</th>\n      <td>16.7</td>\n      <td>1.835</td>\n      <td>6152.478813</td>\n    </tr>\n  </tbody>\n</table>\n</div>"
     },
     "execution_count": 6,
     "metadata": {},
     "output_type": "execute_result"
    }
   ],
   "source": [
    "# I will use the Pandas \"wide_to_long\" method to \"unpivot\" these data.\n",
    "fmi_1['id'] = fmi_1.index\n",
    "fmi_2 = pd.wide_to_long(fmi_1, stubnames=['m', 'f', 'i'], i='id', j='year')\n",
    "fmi_2 = fmi_2.reset_index(level='id', drop=True)\n",
    "# Rename the columns.\n",
    "fmi_3 = fmi_2.rename(columns={'m': 'mortality', 'f': 'fertility', 'i': 'income_per_cap'})\n",
    "fmi_3.head()"
   ],
   "metadata": {
    "collapsed": false,
    "pycharm": {
     "name": "#%%\n"
    }
   }
  },
  {
   "cell_type": "markdown",
   "source": [
    "Now I will start on the Disney movie dataset. Based on feedback from the last milestone, I want to organize this data\n",
    "set a little differently and try creating some new features."
   ],
   "metadata": {
    "collapsed": false
   }
  },
  {
   "cell_type": "code",
   "execution_count": 7,
   "outputs": [
    {
     "name": "stdout",
     "output_type": "stream",
     "text": [
      "NA Values: \n",
      "release_date                0\n",
      "genre                       0\n",
      "inflation_adjusted_gross    0\n",
      "dtype: int64\n",
      "Dataframe shape:  (579, 3)\n",
      "Missing Values for Profit:  4\n",
      "New Dataframe shape:  (575, 3)\n"
     ]
    }
   ],
   "source": [
    "# Drop irrelevant features.  I found previously that 'mpaa_rating' had too many missing values to be useful.\n",
    "ddf_1 = disney_raw.drop(columns=['movie_title', 'total_gross', 'mpaa_rating'])\n",
    "print('NA Values: ')\n",
    "print(ddf_1.isna().sum())\n",
    "# As before, I will consider any observation that has a zero value for the adjusted profits to be a missing value.\n",
    "print('Dataframe shape: ', ddf_1.shape)\n",
    "print('Missing Values for Profit: ', (ddf_1.inflation_adjusted_gross == 0).sum())\n",
    "# There are only four missing values, so I'm going to simply drop those observations.\n",
    "ddf_1 = ddf_1[ddf_1.inflation_adjusted_gross != 0]\n",
    "print('New Dataframe shape: ', ddf_1.shape)"
   ],
   "metadata": {
    "collapsed": false,
    "pycharm": {
     "name": "#%%\n"
    }
   }
  },
  {
   "cell_type": "code",
   "execution_count": 8,
   "outputs": [
    {
     "data": {
      "text/plain": "       genre  inflation_adjusted_gross  year  month\n0    Musical                5228953251  1937     12\n1  Adventure                2188229052  1940      2\n2    Musical                2187090808  1940     11\n3  Adventure                1078510579  1946     11\n4      Drama                 920608730  1950      2",
      "text/html": "<div>\n<style scoped>\n    .dataframe tbody tr th:only-of-type {\n        vertical-align: middle;\n    }\n\n    .dataframe tbody tr th {\n        vertical-align: top;\n    }\n\n    .dataframe thead th {\n        text-align: right;\n    }\n</style>\n<table border=\"1\" class=\"dataframe\">\n  <thead>\n    <tr style=\"text-align: right;\">\n      <th></th>\n      <th>genre</th>\n      <th>inflation_adjusted_gross</th>\n      <th>year</th>\n      <th>month</th>\n    </tr>\n  </thead>\n  <tbody>\n    <tr>\n      <th>0</th>\n      <td>Musical</td>\n      <td>5228953251</td>\n      <td>1937</td>\n      <td>12</td>\n    </tr>\n    <tr>\n      <th>1</th>\n      <td>Adventure</td>\n      <td>2188229052</td>\n      <td>1940</td>\n      <td>2</td>\n    </tr>\n    <tr>\n      <th>2</th>\n      <td>Musical</td>\n      <td>2187090808</td>\n      <td>1940</td>\n      <td>11</td>\n    </tr>\n    <tr>\n      <th>3</th>\n      <td>Adventure</td>\n      <td>1078510579</td>\n      <td>1946</td>\n      <td>11</td>\n    </tr>\n    <tr>\n      <th>4</th>\n      <td>Drama</td>\n      <td>920608730</td>\n      <td>1950</td>\n      <td>2</td>\n    </tr>\n  </tbody>\n</table>\n</div>"
     },
     "execution_count": 8,
     "metadata": {},
     "output_type": "execute_result"
    }
   ],
   "source": [
    "# Now I will convert the date column to a datetime datatype to make it easier to work with.\n",
    "ddf_1.release_date = ddf_1.release_date.astype(np.datetime64)\n",
    "# I am going to create features from the month and year, and drop the orginal date column.\n",
    "ddf_1.loc[:, 'year'] = ddf_1.release_date.apply(lambda x: x.year)\n",
    "ddf_1.loc[:, 'month'] = ddf_1.release_date.apply(lambda x: x.month)\n",
    "ddf_2 = ddf_1.drop(columns='release_date')\n",
    "ddf_2.head()"
   ],
   "metadata": {
    "collapsed": false,
    "pycharm": {
     "name": "#%%\n"
    }
   }
  },
  {
   "cell_type": "markdown",
   "source": [
    "The second dataset contains data from 1970 to 2016.  The Disney dataset contains data from 1937 to 2016, but almost\n",
    "all of the observations are from 1970 or later.  I would argue that dropping the 15 observations from before 1970\n",
    "is justified because they represent only a small proportion of the total observations, and because they would\n",
    "represent several decades with only a handful of observations."
   ],
   "metadata": {
    "collapsed": false,
    "pycharm": {
     "name": "#%% md\n"
    }
   }
  },
  {
   "cell_type": "code",
   "execution_count": 9,
   "outputs": [],
   "source": [
    "# Drop observations from before 1970.\n",
    "ddf_2 = ddf_2[ddf_2.year >= 1970]\n",
    "ddf_2 = ddf_2.reset_index(drop=True)"
   ],
   "metadata": {
    "collapsed": false,
    "pycharm": {
     "name": "#%%\n"
    }
   }
  },
  {
   "cell_type": "markdown",
   "source": [
    "Next I want to create some quick exploratory visualizations."
   ],
   "metadata": {
    "collapsed": false
   }
  },
  {
   "cell_type": "code",
   "execution_count": 10,
   "outputs": [],
   "source": [
    "# Create variables for yearly movie releases, profits, and profits per movie.\n",
    "x_year = ddf_2.year.value_counts().sort_index().index\n",
    "count_year = ddf_2.year.value_counts().sort_index()\n",
    "yearly_sum_profits = ddf_2.groupby(['year']).sum().inflation_adjusted_gross\n",
    "yearly_per_movie = yearly_sum_profits / count_year\n",
    "\n",
    "# Create the same metrics for monthly values.\n",
    "x_month = ddf_2.month.value_counts().sort_index().index\n",
    "count_month = ddf_2.month.value_counts().sort_index()\n",
    "monthly_sum_profits = ddf_2.groupby(['month']).sum().inflation_adjusted_gross\n",
    "monthly_per_movie = monthly_sum_profits / count_month"
   ],
   "metadata": {
    "collapsed": false,
    "pycharm": {
     "name": "#%%\n"
    }
   }
  },
  {
   "cell_type": "code",
   "execution_count": 11,
   "outputs": [
    {
     "data": {
      "text/plain": "<Figure size 432x288 with 6 Axes>",
      "image/png": "[encoded data removed]"
     },
     "metadata": {
      "needs_background": "light"
     },
     "output_type": "display_data"
    }
   ],
   "source": [
    "# Create simple plots of feature values by year.\n",
    "fig, axs = plt.subplots(3, 2)\n",
    "fig.suptitle('Features by Year')\n",
    "axs[0, 0].plot(fmi_3.index, fmi_3.mortality)\n",
    "axs[0, 0].set_title(\"Mortality Rate\")\n",
    "axs[1, 0].plot(fmi_3.index, fmi_3.fertility)\n",
    "axs[1, 0].set_title(\"Fertility Rate\")\n",
    "axs[2, 0].plot(fmi_3.index, fmi_3.income_per_cap)\n",
    "axs[2, 0].set_title(\"Per Capita Income\")\n",
    "axs[0, 1].plot(x_year, count_year)\n",
    "axs[0, 1].set_title(\"Movie Releases\")\n",
    "axs[1, 1].plot(yearly_sum_profits.index, yearly_sum_profits.values)\n",
    "axs[1, 1].set_title(\"Total Profits\")\n",
    "axs[2, 1].plot(x_year, yearly_per_movie)\n",
    "axs[2, 1].set_title(\"Profits per Movie\")\n",
    "fig.tight_layout()\n",
    "plt.show()"
   ],
   "metadata": {
    "collapsed": false,
    "pycharm": {
     "name": "#%%\n"
    }
   }
  },
  {
   "cell_type": "code",
   "execution_count": 12,
   "outputs": [
    {
     "data": {
      "text/plain": "<Figure size 432x288 with 3 Axes>",
      "image/png": "[encoded data removed]"
     },
     "metadata": {
      "needs_background": "light"
     },
     "output_type": "display_data"
    }
   ],
   "source": [
    "# Create similar plots for monthly feature values.  This level of detail is only available in the Disney dataset.\n",
    "fig, axs = plt.subplots(3, 1)\n",
    "fig.suptitle('Features by Month')\n",
    "axs[0].plot(x_month, count_month)\n",
    "axs[0].set_title(\"Movies Released\")\n",
    "axs[1].plot(x_month, monthly_sum_profits.values)\n",
    "axs[1].set_title(\"Total Profits\")\n",
    "axs[2].plot(x_month, (monthly_sum_profits.values / count_month.values))\n",
    "axs[2].set_title(\"Profits per Movie\")\n",
    "fig.tight_layout()\n",
    "plt.show()"
   ],
   "metadata": {
    "collapsed": false,
    "pycharm": {
     "name": "#%%\n"
    }
   }
  },
  {
   "cell_type": "markdown",
   "source": [
    "From the initial visual inspection, it looks like there could be some co-variance in several of these features. The\n",
    "mortality rate and per capita income may not contain much information since they seem to have pretty consisten rates\n",
    "of change, but I will keep them for now.  Fertility rate dropped dramatically around the early 1970s, perhaps due to\n",
    "increased available or acceptance of birth control.  Using data from after ~1980 could improve the predictive power,\n",
    "but it might be difficult to justify without more information.\n",
    "\n",
    "The monthly data also shows some interesting patterns.  It appears that, overall, profits are higher for movies\n",
    "released mid-year and around the end of the year.  This is logical since summer and holiday releases have historically\n",
    "been promoted by the film industry, and families often have more time to spend together during these periods.\n",
    "\n",
    "Next, I will create dummy variables for the month of release.  I will also create dummy variables for the genre\n",
    "variable, which I have not explored much yet.  Then, I can calculate the yearly sum of each feature and re-organize\n",
    "the dataframe to represent yearly observations."
   ],
   "metadata": {
    "collapsed": false
   }
  },
  {
   "cell_type": "code",
   "execution_count": 13,
   "outputs": [
    {
     "data": {
      "text/plain": "      inflation_adjusted_gross  month_1  month_2  month_3  month_4  month_5  \\\nyear                                                                          \n1970                 356362241        0        0        0        1        0   \n1971                  91305448        0        0        0        0        0   \n1975                 131246872        0        0        0        0        0   \n1977                 363659174        1        0        0        0        0   \n1979                 120377374        0        0        0        0        0   \n\n      month_6  month_7  month_8  month_9  ...  genre_Black Comedy  \\\nyear                                      ...                       \n1970        0        1        0        0  ...                   0   \n1971        0        0        0        0  ...                   0   \n1975        0        1        0        0  ...                   0   \n1977        2        0        0        0  ...                   0   \n1979        0        0        0        0  ...                   0   \n\n      genre_Comedy  genre_Concert/Performance  genre_Documentary  genre_Drama  \\\nyear                                                                            \n1970             1                          0                  0            0   \n1971             0                          0                  0            0   \n1975             1                          0                  0            0   \n1977             2                          0                  0            0   \n1979             0                          0                  0            0   \n\n      genre_Horror  genre_Musical  genre_Romantic Comedy  \\\nyear                                                       \n1970             0              1                      0   \n1971             0              1                      0   \n1975             0              0                      0   \n1977             0              0                      0   \n1979             0              0                      0   \n\n      genre_Thriller/Suspense  genre_Western  \nyear                                          \n1970                        0              0  \n1971                        0              0  \n1975                        0              0  \n1977                        0              0  \n1979                        0              0  \n\n[5 rows x 25 columns]",
      "text/html": "<div>\n<style scoped>\n    .dataframe tbody tr th:only-of-type {\n        vertical-align: middle;\n    }\n\n    .dataframe tbody tr th {\n        vertical-align: top;\n    }\n\n    .dataframe thead th {\n        text-align: right;\n    }\n</style>\n<table border=\"1\" class=\"dataframe\">\n  <thead>\n    <tr style=\"text-align: right;\">\n      <th></th>\n      <th>inflation_adjusted_gross</th>\n      <th>month_1</th>\n      <th>month_2</th>\n      <th>month_3</th>\n      <th>month_4</th>\n      <th>month_5</th>\n      <th>month_6</th>\n      <th>month_7</th>\n      <th>month_8</th>\n      <th>month_9</th>\n      <th>...</th>\n      <th>genre_Black Comedy</th>\n      <th>genre_Comedy</th>\n      <th>genre_Concert/Performance</th>\n      <th>genre_Documentary</th>\n      <th>genre_Drama</th>\n      <th>genre_Horror</th>\n      <th>genre_Musical</th>\n      <th>genre_Romantic Comedy</th>\n      <th>genre_Thriller/Suspense</th>\n      <th>genre_Western</th>\n    </tr>\n    <tr>\n      <th>year</th>\n      <th></th>\n      <th></th>\n      <th></th>\n      <th></th>\n      <th></th>\n      <th></th>\n      <th></th>\n      <th></th>\n      <th></th>\n      <th></th>\n      <th></th>\n      <th></th>\n      <th></th>\n      <th></th>\n      <th></th>\n      <th></th>\n      <th></th>\n      <th></th>\n      <th></th>\n      <th></th>\n      <th></th>\n    </tr>\n  </thead>\n  <tbody>\n    <tr>\n      <th>1970</th>\n      <td>356362241</td>\n      <td>0</td>\n      <td>0</td>\n      <td>0</td>\n      <td>1</td>\n      <td>0</td>\n      <td>0</td>\n      <td>1</td>\n      <td>0</td>\n      <td>0</td>\n      <td>...</td>\n      <td>0</td>\n      <td>1</td>\n      <td>0</td>\n      <td>0</td>\n      <td>0</td>\n      <td>0</td>\n      <td>1</td>\n      <td>0</td>\n      <td>0</td>\n      <td>0</td>\n    </tr>\n    <tr>\n      <th>1971</th>\n      <td>91305448</td>\n      <td>0</td>\n      <td>0</td>\n      <td>0</td>\n      <td>0</td>\n      <td>0</td>\n      <td>0</td>\n      <td>0</td>\n      <td>0</td>\n      <td>0</td>\n      <td>...</td>\n      <td>0</td>\n      <td>0</td>\n      <td>0</td>\n      <td>0</td>\n      <td>0</td>\n      <td>0</td>\n      <td>1</td>\n      <td>0</td>\n      <td>0</td>\n      <td>0</td>\n    </tr>\n    <tr>\n      <th>1975</th>\n      <td>131246872</td>\n      <td>0</td>\n      <td>0</td>\n      <td>0</td>\n      <td>0</td>\n      <td>0</td>\n      <td>0</td>\n      <td>1</td>\n      <td>0</td>\n      <td>0</td>\n      <td>...</td>\n      <td>0</td>\n      <td>1</td>\n      <td>0</td>\n      <td>0</td>\n      <td>0</td>\n      <td>0</td>\n      <td>0</td>\n      <td>0</td>\n      <td>0</td>\n      <td>0</td>\n    </tr>\n    <tr>\n      <th>1977</th>\n      <td>363659174</td>\n      <td>1</td>\n      <td>0</td>\n      <td>0</td>\n      <td>0</td>\n      <td>0</td>\n      <td>2</td>\n      <td>0</td>\n      <td>0</td>\n      <td>0</td>\n      <td>...</td>\n      <td>0</td>\n      <td>2</td>\n      <td>0</td>\n      <td>0</td>\n      <td>0</td>\n      <td>0</td>\n      <td>0</td>\n      <td>0</td>\n      <td>0</td>\n      <td>0</td>\n    </tr>\n    <tr>\n      <th>1979</th>\n      <td>120377374</td>\n      <td>0</td>\n      <td>0</td>\n      <td>0</td>\n      <td>0</td>\n      <td>0</td>\n      <td>0</td>\n      <td>0</td>\n      <td>0</td>\n      <td>0</td>\n      <td>...</td>\n      <td>0</td>\n      <td>0</td>\n      <td>0</td>\n      <td>0</td>\n      <td>0</td>\n      <td>0</td>\n      <td>0</td>\n      <td>0</td>\n      <td>0</td>\n      <td>0</td>\n    </tr>\n  </tbody>\n</table>\n<p>5 rows × 25 columns</p>\n</div>"
     },
     "execution_count": 13,
     "metadata": {},
     "output_type": "execute_result"
    }
   ],
   "source": [
    "# Create dummy variables.\n",
    "month_dummies = pd.get_dummies(ddf_2.month, prefix='month')\n",
    "genre_dummies = pd.get_dummies(ddf_2.genre, prefix='genre')\n",
    "# Join the dummy variables to the original dataframe.\n",
    "ddf_3 = ddf_2.join([month_dummies, genre_dummies])\n",
    "# Drop the original columns.\n",
    "ddf_3 = ddf_3.drop(columns=['month', 'genre'])\n",
    "# Group the data by year using sum to aggregate.\n",
    "ddf_4 = ddf_3.groupby(['year']).sum()\n",
    "ddf_4.head()"
   ],
   "metadata": {
    "collapsed": false,
    "pycharm": {
     "name": "#%%\n"
    }
   }
  },
  {
   "cell_type": "markdown",
   "source": [
    "I will visualize a few of the features just out of curiosity."
   ],
   "metadata": {
    "collapsed": false
   }
  },
  {
   "cell_type": "code",
   "execution_count": 14,
   "outputs": [
    {
     "data": {
      "text/plain": "<Figure size 432x288 with 3 Axes>",
      "image/png": "[encoded data removed]"
     },
     "metadata": {
      "needs_background": "light"
     },
     "output_type": "display_data"
    }
   ],
   "source": [
    "fig, axs = plt.subplots(3, 1)\n",
    "fig.suptitle('Yearly Aggregated Values')\n",
    "axs[0].plot(ddf_4.index, ddf_4.inflation_adjusted_gross.values)\n",
    "axs[0].set_title(\"Profits\")\n",
    "axs[1].plot(ddf_4.index, ddf_4.month_6.values)\n",
    "axs[1].set_title(\"June Releases\")\n",
    "axs[2].plot(ddf_4.index, ddf_4.month_12.values)\n",
    "axs[2].set_title(\"December Releases\")\n",
    "fig.tight_layout()\n",
    "plt.show()"
   ],
   "metadata": {
    "collapsed": false,
    "pycharm": {
     "name": "#%%\n"
    }
   }
  },
  {
   "cell_type": "markdown",
   "source": [
    "Everything looks pretty good, so I will combine the two datasets.  I'm using the default left join method since the\n",
    "Disney dataset does not have an observation for every year."
   ],
   "metadata": {
    "collapsed": false
   }
  },
  {
   "cell_type": "code",
   "execution_count": 15,
   "outputs": [
    {
     "data": {
      "text/plain": "      inflation_adjusted_gross  month_1  month_2  month_3  month_4  month_5  \\\nyear                                                                          \n1970                 356362241        0        0        0        1        0   \n1971                  91305448        0        0        0        0        0   \n1975                 131246872        0        0        0        0        0   \n1977                 363659174        1        0        0        0        0   \n1979                 120377374        0        0        0        0        0   \n\n      month_6  month_7  month_8  month_9  ...  genre_Documentary  genre_Drama  \\\nyear                                      ...                                   \n1970        0        1        0        0  ...                  0            0   \n1971        0        0        0        0  ...                  0            0   \n1975        0        1        0        0  ...                  0            0   \n1977        2        0        0        0  ...                  0            0   \n1979        0        0        0        0  ...                  0            0   \n\n      genre_Horror  genre_Musical  genre_Romantic Comedy  \\\nyear                                                       \n1970             0              1                      0   \n1971             0              1                      0   \n1975             0              0                      0   \n1977             0              0                      0   \n1979             0              0                      0   \n\n      genre_Thriller/Suspense  genre_Western  mortality  fertility  \\\nyear                                                                 \n1970                        0              0       19.9      2.480   \n1971                        0              0       19.1      2.266   \n1975                        0              0       16.0      1.774   \n1977                        0              0       14.5      1.790   \n1979                        0              0       13.2      1.808   \n\n      income_per_cap  \nyear                  \n1970     4591.218634  \n1971     4891.985558  \n1975     6564.002627  \n1977     7990.411096  \n1979     9557.345962  \n\n[5 rows x 28 columns]",
      "text/html": "<div>\n<style scoped>\n    .dataframe tbody tr th:only-of-type {\n        vertical-align: middle;\n    }\n\n    .dataframe tbody tr th {\n        vertical-align: top;\n    }\n\n    .dataframe thead th {\n        text-align: right;\n    }\n</style>\n<table border=\"1\" class=\"dataframe\">\n  <thead>\n    <tr style=\"text-align: right;\">\n      <th></th>\n      <th>inflation_adjusted_gross</th>\n      <th>month_1</th>\n      <th>month_2</th>\n      <th>month_3</th>\n      <th>month_4</th>\n      <th>month_5</th>\n      <th>month_6</th>\n      <th>month_7</th>\n      <th>month_8</th>\n      <th>month_9</th>\n      <th>...</th>\n      <th>genre_Documentary</th>\n      <th>genre_Drama</th>\n      <th>genre_Horror</th>\n      <th>genre_Musical</th>\n      <th>genre_Romantic Comedy</th>\n      <th>genre_Thriller/Suspense</th>\n      <th>genre_Western</th>\n      <th>mortality</th>\n      <th>fertility</th>\n      <th>income_per_cap</th>\n    </tr>\n    <tr>\n      <th>year</th>\n      <th></th>\n      <th></th>\n      <th></th>\n      <th></th>\n      <th></th>\n      <th></th>\n      <th></th>\n      <th></th>\n      <th></th>\n      <th></th>\n      <th></th>\n      <th></th>\n      <th></th>\n      <th></th>\n      <th></th>\n      <th></th>\n      <th></th>\n      <th></th>\n      <th></th>\n      <th></th>\n      <th></th>\n    </tr>\n  </thead>\n  <tbody>\n    <tr>\n      <th>1970</th>\n      <td>356362241</td>\n      <td>0</td>\n      <td>0</td>\n      <td>0</td>\n      <td>1</td>\n      <td>0</td>\n      <td>0</td>\n      <td>1</td>\n      <td>0</td>\n      <td>0</td>\n      <td>...</td>\n      <td>0</td>\n      <td>0</td>\n      <td>0</td>\n      <td>1</td>\n      <td>0</td>\n      <td>0</td>\n      <td>0</td>\n      <td>19.9</td>\n      <td>2.480</td>\n      <td>4591.218634</td>\n    </tr>\n    <tr>\n      <th>1971</th>\n      <td>91305448</td>\n      <td>0</td>\n      <td>0</td>\n      <td>0</td>\n      <td>0</td>\n      <td>0</td>\n      <td>0</td>\n      <td>0</td>\n      <td>0</td>\n      <td>0</td>\n      <td>...</td>\n      <td>0</td>\n      <td>0</td>\n      <td>0</td>\n      <td>1</td>\n      <td>0</td>\n      <td>0</td>\n      <td>0</td>\n      <td>19.1</td>\n      <td>2.266</td>\n      <td>4891.985558</td>\n    </tr>\n    <tr>\n      <th>1975</th>\n      <td>131246872</td>\n      <td>0</td>\n      <td>0</td>\n      <td>0</td>\n      <td>0</td>\n      <td>0</td>\n      <td>0</td>\n      <td>1</td>\n      <td>0</td>\n      <td>0</td>\n      <td>...</td>\n      <td>0</td>\n      <td>0</td>\n      <td>0</td>\n      <td>0</td>\n      <td>0</td>\n      <td>0</td>\n      <td>0</td>\n      <td>16.0</td>\n      <td>1.774</td>\n      <td>6564.002627</td>\n    </tr>\n    <tr>\n      <th>1977</th>\n      <td>363659174</td>\n      <td>1</td>\n      <td>0</td>\n      <td>0</td>\n      <td>0</td>\n      <td>0</td>\n      <td>2</td>\n      <td>0</td>\n      <td>0</td>\n      <td>0</td>\n      <td>...</td>\n      <td>0</td>\n      <td>0</td>\n      <td>0</td>\n      <td>0</td>\n      <td>0</td>\n      <td>0</td>\n      <td>0</td>\n      <td>14.5</td>\n      <td>1.790</td>\n      <td>7990.411096</td>\n    </tr>\n    <tr>\n      <th>1979</th>\n      <td>120377374</td>\n      <td>0</td>\n      <td>0</td>\n      <td>0</td>\n      <td>0</td>\n      <td>0</td>\n      <td>0</td>\n      <td>0</td>\n      <td>0</td>\n      <td>0</td>\n      <td>...</td>\n      <td>0</td>\n      <td>0</td>\n      <td>0</td>\n      <td>0</td>\n      <td>0</td>\n      <td>0</td>\n      <td>0</td>\n      <td>13.2</td>\n      <td>1.808</td>\n      <td>9557.345962</td>\n    </tr>\n  </tbody>\n</table>\n<p>5 rows × 28 columns</p>\n</div>"
     },
     "execution_count": 15,
     "metadata": {},
     "output_type": "execute_result"
    }
   ],
   "source": [
    "combined_df = ddf_4.join(fmi_3)\n",
    "combined_df.head()"
   ],
   "metadata": {
    "collapsed": false,
    "pycharm": {
     "name": "#%%\n"
    }
   }
  },
  {
   "cell_type": "markdown",
   "source": [
    "Next, I'm going to create a correlation matrix to get an idea of which features might be the most relevant."
   ],
   "metadata": {
    "collapsed": false
   }
  },
  {
   "cell_type": "code",
   "execution_count": 16,
   "outputs": [
    {
     "name": "stdout",
     "output_type": "stream",
     "text": [
      "                           inflation_adjusted_gross   month_1   month_2  \\\n",
      "inflation_adjusted_gross                   1.000000  0.444893  0.497789   \n",
      "month_1                                    0.444893  1.000000  0.144895   \n",
      "month_2                                    0.497789  0.144895  1.000000   \n",
      "month_3                                    0.631767  0.522743  0.522132   \n",
      "month_4                                    0.532090  0.494807  0.390556   \n",
      "month_5                                    0.757830  0.193254  0.602483   \n",
      "month_6                                    0.458048  0.486331  0.471214   \n",
      "month_7                                    0.398606  0.266867  0.406192   \n",
      "month_8                                    0.580098  0.434554  0.450605   \n",
      "month_9                                    0.554870  0.605263  0.475018   \n",
      "month_10                                   0.484291  0.472236  0.441289   \n",
      "month_11                                   0.618448  0.078249  0.471188   \n",
      "month_12                                   0.650069  0.439800  0.562326   \n",
      "genre_Action                               0.597490  0.461629  0.486202   \n",
      "genre_Adventure                            0.770201  0.233855  0.413787   \n",
      "genre_Black Comedy                         0.147011  0.226240  0.105568   \n",
      "genre_Comedy                               0.475537  0.604514  0.529368   \n",
      "genre_Concert/Performance                  0.000110 -0.182401  0.243988   \n",
      "genre_Documentary                          0.317681 -0.011899  0.170264   \n",
      "genre_Drama                                0.616799  0.475861  0.571843   \n",
      "genre_Horror                               0.086691  0.399620  0.010359   \n",
      "genre_Musical                              0.102731  0.132778  0.288046   \n",
      "genre_Romantic Comedy                      0.411932  0.165318  0.541454   \n",
      "genre_Thriller/Suspense                    0.591464  0.679778  0.440415   \n",
      "genre_Western                              0.273162  0.170894  0.303582   \n",
      "mortality                                 -0.771069 -0.279827 -0.458013   \n",
      "fertility                                  0.163715  0.153227  0.286067   \n",
      "income_per_cap                             0.764382  0.139671  0.306484   \n",
      "\n",
      "                            month_3   month_4   month_5       month_6  \\\n",
      "inflation_adjusted_gross   0.631767  0.532090  0.757830  4.580477e-01   \n",
      "month_1                    0.522743  0.494807  0.193254  4.863310e-01   \n",
      "month_2                    0.522132  0.390556  0.602483  4.712142e-01   \n",
      "month_3                    1.000000  0.567953  0.558694  4.286463e-01   \n",
      "month_4                    0.567953  1.000000  0.449963  3.293108e-01   \n",
      "month_5                    0.558694  0.449963  1.000000  2.169124e-01   \n",
      "month_6                    0.428646  0.329311  0.216912  1.000000e+00   \n",
      "month_7                    0.337168  0.350407  0.318934  3.243370e-01   \n",
      "month_8                    0.614112  0.629678  0.407740  4.815946e-01   \n",
      "month_9                    0.646548  0.560451  0.413812  4.342613e-01   \n",
      "month_10                   0.542006  0.426113  0.402632  3.621555e-01   \n",
      "month_11                   0.264514  0.176797  0.511691  4.591035e-01   \n",
      "month_12                   0.675569  0.287500  0.523590  4.810910e-01   \n",
      "genre_Action               0.461907  0.526995  0.578760  5.726488e-01   \n",
      "genre_Adventure            0.529652  0.489832  0.513446  3.693253e-01   \n",
      "genre_Black Comedy        -0.085656 -0.050220  0.114274  2.654793e-01   \n",
      "genre_Comedy               0.556446  0.566946  0.433202  5.603951e-01   \n",
      "genre_Concert/Performance -0.069058 -0.040489  0.011516 -4.280725e-02   \n",
      "genre_Documentary          0.115437  0.241009  0.148370 -6.981093e-02   \n",
      "genre_Drama                0.765376  0.340198  0.543157  5.385230e-01   \n",
      "genre_Horror               0.149722  0.508215  0.021026  2.250583e-17   \n",
      "genre_Musical              0.210012  0.224931  0.352981  9.020420e-02   \n",
      "genre_Romantic Comedy      0.686257  0.347309  0.472681  4.046085e-01   \n",
      "genre_Thriller/Suspense    0.651020  0.631206  0.397090  4.082609e-01   \n",
      "genre_Western              0.372459  0.192169  0.198760  1.160986e-01   \n",
      "mortality                 -0.505394 -0.435167 -0.556466 -4.066562e-01   \n",
      "fertility                  0.181011  0.285875  0.134171  1.104395e-01   \n",
      "income_per_cap             0.366049  0.374377  0.494763  2.188319e-01   \n",
      "\n",
      "                            month_7   month_8   month_9  ...  \\\n",
      "inflation_adjusted_gross   0.398606  0.580098  0.554870  ...   \n",
      "month_1                    0.266867  0.434554  0.605263  ...   \n",
      "month_2                    0.406192  0.450605  0.475018  ...   \n",
      "month_3                    0.337168  0.614112  0.646548  ...   \n",
      "month_4                    0.350407  0.629678  0.560451  ...   \n",
      "month_5                    0.318934  0.407740  0.413812  ...   \n",
      "month_6                    0.324337  0.481595  0.434261  ...   \n",
      "month_7                    1.000000  0.203158  0.466920  ...   \n",
      "month_8                    0.203158  1.000000  0.501944  ...   \n",
      "month_9                    0.466920  0.501944  1.000000  ...   \n",
      "month_10                   0.298263  0.519404  0.402499  ...   \n",
      "month_11                   0.344251  0.375156  0.318119  ...   \n",
      "month_12                   0.527188  0.459771  0.587971  ...   \n",
      "genre_Action               0.368396  0.486512  0.457615  ...   \n",
      "genre_Adventure            0.290262  0.422639  0.441205  ...   \n",
      "genre_Black Comedy         0.210639  0.054723 -0.005880  ...   \n",
      "genre_Comedy               0.546591  0.668038  0.657499  ...   \n",
      "genre_Concert/Performance -0.150227  0.198535  0.094809  ...   \n",
      "genre_Documentary          0.010652  0.253623  0.149978  ...   \n",
      "genre_Drama                0.377189  0.439308  0.585135  ...   \n",
      "genre_Horror               0.059625  0.362473  0.173097  ...   \n",
      "genre_Musical              0.177675  0.183823  0.293318  ...   \n",
      "genre_Romantic Comedy      0.316292  0.441283  0.424124  ...   \n",
      "genre_Thriller/Suspense    0.354593  0.490359  0.654511  ...   \n",
      "genre_Western              0.383279  0.171325  0.335443  ...   \n",
      "mortality                 -0.273306 -0.561154 -0.391494  ...   \n",
      "fertility                  0.146143  0.218546  0.256591  ...   \n",
      "income_per_cap             0.130727  0.442850  0.218495  ...   \n",
      "\n",
      "                           genre_Documentary  genre_Drama  genre_Horror  \\\n",
      "inflation_adjusted_gross            0.317681     0.616799  8.669115e-02   \n",
      "month_1                            -0.011899     0.475861  3.996196e-01   \n",
      "month_2                             0.170264     0.571843  1.035950e-02   \n",
      "month_3                             0.115437     0.765376  1.497224e-01   \n",
      "month_4                             0.241009     0.340198  5.082146e-01   \n",
      "month_5                             0.148370     0.543157  2.102586e-02   \n",
      "month_6                            -0.069811     0.538523  2.250583e-17   \n",
      "month_7                             0.010652     0.377189  5.962530e-02   \n",
      "month_8                             0.253623     0.439308  3.624733e-01   \n",
      "month_9                             0.149978     0.585135  1.730969e-01   \n",
      "month_10                            0.011636     0.657470  3.256695e-01   \n",
      "month_11                            0.184898     0.474393 -9.324237e-03   \n",
      "month_12                           -0.088308     0.769282  9.326670e-02   \n",
      "genre_Action                        0.047170     0.529525  1.870279e-01   \n",
      "genre_Adventure                     0.604465     0.391445 -9.679896e-02   \n",
      "genre_Black Comedy                 -0.161823     0.158341  1.509703e-01   \n",
      "genre_Comedy                       -0.235112     0.526552  3.605322e-01   \n",
      "genre_Concert/Performance           0.554479    -0.018569 -9.128709e-02   \n",
      "genre_Documentary                   1.000000    -0.032553 -2.977457e-02   \n",
      "genre_Drama                        -0.032553     1.000000  2.034081e-01   \n",
      "genre_Horror                       -0.029775     0.203408  1.000000e+00   \n",
      "genre_Musical                      -0.062482     0.131168  1.748744e-02   \n",
      "genre_Romantic Comedy               0.054900     0.493765 -1.891142e-01   \n",
      "genre_Thriller/Suspense             0.023928     0.554093  3.214606e-01   \n",
      "genre_Western                       0.028146     0.100148 -1.575522e-01   \n",
      "mortality                          -0.472226    -0.478850 -1.229528e-01   \n",
      "fertility                           0.022133     0.171753  1.814872e-02   \n",
      "income_per_cap                      0.641087     0.287218  4.524577e-02   \n",
      "\n",
      "                           genre_Musical  genre_Romantic Comedy  \\\n",
      "inflation_adjusted_gross        0.102731               0.411932   \n",
      "month_1                         0.132778               0.165318   \n",
      "month_2                         0.288046               0.541454   \n",
      "month_3                         0.210012               0.686257   \n",
      "month_4                         0.224931               0.347309   \n",
      "month_5                         0.352981               0.472681   \n",
      "month_6                         0.090204               0.404608   \n",
      "month_7                         0.177675               0.316292   \n",
      "month_8                         0.183823               0.441283   \n",
      "month_9                         0.293318               0.424124   \n",
      "month_10                        0.116181               0.309483   \n",
      "month_11                        0.014675               0.327321   \n",
      "month_12                        0.154618               0.494748   \n",
      "genre_Action                    0.190467               0.414293   \n",
      "genre_Adventure                 0.032778               0.333566   \n",
      "genre_Black Comedy             -0.154445              -0.072269   \n",
      "genre_Comedy                    0.238083               0.406587   \n",
      "genre_Concert/Performance       0.076626               0.123004   \n",
      "genre_Documentary              -0.062482               0.054900   \n",
      "genre_Drama                     0.131168               0.493765   \n",
      "genre_Horror                    0.017487              -0.189114   \n",
      "genre_Musical                   1.000000               0.150061   \n",
      "genre_Romantic Comedy           0.150061               1.000000   \n",
      "genre_Thriller/Suspense         0.133511               0.291615   \n",
      "genre_Western                   0.181842               0.279331   \n",
      "mortality                       0.040222              -0.281885   \n",
      "fertility                       0.466871               0.211250   \n",
      "income_per_cap                  0.004216               0.144724   \n",
      "\n",
      "                           genre_Thriller/Suspense  genre_Western  mortality  \\\n",
      "inflation_adjusted_gross                  0.591464       0.273162  -0.771069   \n",
      "month_1                                   0.679778       0.170894  -0.279827   \n",
      "month_2                                   0.440415       0.303582  -0.458013   \n",
      "month_3                                   0.651020       0.372459  -0.505394   \n",
      "month_4                                   0.631206       0.192169  -0.435167   \n",
      "month_5                                   0.397090       0.198760  -0.556466   \n",
      "month_6                                   0.408261       0.116099  -0.406656   \n",
      "month_7                                   0.354593       0.383279  -0.273306   \n",
      "month_8                                   0.490359       0.171325  -0.561154   \n",
      "month_9                                   0.654511       0.335443  -0.391494   \n",
      "month_10                                  0.434463       0.149532  -0.412145   \n",
      "month_11                                  0.191083       0.185101  -0.583239   \n",
      "month_12                                  0.617620       0.282132  -0.466885   \n",
      "genre_Action                              0.437653       0.093600  -0.475944   \n",
      "genre_Adventure                           0.392146       0.270357  -0.737730   \n",
      "genre_Black Comedy                        0.027299      -0.107036  -0.149698   \n",
      "genre_Comedy                              0.598125       0.285999  -0.320510   \n",
      "genre_Concert/Performance                -0.183408      -0.086295  -0.174037   \n",
      "genre_Documentary                         0.023928       0.028146  -0.472226   \n",
      "genre_Drama                               0.554093       0.100148  -0.478850   \n",
      "genre_Horror                              0.321461      -0.157552  -0.122953   \n",
      "genre_Musical                             0.133511       0.181842   0.040222   \n",
      "genre_Romantic Comedy                     0.291615       0.279331  -0.281885   \n",
      "genre_Thriller/Suspense                   1.000000       0.291219  -0.384884   \n",
      "genre_Western                             0.291219       1.000000  -0.219036   \n",
      "mortality                                -0.384884      -0.219036   1.000000   \n",
      "fertility                                 0.294715       0.124854   0.160767   \n",
      "income_per_cap                            0.271932       0.184284  -0.878795   \n",
      "\n",
      "                           fertility  income_per_cap  \n",
      "inflation_adjusted_gross    0.163715        0.764382  \n",
      "month_1                     0.153227        0.139671  \n",
      "month_2                     0.286067        0.306484  \n",
      "month_3                     0.181011        0.366049  \n",
      "month_4                     0.285875        0.374377  \n",
      "month_5                     0.134171        0.494763  \n",
      "month_6                     0.110439        0.218832  \n",
      "month_7                     0.146143        0.130727  \n",
      "month_8                     0.218546        0.442850  \n",
      "month_9                     0.256591        0.218495  \n",
      "month_10                    0.294076        0.274490  \n",
      "month_11                    0.081209        0.490238  \n",
      "month_12                    0.214545        0.295888  \n",
      "genre_Action                0.084047        0.346346  \n",
      "genre_Adventure             0.030761        0.800954  \n",
      "genre_Black Comedy          0.072529        0.059392  \n",
      "genre_Comedy                0.285610        0.046181  \n",
      "genre_Concert/Performance   0.117734        0.229725  \n",
      "genre_Documentary           0.022133        0.641087  \n",
      "genre_Drama                 0.171753        0.287218  \n",
      "genre_Horror                0.018149        0.045246  \n",
      "genre_Musical               0.466871        0.004216  \n",
      "genre_Romantic Comedy       0.211250        0.144724  \n",
      "genre_Thriller/Suspense     0.294715        0.271932  \n",
      "genre_Western               0.124854        0.184284  \n",
      "mortality                   0.160767       -0.878795  \n",
      "fertility                   1.000000       -0.004233  \n",
      "income_per_cap             -0.004233        1.000000  \n",
      "\n",
      "[28 rows x 28 columns]\n",
      "mortality                   -0.771069\n",
      "genre_Concert/Performance    0.000110\n",
      "genre_Horror                 0.086691\n",
      "genre_Musical                0.102731\n",
      "genre_Black Comedy           0.147011\n",
      "fertility                    0.163715\n",
      "genre_Western                0.273162\n",
      "genre_Documentary            0.317681\n",
      "month_7                      0.398606\n",
      "genre_Romantic Comedy        0.411932\n",
      "month_1                      0.444893\n",
      "month_6                      0.458048\n",
      "genre_Comedy                 0.475537\n",
      "month_10                     0.484291\n",
      "month_2                      0.497789\n",
      "month_4                      0.532090\n",
      "month_9                      0.554870\n",
      "month_8                      0.580098\n",
      "genre_Thriller/Suspense      0.591464\n",
      "genre_Action                 0.597490\n",
      "genre_Drama                  0.616799\n",
      "month_11                     0.618448\n",
      "month_3                      0.631767\n",
      "month_12                     0.650069\n",
      "month_5                      0.757830\n",
      "income_per_cap               0.764382\n",
      "genre_Adventure              0.770201\n",
      "inflation_adjusted_gross     1.000000\n",
      "Name: inflation_adjusted_gross, dtype: float64\n"
     ]
    }
   ],
   "source": [
    "# Create a correlation matrix.\n",
    "corr_1 = combined_df.corr()\n",
    "print(corr_1)\n",
    "# We can create a sorted list of correlation values to see the highest absolute values.\n",
    "corr_sorted = corr_1.inflation_adjusted_gross.sort_values()\n",
    "print(corr_sorted)"
   ],
   "metadata": {
    "collapsed": false,
    "pycharm": {
     "name": "#%%\n"
    }
   }
  },
  {
   "cell_type": "markdown",
   "source": [
    "Finally, I am ready to create my first model.  I will start with a simple linear regression model for this milestone.\n",
    "I will explore feature selection and alternate models more thoroughly moving forward, but for now I will simply select\n",
    "the four features that have a correlation above 0.7: month_5, genre_Adventure, mortality, and income_per_cap."
   ],
   "metadata": {
    "collapsed": false
   }
  },
  {
   "cell_type": "code",
   "execution_count": 17,
   "outputs": [],
   "source": [
    "# For convenience, I will assign the target feature (profits) and predictive features to variables.\n",
    "target = combined_df.inflation_adjusted_gross\n",
    "predictives = combined_df.loc[:, ['month_5', 'genre_Adventure', 'mortality', 'income_per_cap']]\n",
    "\n",
    "# Split the data into training and testing sets.\n",
    "X_train, X_test, y_train, y_test = train_test_split(predictives, target, test_size=0.2, random_state=4)\n",
    "\n",
    "# Create and fit a linear regression model.\n",
    "model = LinearRegression()\n",
    "model.fit(X_train, y_train)\n",
    "# Use the model to make some predictions.\n",
    "y_pred = model.predict(X_test)\n",
    "\n",
    "# I will also create a \"dummy\" model for comparison.\n",
    "dummy = DummyRegressor(strategy='mean')\n",
    "dummy.fit(X_train, y_train)\n",
    "dum_pred = dummy.predict(X_test)"
   ],
   "metadata": {
    "collapsed": false,
    "pycharm": {
     "name": "#%%\n"
    }
   }
  },
  {
   "cell_type": "markdown",
   "source": [
    "Now I will evaluate the model.  I will calculate several metrics for both the actual model and the dummy model and\n",
    "compare the results."
   ],
   "metadata": {
    "collapsed": false
   }
  },
  {
   "cell_type": "code",
   "execution_count": 18,
   "outputs": [],
   "source": [
    "# Calculate evaluation metrics for the regression model.\n",
    "r2 = r2_score(y_test, y_pred)\n",
    "mae = mean_absolute_error(y_test, y_pred)\n",
    "mse = mean_squared_error(y_test, y_pred)\n",
    "evs = explained_variance_score(y_test, y_pred)\n",
    "# Calculate the same metrics for the dummy model.\n",
    "dum_r2 = r2_score(y_test, dum_pred)\n",
    "dum_mae = mean_absolute_error(y_test, dum_pred)\n",
    "dum_mse = mean_squared_error(y_test, dum_pred)\n",
    "dum_evs = explained_variance_score(y_test, dum_pred)\n",
    "# And the difference between the two.\n",
    "diff_r2 = r2 - dum_r2\n",
    "diff_mae = mae - dum_mae\n",
    "diff_mse = mse - dum_mse\n",
    "diff_evs = evs - dum_evs"
   ],
   "metadata": {
    "collapsed": false,
    "pycharm": {
     "name": "#%%\n"
    }
   }
  },
  {
   "cell_type": "code",
   "execution_count": 19,
   "outputs": [
    {
     "name": "stdout",
     "output_type": "stream",
     "text": [
      "Baseline \"Dummy\" Model Results:\n",
      "R-squared score:             -0.09514217205833497\n",
      "Explained Variance Score:    0.0\n",
      "Mean Absolute Error:         746183037.2424244\n",
      "Mean Squared Error:          8.317064509655095e+17\n",
      "\n",
      "Actual Regression Model Results:\n",
      "R-squared score:             0.721302921461923\n",
      "Explained Variance Score:    0.7305242779974269\n",
      "Mean Absolute Error:         377605384.7148455\n",
      "Mean Squared Error:          2.1165668166143174e+17\n",
      "\n",
      "Difference Between Regression Model and Baseline Model:\n",
      "R-squared score:             0.816445093520258\n",
      "Explained Variance Score:    0.7305242779974269\n",
      "Mean Absolute Error:         -368577652.5275789\n",
      "Mean Squared Error:          -6.200497693040778e+17\n"
     ]
    }
   ],
   "source": [
    "# Print the results.\n",
    "print('Baseline \"Dummy\" Model Results:')\n",
    "print(\"R-squared score:            \", dum_r2)\n",
    "print(\"Explained Variance Score:   \", dum_evs)\n",
    "print(\"Mean Absolute Error:        \", dum_mae)\n",
    "print(\"Mean Squared Error:         \", dum_mse)\n",
    "# Actual Model\n",
    "print()\n",
    "print('Actual Regression Model Results:')\n",
    "print(\"R-squared score:            \", r2)\n",
    "print(\"Explained Variance Score:   \", evs)\n",
    "print(\"Mean Absolute Error:        \", mae)\n",
    "print(\"Mean Squared Error:         \", mse)\n",
    "# Difference.\n",
    "print()\n",
    "print('Difference Between Regression Model and Baseline Model:')\n",
    "print(\"R-squared score:            \", diff_r2)\n",
    "print(\"Explained Variance Score:   \", diff_evs)\n",
    "print(\"Mean Absolute Error:        \", diff_mae)\n",
    "print(\"Mean Squared Error:         \", diff_mse)"
   ],
   "metadata": {
    "collapsed": false,
    "pycharm": {
     "name": "#%%\n"
    }
   }
  },
  {
   "cell_type": "markdown",
   "source": [
    "We can see from the results that this regression model performed significantly better than a baseline model.  The\n",
    "R-squared and Explained Variance scores were much higher, and the error values were much lower.  Moving forward,\n",
    "I will continue to explore different models and reduce my features to only those that contribute significant value\n",
    "to the models."
   ],
   "metadata": {
    "collapsed": false
   }
  }
 ],
 "metadata": {
  "kernelspec": {
   "name": "pycharm-2f3a5d6e",
   "language": "python",
   "display_name": "PyCharm (dsc550)"
  },
  "language_info": {
   "codemirror_mode": {
    "name": "ipython",
    "version": 2
   },
   "file_extension": ".py",
   "mimetype": "text/x-python",
   "name": "python",
   "nbconvert_exporter": "python",
   "pygments_lexer": "ipython2",
   "version": "2.7.6"
  }
 },
 "nbformat": 4,
 "nbformat_minor": 0
}