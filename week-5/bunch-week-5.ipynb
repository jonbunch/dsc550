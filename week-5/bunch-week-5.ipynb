{
  "cells": [
    {
      "cell_type": "markdown",
      "source": [
        "Jonathan Bunch\n",
        "\n",
        "3 October 2021\n",
        "\n",
        "Bellevue University\n",
        "\n",
        "DSC550-T301\n",
        "\n",
        "# Case Study:  Testing  Hypothesis\n",
        "\n",
        "Hypothesis:  Articles about Climate Change are more likely to be published by \"Liberal\" sources"
      ],
      "metadata": {
        "nteract": {
          "transient": {
            "deleting": false
          }
        }
      }
    },
    {
      "cell_type": "markdown",
      "source": [
        "### Step 1: Load data into a dataframe"
      ],
      "metadata": {
        "nteract": {
          "transient": {
            "deleting": false
          }
        }
      }
    },
    {
      "cell_type": "code",
      "source": [
        "import pandas as pd\n",
        "import numpy as np\n",
        "import matplotlib.pyplot as plt\n",
        "import string\n",
        "import re\n",
        "\n",
        "# Import data\n",
        "articles = pd.read_csv(\"articles1.csv\")"
      ],
      "outputs": [],
      "execution_count": 57,
      "metadata": {
        "collapsed": true,
        "jupyter": {
          "source_hidden": false,
          "outputs_hidden": false
        },
        "nteract": {
          "transient": {
            "deleting": false
          }
        },
        "execution": {
          "iopub.status.busy": "2021-10-04T01:53:39.811Z",
          "iopub.execute_input": "2021-10-04T01:53:39.823Z",
          "iopub.status.idle": "2021-10-04T01:53:42.713Z",
          "shell.execute_reply": "2021-10-04T01:53:42.805Z"
        }
      }
    },
    {
      "cell_type": "markdown",
      "source": [
        "### Step 2:  check the dimension of the table/look at the data"
      ],
      "metadata": {
        "nteract": {
          "transient": {
            "deleting": false
          }
        }
      }
    },
    {
      "cell_type": "code",
      "source": [
        "# Print the shape parameter of the dataframe.\n",
        "print(\"The dimensions of the table are: \", articles.shape)"
      ],
      "outputs": [
        {
          "output_type": "stream",
          "name": "stdout",
          "text": [
            "The dimensions of the table are:  (50000, 10)\n"
          ]
        }
      ],
      "execution_count": 58,
      "metadata": {
        "collapsed": true,
        "jupyter": {
          "source_hidden": false,
          "outputs_hidden": false
        },
        "nteract": {
          "transient": {
            "deleting": false
          }
        },
        "execution": {
          "iopub.status.busy": "2021-10-04T01:53:54.399Z",
          "iopub.execute_input": "2021-10-04T01:53:54.410Z",
          "iopub.status.idle": "2021-10-04T01:53:54.439Z",
          "shell.execute_reply": "2021-10-04T01:53:54.449Z"
        }
      }
    },
    {
      "cell_type": "code",
      "source": [
        "# Display the first few rows of the dataframe.\n",
        "articles.head()"
      ],
      "outputs": [
        {
          "output_type": "execute_result",
          "execution_count": 59,
          "data": {
            "text/plain": "   Unnamed: 0     id                                              title  \\\n0           0  17283  House Republicans Fret About Winning Their Hea...   \n1           1  17284  Rift Between Officers and Residents as Killing...   \n2           2  17285  Tyrus Wong, ‘Bambi’ Artist Thwarted by Racial ...   \n3           3  17286  Among Deaths in 2016, a Heavy Toll in Pop Musi...   \n4           4  17287  Kim Jong-un Says North Korea Is Preparing to T...   \n\n      publication                         author        date    year  month  \\\n0  New York Times                     Carl Hulse  2016-12-31  2016.0   12.0   \n1  New York Times  Benjamin Mueller and Al Baker  2017-06-19  2017.0    6.0   \n2  New York Times                   Margalit Fox  2017-01-06  2017.0    1.0   \n3  New York Times               William McDonald  2017-04-10  2017.0    4.0   \n4  New York Times                  Choe Sang-Hun  2017-01-02  2017.0    1.0   \n\n   url                                            content  \n0  NaN  WASHINGTON  —   Congressional Republicans have...  \n1  NaN  After the bullet shells get counted, the blood...  \n2  NaN  When Walt Disney’s “Bambi” opened in 1942, cri...  \n3  NaN  Death may be the great equalizer, but it isn’t...  \n4  NaN  SEOUL, South Korea  —   North Korea’s leader, ...  ",
            "text/html": "<div>\n<style scoped>\n    .dataframe tbody tr th:only-of-type {\n        vertical-align: middle;\n    }\n\n    .dataframe tbody tr th {\n        vertical-align: top;\n    }\n\n    .dataframe thead th {\n        text-align: right;\n    }\n</style>\n<table border=\"1\" class=\"dataframe\">\n  <thead>\n    <tr style=\"text-align: right;\">\n      <th></th>\n      <th>Unnamed: 0</th>\n      <th>id</th>\n      <th>title</th>\n      <th>publication</th>\n      <th>author</th>\n      <th>date</th>\n      <th>year</th>\n      <th>month</th>\n      <th>url</th>\n      <th>content</th>\n    </tr>\n  </thead>\n  <tbody>\n    <tr>\n      <th>0</th>\n      <td>0</td>\n      <td>17283</td>\n      <td>House Republicans Fret About Winning Their Hea...</td>\n      <td>New York Times</td>\n      <td>Carl Hulse</td>\n      <td>2016-12-31</td>\n      <td>2016.0</td>\n      <td>12.0</td>\n      <td>NaN</td>\n      <td>WASHINGTON  —   Congressional Republicans have...</td>\n    </tr>\n    <tr>\n      <th>1</th>\n      <td>1</td>\n      <td>17284</td>\n      <td>Rift Between Officers and Residents as Killing...</td>\n      <td>New York Times</td>\n      <td>Benjamin Mueller and Al Baker</td>\n      <td>2017-06-19</td>\n      <td>2017.0</td>\n      <td>6.0</td>\n      <td>NaN</td>\n      <td>After the bullet shells get counted, the blood...</td>\n    </tr>\n    <tr>\n      <th>2</th>\n      <td>2</td>\n      <td>17285</td>\n      <td>Tyrus Wong, ‘Bambi’ Artist Thwarted by Racial ...</td>\n      <td>New York Times</td>\n      <td>Margalit Fox</td>\n      <td>2017-01-06</td>\n      <td>2017.0</td>\n      <td>1.0</td>\n      <td>NaN</td>\n      <td>When Walt Disney’s “Bambi” opened in 1942, cri...</td>\n    </tr>\n    <tr>\n      <th>3</th>\n      <td>3</td>\n      <td>17286</td>\n      <td>Among Deaths in 2016, a Heavy Toll in Pop Musi...</td>\n      <td>New York Times</td>\n      <td>William McDonald</td>\n      <td>2017-04-10</td>\n      <td>2017.0</td>\n      <td>4.0</td>\n      <td>NaN</td>\n      <td>Death may be the great equalizer, but it isn’t...</td>\n    </tr>\n    <tr>\n      <th>4</th>\n      <td>4</td>\n      <td>17287</td>\n      <td>Kim Jong-un Says North Korea Is Preparing to T...</td>\n      <td>New York Times</td>\n      <td>Choe Sang-Hun</td>\n      <td>2017-01-02</td>\n      <td>2017.0</td>\n      <td>1.0</td>\n      <td>NaN</td>\n      <td>SEOUL, South Korea  —   North Korea’s leader, ...</td>\n    </tr>\n  </tbody>\n</table>\n</div>"
          },
          "metadata": {}
        }
      ],
      "execution_count": 59,
      "metadata": {
        "collapsed": true,
        "jupyter": {
          "source_hidden": false,
          "outputs_hidden": false
        },
        "nteract": {
          "transient": {
            "deleting": false
          }
        },
        "execution": {
          "iopub.status.busy": "2021-10-04T01:53:58.063Z",
          "iopub.execute_input": "2021-10-04T01:53:58.073Z",
          "iopub.status.idle": "2021-10-04T01:53:58.198Z",
          "shell.execute_reply": "2021-10-04T01:53:58.208Z"
        }
      }
    },
    {
      "cell_type": "code",
      "source": [
        "# Display some basic descriptive statistics for the dataframe.\n",
        "articles.describe()"
      ],
      "outputs": [
        {
          "output_type": "execute_result",
          "execution_count": 60,
          "data": {
            "text/plain": "         Unnamed: 0            id          year         month  url\ncount  50000.000000  50000.000000  50000.000000  50000.000000  0.0\nmean   25694.378380  44432.454800   2016.273700      5.508940  NaN\nstd    15350.143677  15773.615179      0.634694      3.333062  NaN\nmin        0.000000  17283.000000   2011.000000      1.000000  NaN\n25%    12500.750000  31236.750000   2016.000000      3.000000  NaN\n50%    25004.500000  43757.500000   2016.000000      5.000000  NaN\n75%    38630.250000  57479.250000   2017.000000      8.000000  NaN\nmax    53291.000000  73469.000000   2017.000000     12.000000  NaN",
            "text/html": "<div>\n<style scoped>\n    .dataframe tbody tr th:only-of-type {\n        vertical-align: middle;\n    }\n\n    .dataframe tbody tr th {\n        vertical-align: top;\n    }\n\n    .dataframe thead th {\n        text-align: right;\n    }\n</style>\n<table border=\"1\" class=\"dataframe\">\n  <thead>\n    <tr style=\"text-align: right;\">\n      <th></th>\n      <th>Unnamed: 0</th>\n      <th>id</th>\n      <th>year</th>\n      <th>month</th>\n      <th>url</th>\n    </tr>\n  </thead>\n  <tbody>\n    <tr>\n      <th>count</th>\n      <td>50000.000000</td>\n      <td>50000.000000</td>\n      <td>50000.000000</td>\n      <td>50000.000000</td>\n      <td>0.0</td>\n    </tr>\n    <tr>\n      <th>mean</th>\n      <td>25694.378380</td>\n      <td>44432.454800</td>\n      <td>2016.273700</td>\n      <td>5.508940</td>\n      <td>NaN</td>\n    </tr>\n    <tr>\n      <th>std</th>\n      <td>15350.143677</td>\n      <td>15773.615179</td>\n      <td>0.634694</td>\n      <td>3.333062</td>\n      <td>NaN</td>\n    </tr>\n    <tr>\n      <th>min</th>\n      <td>0.000000</td>\n      <td>17283.000000</td>\n      <td>2011.000000</td>\n      <td>1.000000</td>\n      <td>NaN</td>\n    </tr>\n    <tr>\n      <th>25%</th>\n      <td>12500.750000</td>\n      <td>31236.750000</td>\n      <td>2016.000000</td>\n      <td>3.000000</td>\n      <td>NaN</td>\n    </tr>\n    <tr>\n      <th>50%</th>\n      <td>25004.500000</td>\n      <td>43757.500000</td>\n      <td>2016.000000</td>\n      <td>5.000000</td>\n      <td>NaN</td>\n    </tr>\n    <tr>\n      <th>75%</th>\n      <td>38630.250000</td>\n      <td>57479.250000</td>\n      <td>2017.000000</td>\n      <td>8.000000</td>\n      <td>NaN</td>\n    </tr>\n    <tr>\n      <th>max</th>\n      <td>53291.000000</td>\n      <td>73469.000000</td>\n      <td>2017.000000</td>\n      <td>12.000000</td>\n      <td>NaN</td>\n    </tr>\n  </tbody>\n</table>\n</div>"
          },
          "metadata": {}
        }
      ],
      "execution_count": 60,
      "metadata": {
        "collapsed": true,
        "jupyter": {
          "source_hidden": false,
          "outputs_hidden": false
        },
        "nteract": {
          "transient": {
            "deleting": false
          }
        },
        "execution": {
          "iopub.status.busy": "2021-10-04T01:54:02.187Z",
          "iopub.execute_input": "2021-10-04T01:54:02.200Z",
          "iopub.status.idle": "2021-10-04T01:54:02.238Z",
          "shell.execute_reply": "2021-10-04T01:54:02.249Z"
        }
      }
    },
    {
      "cell_type": "code",
      "source": [
        "# Display the data types and non-null value counts for each column.\n",
        "articles.info()"
      ],
      "outputs": [
        {
          "output_type": "stream",
          "name": "stdout",
          "text": [
            "<class 'pandas.core.frame.DataFrame'>\n",
            "RangeIndex: 50000 entries, 0 to 49999\n",
            "Data columns (total 10 columns):\n",
            " #   Column       Non-Null Count  Dtype  \n",
            "---  ------       --------------  -----  \n",
            " 0   Unnamed: 0   50000 non-null  int64  \n",
            " 1   id           50000 non-null  int64  \n",
            " 2   title        50000 non-null  object \n",
            " 3   publication  50000 non-null  object \n",
            " 4   author       43694 non-null  object \n",
            " 5   date         50000 non-null  object \n",
            " 6   year         50000 non-null  float64\n",
            " 7   month        50000 non-null  float64\n",
            " 8   url          0 non-null      float64\n",
            " 9   content      50000 non-null  object \n",
            "dtypes: float64(3), int64(2), object(5)\n",
            "memory usage: 3.8+ MB\n"
          ]
        }
      ],
      "execution_count": 61,
      "metadata": {
        "collapsed": true,
        "jupyter": {
          "source_hidden": false,
          "outputs_hidden": false
        },
        "nteract": {
          "transient": {
            "deleting": false
          }
        },
        "execution": {
          "iopub.status.busy": "2021-10-04T01:54:06.892Z",
          "iopub.execute_input": "2021-10-04T01:54:06.904Z",
          "iopub.status.idle": "2021-10-04T01:54:06.930Z",
          "shell.execute_reply": "2021-10-04T01:54:06.940Z"
        }
      }
    },
    {
      "cell_type": "code",
      "source": [
        "# These methods can also be applied to individual columns.\n",
        "#display min, max of years published\n",
        "articles.year.describe()"
      ],
      "outputs": [
        {
          "output_type": "execute_result",
          "execution_count": 62,
          "data": {
            "text/plain": "count    50000.000000\nmean      2016.273700\nstd          0.634694\nmin       2011.000000\n25%       2016.000000\n50%       2016.000000\n75%       2017.000000\nmax       2017.000000\nName: year, dtype: float64"
          },
          "metadata": {}
        }
      ],
      "execution_count": 62,
      "metadata": {
        "collapsed": true,
        "jupyter": {
          "source_hidden": false,
          "outputs_hidden": false
        },
        "nteract": {
          "transient": {
            "deleting": false
          }
        },
        "execution": {
          "iopub.status.busy": "2021-10-04T01:54:13.427Z",
          "iopub.execute_input": "2021-10-04T01:54:13.439Z",
          "iopub.status.idle": "2021-10-04T01:54:13.468Z",
          "shell.execute_reply": "2021-10-04T01:54:13.479Z"
        }
      }
    },
    {
      "cell_type": "code",
      "source": [
        "#display length of data\n",
        "# We have seen this value in several of the previous steps, but we can also display it explicitly.\n",
        "print(\"Length of the dataframe: \", len(articles), \"\\n\")\n",
        "\n",
        "#display publishers (publications)\n",
        "# The unique() method returns all of the unique values in the column.\n",
        "print(\"Unique values for publisher: \", articles.publication.unique(), \"\\n\")\n",
        "\n",
        "#display how many articles from each year\n",
        "# The value_counts() method returns a count of each unique value for the specified column.\n",
        "print(\"Article counts for each year:\")\n",
        "print(articles.year.value_counts())\n"
      ],
      "outputs": [
        {
          "output_type": "stream",
          "name": "stdout",
          "text": [
            "Length of the dataframe:  50000 \n",
            "\n",
            "Unique values for publisher:  ['New York Times' 'Breitbart' 'CNN' 'Business Insider' 'Atlantic'] \n",
            "\n",
            "Article counts for each year:\n",
            "2016.0    28451\n",
            "2017.0    17908\n",
            "2015.0     3326\n",
            "2013.0      212\n",
            "2014.0       76\n",
            "2012.0       26\n",
            "2011.0        1\n",
            "Name: year, dtype: int64\n"
          ]
        }
      ],
      "execution_count": 65,
      "metadata": {
        "collapsed": true,
        "jupyter": {
          "source_hidden": false,
          "outputs_hidden": false
        },
        "nteract": {
          "transient": {
            "deleting": false
          }
        },
        "execution": {
          "iopub.status.busy": "2021-10-04T01:54:25.458Z",
          "iopub.execute_input": "2021-10-04T01:54:25.469Z",
          "iopub.status.idle": "2021-10-04T01:54:25.495Z",
          "shell.execute_reply": "2021-10-04T01:54:25.505Z"
        }
      }
    },
    {
      "cell_type": "markdown",
      "source": [
        "### Step 3:  Create some bar charts to show articles"
      ],
      "metadata": {
        "nteract": {
          "transient": {
            "deleting": false
          }
        }
      }
    },
    {
      "cell_type": "code",
      "source": [
        "#display bar chart of articles sorted by Publication Name\n",
        "# I decided to use a horizontal bar plot since the publisher names are fairly long.\n",
        "# Use the sorted value index for the y axis. I used ascending=False to display it in the desired direction.\n",
        "y = articles.publication.value_counts().sort_index(ascending=False).index\n",
        "# Use the matching count values for the x axis.\n",
        "x = articles.publication.value_counts().sort_index(ascending=False).values\n",
        "# Create and label the plot\n",
        "plt.barh(y=y, width=x)\n",
        "plt.title(\"Article Count Sorted by Publication Name\")\n",
        "plt.xlabel(\"Count\")\n",
        "plt.ylabel(\"Publication\")\n",
        "plt.show()"
      ],
      "outputs": [
        {
          "output_type": "display_data",
          "data": {
            "text/plain": "<Figure size 432x288 with 1 Axes>",
            "image/png": "[encoded data removed]"
          },
          "metadata": {
            "needs_background": "light"
          }
        }
      ],
      "execution_count": 66,
      "metadata": {
        "collapsed": true,
        "jupyter": {
          "source_hidden": false,
          "outputs_hidden": false
        },
        "nteract": {
          "transient": {
            "deleting": false
          }
        },
        "execution": {
          "iopub.status.busy": "2021-10-04T01:54:38.577Z",
          "iopub.execute_input": "2021-10-04T01:54:38.588Z",
          "iopub.status.idle": "2021-10-04T01:54:38.780Z",
          "shell.execute_reply": "2021-10-04T01:54:38.806Z"
        }
      }
    },
    {
      "cell_type": "code",
      "source": [
        "#display bar chart of articles sorted by counts\n",
        "# Use the sorted value index for the y axis.\n",
        "y = articles.publication.value_counts(ascending=True).index\n",
        "# Use the matching count values for the x axis.\n",
        "x = articles.publication.value_counts(ascending=True).values\n",
        "# Create and label the plot\n",
        "plt.barh(y=y, width=x)\n",
        "plt.title(\"Article Count Sorted by Count Value\")\n",
        "plt.xlabel(\"Count\")\n",
        "plt.ylabel(\"Publication\")\n",
        "plt.show()"
      ],
      "outputs": [
        {
          "output_type": "display_data",
          "data": {
            "text/plain": "<Figure size 432x288 with 1 Axes>",
            "image/png": "[encoded data removed]"
          },
          "metadata": {
            "needs_background": "light"
          }
        }
      ],
      "execution_count": 67,
      "metadata": {
        "collapsed": true,
        "jupyter": {
          "source_hidden": false,
          "outputs_hidden": false
        },
        "nteract": {
          "transient": {
            "deleting": false
          }
        },
        "execution": {
          "iopub.status.busy": "2021-10-04T01:54:57.720Z",
          "iopub.execute_input": "2021-10-04T01:54:57.741Z",
          "iopub.status.idle": "2021-10-04T01:54:57.930Z",
          "shell.execute_reply": "2021-10-04T01:54:57.950Z"
        }
      }
    },
    {
      "cell_type": "markdown",
      "source": [
        "### Step 4:  clean text:  no punctuation/all lowercase"
      ],
      "metadata": {
        "nteract": {
          "transient": {
            "deleting": false
          }
        }
      }
    },
    {
      "cell_type": "code",
      "source": [
        "# Define the text cleaning function.\n",
        "def clean_text(article):\n",
        "    clean1 = re.sub(r'['+string.punctuation + '’—”'+']', \"\", article.lower())\n",
        "    return re.sub(r'\\W+', ' ', clean1)\n",
        "\n",
        "# Create a new column with the cleaned text.\n",
        "articles['clean_content'] = articles['content'].apply(clean_text)\n",
        "articles.clean_content.head()"
      ],
      "outputs": [
        {
          "output_type": "execute_result",
          "execution_count": 68,
          "data": {
            "text/plain": "0    washington congressional republicans have a ne...\n1    after the bullet shells get counted the blood ...\n2    when walt disneys bambi opened in 1942 critics...\n3    death may be the great equalizer but it isnt n...\n4    seoul south korea north koreas leader kim said...\nName: clean_content, dtype: object"
          },
          "metadata": {}
        }
      ],
      "execution_count": 68,
      "metadata": {
        "collapsed": true,
        "jupyter": {
          "source_hidden": false,
          "outputs_hidden": false
        },
        "nteract": {
          "transient": {
            "deleting": false
          }
        },
        "execution": {
          "iopub.status.busy": "2021-10-04T01:55:13.737Z",
          "iopub.execute_input": "2021-10-04T01:55:13.777Z",
          "iopub.status.idle": "2021-10-04T01:55:31.687Z",
          "shell.execute_reply": "2021-10-04T01:55:31.705Z"
        }
      }
    },
    {
      "cell_type": "code",
      "source": [
        "#look at mean, min, max article lengths\n",
        "# Create a function to split the content into words and count them.\n",
        "def word_count(content):\n",
        "    cs = content.split()\n",
        "    return len(cs)\n",
        "\n",
        "# Create a new column for the word count.\n",
        "articles['word_count'] = articles['clean_content'].apply(word_count)\n",
        "articles.word_count.head()"
      ],
      "outputs": [
        {
          "output_type": "execute_result",
          "execution_count": 69,
          "data": {
            "text/plain": "0     876\n1    4743\n2    2350\n3    2104\n4     690\nName: word_count, dtype: int64"
          },
          "metadata": {}
        }
      ],
      "execution_count": 69,
      "metadata": {
        "collapsed": true,
        "jupyter": {
          "source_hidden": false,
          "outputs_hidden": false
        },
        "nteract": {
          "transient": {
            "deleting": false
          }
        },
        "execution": {
          "iopub.status.busy": "2021-10-04T01:55:41.996Z",
          "iopub.execute_input": "2021-10-04T01:55:42.017Z",
          "iopub.status.idle": "2021-10-04T01:55:44.075Z",
          "shell.execute_reply": "2021-10-04T01:55:44.095Z"
        }
      }
    },
    {
      "cell_type": "code",
      "source": [
        "#look at mean, min, max article lengths\n",
        "articles.word_count.describe()"
      ],
      "outputs": [
        {
          "output_type": "execute_result",
          "execution_count": 70,
          "data": {
            "text/plain": "count    50000.000000\nmean       636.260460\nstd        644.856619\nmin          0.000000\n25%        275.000000\n50%        468.000000\n75%        832.000000\nmax      24736.000000\nName: word_count, dtype: float64"
          },
          "metadata": {}
        }
      ],
      "execution_count": 70,
      "metadata": {
        "collapsed": true,
        "jupyter": {
          "source_hidden": false,
          "outputs_hidden": false
        },
        "nteract": {
          "transient": {
            "deleting": false
          }
        },
        "execution": {
          "iopub.status.busy": "2021-10-04T01:55:50.772Z",
          "iopub.execute_input": "2021-10-04T01:55:50.783Z",
          "iopub.status.idle": "2021-10-04T01:55:50.807Z",
          "shell.execute_reply": "2021-10-04T01:55:50.818Z"
        }
      }
    },
    {
      "cell_type": "markdown",
      "source": [
        "### Step 5:  remove articles with no words"
      ],
      "metadata": {
        "nteract": {
          "transient": {
            "deleting": false
          }
        }
      }
    },
    {
      "cell_type": "code",
      "source": [
        "# First, lets see how many articles have a word count of zero.\n",
        "print(len(articles[articles['word_count'] == 0]))\n",
        "# Filter the dataframe to keep only observations with a word count greater than zero.\n",
        "articles = articles[articles['word_count'] > 0]\n",
        "# Display the new descriptives for the filtered dataframe.\n",
        "articles.word_count.describe()"
      ],
      "outputs": [
        {
          "output_type": "stream",
          "name": "stdout",
          "text": [
            "0\n"
          ]
        },
        {
          "output_type": "execute_result",
          "execution_count": 73,
          "data": {
            "text/plain": "count    49935.000000\nmean       637.088675\nstd        644.867203\nmin          1.000000\n25%        276.000000\n50%        469.000000\n75%        833.000000\nmax      24736.000000\nName: word_count, dtype: float64"
          },
          "metadata": {}
        }
      ],
      "execution_count": 73,
      "metadata": {
        "collapsed": true,
        "jupyter": {
          "source_hidden": false,
          "outputs_hidden": false
        },
        "nteract": {
          "transient": {
            "deleting": false
          }
        },
        "execution": {
          "iopub.status.busy": "2021-10-04T01:57:13.832Z",
          "iopub.execute_input": "2021-10-04T01:57:13.841Z",
          "iopub.status.idle": "2021-10-04T01:57:13.874Z",
          "shell.execute_reply": "2021-10-04T01:57:13.884Z"
        }
      }
    },
    {
      "cell_type": "markdown",
      "source": [
        "### Step 6:  Check for Outliers:  show bar graph of outliers"
      ],
      "metadata": {
        "nteract": {
          "transient": {
            "deleting": false
          }
        }
      }
    },
    {
      "cell_type": "code",
      "source": [
        "plt.hist(x=articles.word_count, bins=50)\n",
        "plt.title(\"Article Length in Words\")\n",
        "plt.xlabel(\"Number of Words\")\n",
        "plt.ylabel(\"Frequency\")"
      ],
      "outputs": [
        {
          "output_type": "execute_result",
          "execution_count": 85,
          "data": {
            "text/plain": "Text(0, 0.5, 'Frequency')"
          },
          "metadata": {}
        },
        {
          "output_type": "display_data",
          "data": {
            "text/plain": "<Figure size 432x288 with 1 Axes>",
            "image/png": "[encoded data removed]"
          },
          "metadata": {
            "needs_background": "light"
          }
        }
      ],
      "execution_count": 85,
      "metadata": {
        "collapsed": true,
        "jupyter": {
          "source_hidden": false,
          "outputs_hidden": false
        },
        "nteract": {
          "transient": {
            "deleting": false
          }
        },
        "execution": {
          "iopub.status.busy": "2021-10-04T02:02:38.132Z",
          "iopub.execute_input": "2021-10-04T02:02:38.145Z",
          "iopub.status.idle": "2021-10-04T02:02:38.427Z",
          "shell.execute_reply": "2021-10-04T02:02:38.447Z"
        }
      }
    }
  ],
  "metadata": {
    "kernel_info": {
      "name": "python3"
    },
    "language_info": {
      "name": "python",
      "version": "3.8.5",
      "mimetype": "text/x-python",
      "codemirror_mode": {
        "name": "ipython",
        "version": 3
      },
      "pygments_lexer": "ipython3",
      "nbconvert_exporter": "python",
      "file_extension": ".py"
    },
    "kernelspec": {
      "argv": [
        "/Users/jonathanbunch/anaconda3/bin/python3",
        "-m",
        "ipykernel_launcher",
        "-f",
        "{connection_file}"
      ],
      "display_name": "Python 3",
      "language": "python",
      "name": "python3"
    },
    "nteract": {
      "version": "0.28.0"
    }
  },
  "nbformat": 4,
  "nbformat_minor": 0
}