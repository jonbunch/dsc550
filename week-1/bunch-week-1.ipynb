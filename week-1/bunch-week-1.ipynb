{
 "cells": [
  {
   "cell_type": "markdown",
   "metadata": {},
   "source": [
    "# Jonathan Bunch\n",
    "\n",
    "2 September 2021\n",
    "\n",
    "Bellevue University\n",
    "\n",
    "DSC550-T301\n",
    "\n",
    "---\n",
    "\n",
    "# Week 1 Exercises: 2D Arrays"
   ]
  },
  {
   "cell_type": "code",
   "execution_count": 1,
   "metadata": {},
   "outputs": [],
   "source": [
    "# Import libraries.\n",
    "import numpy as np\n",
    "import pandas as pd\n",
    "\n",
    "# Set a seed value for repeatability.\n",
    "np.random.seed(17)"
   ]
  },
  {
   "cell_type": "markdown",
   "metadata": {},
   "source": [
    "### 1. Create an array of size [10,50] and use the random function to fill it with integers between 1 and 500 (inclusive). Load it to a DataFrame."
   ]
  },
  {
   "cell_type": "code",
   "execution_count": 2,
   "metadata": {},
   "outputs": [
    {
     "name": "stdout",
     "output_type": "stream",
     "text": [
      "Shape of array: (10, 50) \n",
      "Min Value: 1 \n",
      "Max Value: 500\n"
     ]
    },
    {
     "data": {
      "text/plain": "    0    1    2    3    4    5    6    7    8    9   ...   40   41   42   43  \\\n0  112  242  144  391  407  314  241  430  279   32  ...  167    3   45  439   \n1  307   50   61  378    9  436  284  499  380  472  ...   22   13  146  282   \n2  318  356  316  290  304  142  263   46  254  111  ...  278  424  318  164   \n\n    44   45   46   47   48   49  \n0  378  142   57  284  235  340  \n1  364  213   90  376  132   75  \n2  116   90  399  409  312  406  \n\n[3 rows x 50 columns]",
      "text/html": "<div>\n<style scoped>\n    .dataframe tbody tr th:only-of-type {\n        vertical-align: middle;\n    }\n\n    .dataframe tbody tr th {\n        vertical-align: top;\n    }\n\n    .dataframe thead th {\n        text-align: right;\n    }\n</style>\n<table border=\"1\" class=\"dataframe\">\n  <thead>\n    <tr style=\"text-align: right;\">\n      <th></th>\n      <th>0</th>\n      <th>1</th>\n      <th>2</th>\n      <th>3</th>\n      <th>4</th>\n      <th>5</th>\n      <th>6</th>\n      <th>7</th>\n      <th>8</th>\n      <th>9</th>\n      <th>...</th>\n      <th>40</th>\n      <th>41</th>\n      <th>42</th>\n      <th>43</th>\n      <th>44</th>\n      <th>45</th>\n      <th>46</th>\n      <th>47</th>\n      <th>48</th>\n      <th>49</th>\n    </tr>\n  </thead>\n  <tbody>\n    <tr>\n      <th>0</th>\n      <td>112</td>\n      <td>242</td>\n      <td>144</td>\n      <td>391</td>\n      <td>407</td>\n      <td>314</td>\n      <td>241</td>\n      <td>430</td>\n      <td>279</td>\n      <td>32</td>\n      <td>...</td>\n      <td>167</td>\n      <td>3</td>\n      <td>45</td>\n      <td>439</td>\n      <td>378</td>\n      <td>142</td>\n      <td>57</td>\n      <td>284</td>\n      <td>235</td>\n      <td>340</td>\n    </tr>\n    <tr>\n      <th>1</th>\n      <td>307</td>\n      <td>50</td>\n      <td>61</td>\n      <td>378</td>\n      <td>9</td>\n      <td>436</td>\n      <td>284</td>\n      <td>499</td>\n      <td>380</td>\n      <td>472</td>\n      <td>...</td>\n      <td>22</td>\n      <td>13</td>\n      <td>146</td>\n      <td>282</td>\n      <td>364</td>\n      <td>213</td>\n      <td>90</td>\n      <td>376</td>\n      <td>132</td>\n      <td>75</td>\n    </tr>\n    <tr>\n      <th>2</th>\n      <td>318</td>\n      <td>356</td>\n      <td>316</td>\n      <td>290</td>\n      <td>304</td>\n      <td>142</td>\n      <td>263</td>\n      <td>46</td>\n      <td>254</td>\n      <td>111</td>\n      <td>...</td>\n      <td>278</td>\n      <td>424</td>\n      <td>318</td>\n      <td>164</td>\n      <td>116</td>\n      <td>90</td>\n      <td>399</td>\n      <td>409</td>\n      <td>312</td>\n      <td>406</td>\n    </tr>\n  </tbody>\n</table>\n<p>3 rows × 50 columns</p>\n</div>"
     },
     "execution_count": 2,
     "metadata": {},
     "output_type": "execute_result"
    }
   ],
   "source": [
    "# Naturally, there are many ways to accomplish these tasks.  I think the simplest is to use the \"randint()\" method.\n",
    "# This will create an array of the specified size and fill it with the specified random integers.\n",
    "a1 = np.random.randint(low=1, high=501, size=(10, 50))\n",
    "\n",
    "# Check the results.\n",
    "print(\"Shape of array:\", a1.shape, \"\\nMin Value:\", a1.min(), \"\\nMax Value:\", a1.max())\n",
    "\n",
    "# Load the array into a DataFrame.\n",
    "df = pd.DataFrame(a1)\n",
    "\n",
    "# View the first few rows to make sure it matches what is expected.\n",
    "df.head(3)"
   ]
  },
  {
   "cell_type": "markdown",
   "metadata": {},
   "source": [
    "### 2. Calculate the sum of each row; the sum of each column; and the sum of all entries."
   ]
  },
  {
   "cell_type": "code",
   "execution_count": 3,
   "metadata": {},
   "outputs": [
    {
     "name": "stdout",
     "output_type": "stream",
     "text": [
      "Sum of each row:\n"
     ]
    },
    {
     "data": {
      "text/plain": "0    12821\n1    12361\n2    12238\n3    13888\n4    11678\ndtype: int64"
     },
     "execution_count": 3,
     "metadata": {},
     "output_type": "execute_result"
    }
   ],
   "source": [
    "# We can use the \"sum()\" method to calculate these values. In this case, the \"axis\" parameter determines the\n",
    "# axis that will be aggregated. To calculate the sum of each row, we want to aggregate the column values (axis 1).\n",
    "print(\"Sum of each row:\")\n",
    "df.sum(axis=1).head()"
   ]
  },
  {
   "cell_type": "code",
   "execution_count": 4,
   "metadata": {},
   "outputs": [
    {
     "name": "stdout",
     "output_type": "stream",
     "text": [
      "Sum of each column:\n"
     ]
    },
    {
     "data": {
      "text/plain": "0    2940\n1    3077\n2    2875\n3    2415\n4    3007\ndtype: int64"
     },
     "execution_count": 4,
     "metadata": {},
     "output_type": "execute_result"
    }
   ],
   "source": [
    "# The sum of each column can be calculated using the same method across the other axis.\n",
    "print(\"Sum of each column:\")\n",
    "df.sum(axis=0).head()"
   ]
  },
  {
   "cell_type": "code",
   "execution_count": 5,
   "metadata": {},
   "outputs": [
    {
     "name": "stdout",
     "output_type": "stream",
     "text": [
      "Sum of all entries:\n"
     ]
    },
    {
     "data": {
      "text/plain": "126656"
     },
     "execution_count": 5,
     "metadata": {},
     "output_type": "execute_result"
    }
   ],
   "source": [
    "# One way to calculate the sum of all entries is to use the \".values\" attribute of the dataframe.\n",
    "print(\"Sum of all entries:\")\n",
    "df.values.sum()"
   ]
  },
  {
   "cell_type": "markdown",
   "metadata": {},
   "source": [
    "### 3. Determine the minimum; maximum; average; and standard deviation of all entries."
   ]
  },
  {
   "cell_type": "code",
   "execution_count": 6,
   "metadata": {},
   "outputs": [
    {
     "data": {
      "text/plain": "               0           1          2       3           4           5   \\\ncount   10.000000   10.000000   10.00000   10.00   10.000000   10.000000   \nmean   294.000000  307.700000  287.50000  241.50  300.700000  317.600000   \nstd    141.198835  152.826009  145.28994  112.51  130.222929  115.998276   \nmin     76.000000   50.000000   61.00000   46.00    9.000000  142.000000   \n25%    178.500000  197.250000  181.75000  159.75  256.750000  215.750000   \n50%    312.500000  299.000000  320.00000  240.00  321.500000  357.500000   \n75%    394.250000  437.500000  373.25000  335.00  392.500000  402.500000   \nmax    491.000000  500.000000  461.00000  391.00  454.000000  436.000000   \n\n              6           7           8           9   ...          40  \\\ncount   10.00000   10.000000   10.000000   10.000000  ...   10.000000   \nmean   294.00000  258.300000  248.300000  221.500000  ...  179.400000   \nstd    126.55697  184.274584  139.909534  195.353383  ...   92.730434   \nmin     62.00000    9.000000   44.000000   32.000000  ...   22.000000   \n25%    246.50000   75.250000  136.000000   71.750000  ...  108.250000   \n50%    283.50000  294.000000  235.000000  106.000000  ...  183.000000   \n75%    383.00000  415.000000  354.750000  423.000000  ...  264.500000   \nmax    498.00000  499.000000  473.000000  488.000000  ...  278.000000   \n\n               41          42          43          44          45          46  \\\ncount   10.000000   10.000000   10.000000   10.000000   10.000000   10.000000   \nmean   186.500000  280.100000  265.300000  260.700000  234.000000  183.900000   \nstd    172.932389  169.874104  139.001239  144.009298   98.946675  136.964269   \nmin      3.000000   45.000000   23.000000   23.000000   90.000000   57.000000   \n25%     26.750000  148.500000  173.000000  130.500000  174.500000   86.250000   \n50%    169.000000  300.000000  282.500000  297.000000  222.000000  118.000000   \n75%    267.500000  445.750000  346.250000  374.500000  283.000000  267.000000   \nmax    484.000000  474.000000  457.000000  431.000000  440.000000  419.000000   \n\n               47          48          49  \ncount   10.000000   10.000000   10.000000  \nmean   255.200000  326.200000  305.800000  \nstd    136.000654  102.473628  154.172919  \nmin     29.000000  132.000000   75.000000  \n25%    136.000000  259.500000  166.000000  \n50%    281.500000  335.500000  350.500000  \n75%    365.250000  411.750000  418.000000  \nmax    409.000000  451.000000  477.000000  \n\n[8 rows x 50 columns]",
      "text/html": "<div>\n<style scoped>\n    .dataframe tbody tr th:only-of-type {\n        vertical-align: middle;\n    }\n\n    .dataframe tbody tr th {\n        vertical-align: top;\n    }\n\n    .dataframe thead th {\n        text-align: right;\n    }\n</style>\n<table border=\"1\" class=\"dataframe\">\n  <thead>\n    <tr style=\"text-align: right;\">\n      <th></th>\n      <th>0</th>\n      <th>1</th>\n      <th>2</th>\n      <th>3</th>\n      <th>4</th>\n      <th>5</th>\n      <th>6</th>\n      <th>7</th>\n      <th>8</th>\n      <th>9</th>\n      <th>...</th>\n      <th>40</th>\n      <th>41</th>\n      <th>42</th>\n      <th>43</th>\n      <th>44</th>\n      <th>45</th>\n      <th>46</th>\n      <th>47</th>\n      <th>48</th>\n      <th>49</th>\n    </tr>\n  </thead>\n  <tbody>\n    <tr>\n      <th>count</th>\n      <td>10.000000</td>\n      <td>10.000000</td>\n      <td>10.00000</td>\n      <td>10.00</td>\n      <td>10.000000</td>\n      <td>10.000000</td>\n      <td>10.00000</td>\n      <td>10.000000</td>\n      <td>10.000000</td>\n      <td>10.000000</td>\n      <td>...</td>\n      <td>10.000000</td>\n      <td>10.000000</td>\n      <td>10.000000</td>\n      <td>10.000000</td>\n      <td>10.000000</td>\n      <td>10.000000</td>\n      <td>10.000000</td>\n      <td>10.000000</td>\n      <td>10.000000</td>\n      <td>10.000000</td>\n    </tr>\n    <tr>\n      <th>mean</th>\n      <td>294.000000</td>\n      <td>307.700000</td>\n      <td>287.50000</td>\n      <td>241.50</td>\n      <td>300.700000</td>\n      <td>317.600000</td>\n      <td>294.00000</td>\n      <td>258.300000</td>\n      <td>248.300000</td>\n      <td>221.500000</td>\n      <td>...</td>\n      <td>179.400000</td>\n      <td>186.500000</td>\n      <td>280.100000</td>\n      <td>265.300000</td>\n      <td>260.700000</td>\n      <td>234.000000</td>\n      <td>183.900000</td>\n      <td>255.200000</td>\n      <td>326.200000</td>\n      <td>305.800000</td>\n    </tr>\n    <tr>\n      <th>std</th>\n      <td>141.198835</td>\n      <td>152.826009</td>\n      <td>145.28994</td>\n      <td>112.51</td>\n      <td>130.222929</td>\n      <td>115.998276</td>\n      <td>126.55697</td>\n      <td>184.274584</td>\n      <td>139.909534</td>\n      <td>195.353383</td>\n      <td>...</td>\n      <td>92.730434</td>\n      <td>172.932389</td>\n      <td>169.874104</td>\n      <td>139.001239</td>\n      <td>144.009298</td>\n      <td>98.946675</td>\n      <td>136.964269</td>\n      <td>136.000654</td>\n      <td>102.473628</td>\n      <td>154.172919</td>\n    </tr>\n    <tr>\n      <th>min</th>\n      <td>76.000000</td>\n      <td>50.000000</td>\n      <td>61.00000</td>\n      <td>46.00</td>\n      <td>9.000000</td>\n      <td>142.000000</td>\n      <td>62.00000</td>\n      <td>9.000000</td>\n      <td>44.000000</td>\n      <td>32.000000</td>\n      <td>...</td>\n      <td>22.000000</td>\n      <td>3.000000</td>\n      <td>45.000000</td>\n      <td>23.000000</td>\n      <td>23.000000</td>\n      <td>90.000000</td>\n      <td>57.000000</td>\n      <td>29.000000</td>\n      <td>132.000000</td>\n      <td>75.000000</td>\n    </tr>\n    <tr>\n      <th>25%</th>\n      <td>178.500000</td>\n      <td>197.250000</td>\n      <td>181.75000</td>\n      <td>159.75</td>\n      <td>256.750000</td>\n      <td>215.750000</td>\n      <td>246.50000</td>\n      <td>75.250000</td>\n      <td>136.000000</td>\n      <td>71.750000</td>\n      <td>...</td>\n      <td>108.250000</td>\n      <td>26.750000</td>\n      <td>148.500000</td>\n      <td>173.000000</td>\n      <td>130.500000</td>\n      <td>174.500000</td>\n      <td>86.250000</td>\n      <td>136.000000</td>\n      <td>259.500000</td>\n      <td>166.000000</td>\n    </tr>\n    <tr>\n      <th>50%</th>\n      <td>312.500000</td>\n      <td>299.000000</td>\n      <td>320.00000</td>\n      <td>240.00</td>\n      <td>321.500000</td>\n      <td>357.500000</td>\n      <td>283.50000</td>\n      <td>294.000000</td>\n      <td>235.000000</td>\n      <td>106.000000</td>\n      <td>...</td>\n      <td>183.000000</td>\n      <td>169.000000</td>\n      <td>300.000000</td>\n      <td>282.500000</td>\n      <td>297.000000</td>\n      <td>222.000000</td>\n      <td>118.000000</td>\n      <td>281.500000</td>\n      <td>335.500000</td>\n      <td>350.500000</td>\n    </tr>\n    <tr>\n      <th>75%</th>\n      <td>394.250000</td>\n      <td>437.500000</td>\n      <td>373.25000</td>\n      <td>335.00</td>\n      <td>392.500000</td>\n      <td>402.500000</td>\n      <td>383.00000</td>\n      <td>415.000000</td>\n      <td>354.750000</td>\n      <td>423.000000</td>\n      <td>...</td>\n      <td>264.500000</td>\n      <td>267.500000</td>\n      <td>445.750000</td>\n      <td>346.250000</td>\n      <td>374.500000</td>\n      <td>283.000000</td>\n      <td>267.000000</td>\n      <td>365.250000</td>\n      <td>411.750000</td>\n      <td>418.000000</td>\n    </tr>\n    <tr>\n      <th>max</th>\n      <td>491.000000</td>\n      <td>500.000000</td>\n      <td>461.00000</td>\n      <td>391.00</td>\n      <td>454.000000</td>\n      <td>436.000000</td>\n      <td>498.00000</td>\n      <td>499.000000</td>\n      <td>473.000000</td>\n      <td>488.000000</td>\n      <td>...</td>\n      <td>278.000000</td>\n      <td>484.000000</td>\n      <td>474.000000</td>\n      <td>457.000000</td>\n      <td>431.000000</td>\n      <td>440.000000</td>\n      <td>419.000000</td>\n      <td>409.000000</td>\n      <td>451.000000</td>\n      <td>477.000000</td>\n    </tr>\n  </tbody>\n</table>\n<p>8 rows × 50 columns</p>\n</div>"
     },
     "execution_count": 6,
     "metadata": {},
     "output_type": "execute_result"
    }
   ],
   "source": [
    "# Summary statistics can be conveniently calculated for each column using the \"describe\" method.\n",
    "df.describe()"
   ]
  },
  {
   "cell_type": "code",
   "execution_count": 7,
   "metadata": {},
   "outputs": [
    {
     "data": {
      "text/plain": "count     50.000000\nmean     256.420000\nstd      152.920827\nmin        3.000000\n25%      142.500000\n50%      265.000000\n75%      389.000000\nmax      495.000000\nName: 0, dtype: float64"
     },
     "execution_count": 7,
     "metadata": {},
     "output_type": "execute_result"
    }
   ],
   "source": [
    "# This method can also be applied to subsets or slices. For example, the first row.\n",
    "df.iloc[0, :].describe()"
   ]
  },
  {
   "cell_type": "code",
   "execution_count": 8,
   "metadata": {},
   "outputs": [
    {
     "name": "stdout",
     "output_type": "stream",
     "text": [
      "Overall min: 1\n",
      "Overall max: 500\n",
      "Overall mean: 253.312\n",
      "Overall standard deviation: 145.55258381767052\n"
     ]
    }
   ],
   "source": [
    "# We can use the \".values\" attribute again to calculate these statistics for all entries.\n",
    "print(\"Overall min:\", df.values.min())\n",
    "print(\"Overall max:\", df.values.max())\n",
    "print(\"Overall mean:\", df.values.mean())\n",
    "print(\"Overall standard deviation:\", df.values.std())"
   ]
  },
  {
   "cell_type": "markdown",
   "metadata": {},
   "source": [
    "### 4. Sort the DataFrame: a) sort on column 2; b) sort on row 2."
   ]
  },
  {
   "cell_type": "code",
   "execution_count": 13,
   "metadata": {},
   "outputs": [
    {
     "data": {
      "text/plain": "    0    1    2    3    4    5    6    7    8    9   ...   40   41   42   43  \\\n1  307   50   61  378    9  436  284  499  380  472  ...   22   13  146  282   \n6  141  500   78  180  307  406  416    9   44  381  ...   75  159  156  335   \n0  112  242  144  391  407  314  241  430  279   32  ...  167    3   45  439   \n7  377  456  295  350  454  156  329  163  413  101  ...  263  484  469   23   \n2  318  356  316  290  304  142  263   46  254  111  ...  278  424  318  164   \n8  427  382  324  235  241  392   62  269  119  488  ...  274  268  464  120   \n9  291  177  365   46  413  183  498  319  216   86  ...  160   50  474  200   \n4  400  234  376  147  349  392  283   33  187   40  ...  265  179  282  350   \n3  491  185  455  245  187  323  163  370  473   67  ...   91   19  391  457   \n5   76  495  461  153  336  432  401  445  118  437  ...  199  266   56  283   \n\n    44   45   46   47   48   49  \n1  364  213   90  376  132   75  \n6  117  296   85   97  359  422  \n0  378  142   57  284  235  340  \n7  431  244   85  395  288   93  \n2  116   90  399  409  312  406  \n8  322  314  104  279  438  477  \n9  413  440  168   29  451  460  \n4   23  206  132  333  372  361  \n3  171  231  300   97  250  304  \n5  272  164  419  253  425  120  \n\n[10 rows x 50 columns]",
      "text/html": "<div>\n<style scoped>\n    .dataframe tbody tr th:only-of-type {\n        vertical-align: middle;\n    }\n\n    .dataframe tbody tr th {\n        vertical-align: top;\n    }\n\n    .dataframe thead th {\n        text-align: right;\n    }\n</style>\n<table border=\"1\" class=\"dataframe\">\n  <thead>\n    <tr style=\"text-align: right;\">\n      <th></th>\n      <th>0</th>\n      <th>1</th>\n      <th>2</th>\n      <th>3</th>\n      <th>4</th>\n      <th>5</th>\n      <th>6</th>\n      <th>7</th>\n      <th>8</th>\n      <th>9</th>\n      <th>...</th>\n      <th>40</th>\n      <th>41</th>\n      <th>42</th>\n      <th>43</th>\n      <th>44</th>\n      <th>45</th>\n      <th>46</th>\n      <th>47</th>\n      <th>48</th>\n      <th>49</th>\n    </tr>\n  </thead>\n  <tbody>\n    <tr>\n      <th>1</th>\n      <td>307</td>\n      <td>50</td>\n      <td>61</td>\n      <td>378</td>\n      <td>9</td>\n      <td>436</td>\n      <td>284</td>\n      <td>499</td>\n      <td>380</td>\n      <td>472</td>\n      <td>...</td>\n      <td>22</td>\n      <td>13</td>\n      <td>146</td>\n      <td>282</td>\n      <td>364</td>\n      <td>213</td>\n      <td>90</td>\n      <td>376</td>\n      <td>132</td>\n      <td>75</td>\n    </tr>\n    <tr>\n      <th>6</th>\n      <td>141</td>\n      <td>500</td>\n      <td>78</td>\n      <td>180</td>\n      <td>307</td>\n      <td>406</td>\n      <td>416</td>\n      <td>9</td>\n      <td>44</td>\n      <td>381</td>\n      <td>...</td>\n      <td>75</td>\n      <td>159</td>\n      <td>156</td>\n      <td>335</td>\n      <td>117</td>\n      <td>296</td>\n      <td>85</td>\n      <td>97</td>\n      <td>359</td>\n      <td>422</td>\n    </tr>\n    <tr>\n      <th>0</th>\n      <td>112</td>\n      <td>242</td>\n      <td>144</td>\n      <td>391</td>\n      <td>407</td>\n      <td>314</td>\n      <td>241</td>\n      <td>430</td>\n      <td>279</td>\n      <td>32</td>\n      <td>...</td>\n      <td>167</td>\n      <td>3</td>\n      <td>45</td>\n      <td>439</td>\n      <td>378</td>\n      <td>142</td>\n      <td>57</td>\n      <td>284</td>\n      <td>235</td>\n      <td>340</td>\n    </tr>\n    <tr>\n      <th>7</th>\n      <td>377</td>\n      <td>456</td>\n      <td>295</td>\n      <td>350</td>\n      <td>454</td>\n      <td>156</td>\n      <td>329</td>\n      <td>163</td>\n      <td>413</td>\n      <td>101</td>\n      <td>...</td>\n      <td>263</td>\n      <td>484</td>\n      <td>469</td>\n      <td>23</td>\n      <td>431</td>\n      <td>244</td>\n      <td>85</td>\n      <td>395</td>\n      <td>288</td>\n      <td>93</td>\n    </tr>\n    <tr>\n      <th>2</th>\n      <td>318</td>\n      <td>356</td>\n      <td>316</td>\n      <td>290</td>\n      <td>304</td>\n      <td>142</td>\n      <td>263</td>\n      <td>46</td>\n      <td>254</td>\n      <td>111</td>\n      <td>...</td>\n      <td>278</td>\n      <td>424</td>\n      <td>318</td>\n      <td>164</td>\n      <td>116</td>\n      <td>90</td>\n      <td>399</td>\n      <td>409</td>\n      <td>312</td>\n      <td>406</td>\n    </tr>\n    <tr>\n      <th>8</th>\n      <td>427</td>\n      <td>382</td>\n      <td>324</td>\n      <td>235</td>\n      <td>241</td>\n      <td>392</td>\n      <td>62</td>\n      <td>269</td>\n      <td>119</td>\n      <td>488</td>\n      <td>...</td>\n      <td>274</td>\n      <td>268</td>\n      <td>464</td>\n      <td>120</td>\n      <td>322</td>\n      <td>314</td>\n      <td>104</td>\n      <td>279</td>\n      <td>438</td>\n      <td>477</td>\n    </tr>\n    <tr>\n      <th>9</th>\n      <td>291</td>\n      <td>177</td>\n      <td>365</td>\n      <td>46</td>\n      <td>413</td>\n      <td>183</td>\n      <td>498</td>\n      <td>319</td>\n      <td>216</td>\n      <td>86</td>\n      <td>...</td>\n      <td>160</td>\n      <td>50</td>\n      <td>474</td>\n      <td>200</td>\n      <td>413</td>\n      <td>440</td>\n      <td>168</td>\n      <td>29</td>\n      <td>451</td>\n      <td>460</td>\n    </tr>\n    <tr>\n      <th>4</th>\n      <td>400</td>\n      <td>234</td>\n      <td>376</td>\n      <td>147</td>\n      <td>349</td>\n      <td>392</td>\n      <td>283</td>\n      <td>33</td>\n      <td>187</td>\n      <td>40</td>\n      <td>...</td>\n      <td>265</td>\n      <td>179</td>\n      <td>282</td>\n      <td>350</td>\n      <td>23</td>\n      <td>206</td>\n      <td>132</td>\n      <td>333</td>\n      <td>372</td>\n      <td>361</td>\n    </tr>\n    <tr>\n      <th>3</th>\n      <td>491</td>\n      <td>185</td>\n      <td>455</td>\n      <td>245</td>\n      <td>187</td>\n      <td>323</td>\n      <td>163</td>\n      <td>370</td>\n      <td>473</td>\n      <td>67</td>\n      <td>...</td>\n      <td>91</td>\n      <td>19</td>\n      <td>391</td>\n      <td>457</td>\n      <td>171</td>\n      <td>231</td>\n      <td>300</td>\n      <td>97</td>\n      <td>250</td>\n      <td>304</td>\n    </tr>\n    <tr>\n      <th>5</th>\n      <td>76</td>\n      <td>495</td>\n      <td>461</td>\n      <td>153</td>\n      <td>336</td>\n      <td>432</td>\n      <td>401</td>\n      <td>445</td>\n      <td>118</td>\n      <td>437</td>\n      <td>...</td>\n      <td>199</td>\n      <td>266</td>\n      <td>56</td>\n      <td>283</td>\n      <td>272</td>\n      <td>164</td>\n      <td>419</td>\n      <td>253</td>\n      <td>425</td>\n      <td>120</td>\n    </tr>\n  </tbody>\n</table>\n<p>10 rows × 50 columns</p>\n</div>"
     },
     "execution_count": 13,
     "metadata": {},
     "output_type": "execute_result"
    }
   ],
   "source": [
    "# Sort the dataframe on column 2.\n",
    "df.sort_values(by=2, axis=0)"
   ]
  },
  {
   "cell_type": "code",
   "execution_count": 14,
   "outputs": [
    {
     "data": {
      "text/plain": "    18   16   26   12   7    35   45   30   9    44  ...   1    23   25   46  \\\n0   42  239  167  469  430  434  142   31   32  378  ...  242  320  476   57   \n1  203  464  277   27  499  180  213  229  472  364  ...   50   73  461   90   \n2   11   25   41   44   46   67   90  107  111  116  ...  356  384  389  399   \n3  362  364  461  405  370  455  231  121   67  171  ...  185  161  250  300   \n4  494   58  381    2   33  105  206  374   40   23  ...  234   67  219  132   \n5   25  344  276  261  445  481  164  320  437  272  ...  495   27  435  419   \n6    1  338  388   27    9   48  296   48  381  117  ...  500  129   89   85   \n7  150  219  375  375  163  467  244  129  101  431  ...  456  330  117   85   \n8   25  158  259  267  269  111  314   94  488  322  ...  382  360   91  104   \n9  257  142  454    5  319  268  440  390   86  413  ...  177  369  373  168   \n\n    19   49   47   41   11   37  \n0  185  340  284    3   40  318  \n1    3   75  376   13  492  142  \n2  403  406  409  424  431  443  \n3  195  304   97   19  336  470  \n4  128  361  333  179  345  240  \n5  308  120  253  266  218  169  \n6  414  422   97  159   11  105  \n7  326   93  395  484  410  172  \n8  246  477  279  268  450  120  \n9  260  460   29   50  317  222  \n\n[10 rows x 50 columns]",
      "text/html": "<div>\n<style scoped>\n    .dataframe tbody tr th:only-of-type {\n        vertical-align: middle;\n    }\n\n    .dataframe tbody tr th {\n        vertical-align: top;\n    }\n\n    .dataframe thead th {\n        text-align: right;\n    }\n</style>\n<table border=\"1\" class=\"dataframe\">\n  <thead>\n    <tr style=\"text-align: right;\">\n      <th></th>\n      <th>18</th>\n      <th>16</th>\n      <th>26</th>\n      <th>12</th>\n      <th>7</th>\n      <th>35</th>\n      <th>45</th>\n      <th>30</th>\n      <th>9</th>\n      <th>44</th>\n      <th>...</th>\n      <th>1</th>\n      <th>23</th>\n      <th>25</th>\n      <th>46</th>\n      <th>19</th>\n      <th>49</th>\n      <th>47</th>\n      <th>41</th>\n      <th>11</th>\n      <th>37</th>\n    </tr>\n  </thead>\n  <tbody>\n    <tr>\n      <th>0</th>\n      <td>42</td>\n      <td>239</td>\n      <td>167</td>\n      <td>469</td>\n      <td>430</td>\n      <td>434</td>\n      <td>142</td>\n      <td>31</td>\n      <td>32</td>\n      <td>378</td>\n      <td>...</td>\n      <td>242</td>\n      <td>320</td>\n      <td>476</td>\n      <td>57</td>\n      <td>185</td>\n      <td>340</td>\n      <td>284</td>\n      <td>3</td>\n      <td>40</td>\n      <td>318</td>\n    </tr>\n    <tr>\n      <th>1</th>\n      <td>203</td>\n      <td>464</td>\n      <td>277</td>\n      <td>27</td>\n      <td>499</td>\n      <td>180</td>\n      <td>213</td>\n      <td>229</td>\n      <td>472</td>\n      <td>364</td>\n      <td>...</td>\n      <td>50</td>\n      <td>73</td>\n      <td>461</td>\n      <td>90</td>\n      <td>3</td>\n      <td>75</td>\n      <td>376</td>\n      <td>13</td>\n      <td>492</td>\n      <td>142</td>\n    </tr>\n    <tr>\n      <th>2</th>\n      <td>11</td>\n      <td>25</td>\n      <td>41</td>\n      <td>44</td>\n      <td>46</td>\n      <td>67</td>\n      <td>90</td>\n      <td>107</td>\n      <td>111</td>\n      <td>116</td>\n      <td>...</td>\n      <td>356</td>\n      <td>384</td>\n      <td>389</td>\n      <td>399</td>\n      <td>403</td>\n      <td>406</td>\n      <td>409</td>\n      <td>424</td>\n      <td>431</td>\n      <td>443</td>\n    </tr>\n    <tr>\n      <th>3</th>\n      <td>362</td>\n      <td>364</td>\n      <td>461</td>\n      <td>405</td>\n      <td>370</td>\n      <td>455</td>\n      <td>231</td>\n      <td>121</td>\n      <td>67</td>\n      <td>171</td>\n      <td>...</td>\n      <td>185</td>\n      <td>161</td>\n      <td>250</td>\n      <td>300</td>\n      <td>195</td>\n      <td>304</td>\n      <td>97</td>\n      <td>19</td>\n      <td>336</td>\n      <td>470</td>\n    </tr>\n    <tr>\n      <th>4</th>\n      <td>494</td>\n      <td>58</td>\n      <td>381</td>\n      <td>2</td>\n      <td>33</td>\n      <td>105</td>\n      <td>206</td>\n      <td>374</td>\n      <td>40</td>\n      <td>23</td>\n      <td>...</td>\n      <td>234</td>\n      <td>67</td>\n      <td>219</td>\n      <td>132</td>\n      <td>128</td>\n      <td>361</td>\n      <td>333</td>\n      <td>179</td>\n      <td>345</td>\n      <td>240</td>\n    </tr>\n    <tr>\n      <th>5</th>\n      <td>25</td>\n      <td>344</td>\n      <td>276</td>\n      <td>261</td>\n      <td>445</td>\n      <td>481</td>\n      <td>164</td>\n      <td>320</td>\n      <td>437</td>\n      <td>272</td>\n      <td>...</td>\n      <td>495</td>\n      <td>27</td>\n      <td>435</td>\n      <td>419</td>\n      <td>308</td>\n      <td>120</td>\n      <td>253</td>\n      <td>266</td>\n      <td>218</td>\n      <td>169</td>\n    </tr>\n    <tr>\n      <th>6</th>\n      <td>1</td>\n      <td>338</td>\n      <td>388</td>\n      <td>27</td>\n      <td>9</td>\n      <td>48</td>\n      <td>296</td>\n      <td>48</td>\n      <td>381</td>\n      <td>117</td>\n      <td>...</td>\n      <td>500</td>\n      <td>129</td>\n      <td>89</td>\n      <td>85</td>\n      <td>414</td>\n      <td>422</td>\n      <td>97</td>\n      <td>159</td>\n      <td>11</td>\n      <td>105</td>\n    </tr>\n    <tr>\n      <th>7</th>\n      <td>150</td>\n      <td>219</td>\n      <td>375</td>\n      <td>375</td>\n      <td>163</td>\n      <td>467</td>\n      <td>244</td>\n      <td>129</td>\n      <td>101</td>\n      <td>431</td>\n      <td>...</td>\n      <td>456</td>\n      <td>330</td>\n      <td>117</td>\n      <td>85</td>\n      <td>326</td>\n      <td>93</td>\n      <td>395</td>\n      <td>484</td>\n      <td>410</td>\n      <td>172</td>\n    </tr>\n    <tr>\n      <th>8</th>\n      <td>25</td>\n      <td>158</td>\n      <td>259</td>\n      <td>267</td>\n      <td>269</td>\n      <td>111</td>\n      <td>314</td>\n      <td>94</td>\n      <td>488</td>\n      <td>322</td>\n      <td>...</td>\n      <td>382</td>\n      <td>360</td>\n      <td>91</td>\n      <td>104</td>\n      <td>246</td>\n      <td>477</td>\n      <td>279</td>\n      <td>268</td>\n      <td>450</td>\n      <td>120</td>\n    </tr>\n    <tr>\n      <th>9</th>\n      <td>257</td>\n      <td>142</td>\n      <td>454</td>\n      <td>5</td>\n      <td>319</td>\n      <td>268</td>\n      <td>440</td>\n      <td>390</td>\n      <td>86</td>\n      <td>413</td>\n      <td>...</td>\n      <td>177</td>\n      <td>369</td>\n      <td>373</td>\n      <td>168</td>\n      <td>260</td>\n      <td>460</td>\n      <td>29</td>\n      <td>50</td>\n      <td>317</td>\n      <td>222</td>\n    </tr>\n  </tbody>\n</table>\n<p>10 rows × 50 columns</p>\n</div>"
     },
     "execution_count": 14,
     "metadata": {},
     "output_type": "execute_result"
    }
   ],
   "source": [
    "# Sort the dataframe on row 2.\n",
    "df.sort_values(by=2, axis=1)\n"
   ],
   "metadata": {
    "collapsed": false,
    "pycharm": {
     "name": "#%%\n"
    }
   }
  }
 ],
 "metadata": {
  "kernelspec": {
   "display_name": "Python 3",
   "language": "python",
   "name": "python3"
  },
  "language_info": {
   "codemirror_mode": {
    "name": "ipython",
    "version": 3
   },
   "file_extension": ".py",
   "mimetype": "text/x-python",
   "name": "python",
   "nbconvert_exporter": "python",
   "pygments_lexer": "ipython3",
   "version": "3.8.5"
  }
 },
 "nbformat": 4,
 "nbformat_minor": 4
}