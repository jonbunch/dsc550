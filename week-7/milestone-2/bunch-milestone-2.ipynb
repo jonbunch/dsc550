{
 "cells": [
  {
   "cell_type": "markdown",
   "metadata": {
    "collapsed": true,
    "pycharm": {
     "name": "#%% md\n"
    }
   },
   "source": [
    "### Jonathan Bunch\n",
    "\n",
    "17 October 2021\n",
    "\n",
    "Bellevue University\n",
    "\n",
    "DSC550-T301\n",
    "\n",
    "---\n",
    "\n",
    "# Final Project Milestone Two\n",
    "\n",
    "Based on the feedback from milestone one, I will look for patterns in the features within my original Disney movie\n",
    "profits dataset.  I may revisit additional datasets later, but for now I will attempt to model movie profits based on\n",
    "the other features present in this dataset: realease date, genre, and MPAA rating."
   ]
  },
  {
   "cell_type": "code",
   "execution_count": 2,
   "outputs": [],
   "source": [
    "import pandas as pd\n",
    "import numpy as np\n",
    "\n",
    "# Import my dataset.\n",
    "disney_raw = pd.read_csv(\"disney_movies_total_gross.csv\")"
   ],
   "metadata": {
    "collapsed": false,
    "pycharm": {
     "name": "#%%\n"
    }
   }
  },
  {
   "cell_type": "code",
   "execution_count": 3,
   "outputs": [
    {
     "data": {
      "text/plain": "                       movie_title release_date      genre mpaa_rating  \\\n0  Snow White and the Seven Dwarfs   1937-12-21    Musical           G   \n1                        Pinocchio   1940-02-09  Adventure           G   \n2                         Fantasia   1940-11-13    Musical           G   \n3                Song of the South   1946-11-12  Adventure           G   \n4                       Cinderella   1950-02-15      Drama           G   \n\n   total_gross  inflation_adjusted_gross  \n0    184925485                5228953251  \n1     84300000                2188229052  \n2     83320000                2187090808  \n3     65000000                1078510579  \n4     85000000                 920608730  ",
      "text/html": "<div>\n<style scoped>\n    .dataframe tbody tr th:only-of-type {\n        vertical-align: middle;\n    }\n\n    .dataframe tbody tr th {\n        vertical-align: top;\n    }\n\n    .dataframe thead th {\n        text-align: right;\n    }\n</style>\n<table border=\"1\" class=\"dataframe\">\n  <thead>\n    <tr style=\"text-align: right;\">\n      <th></th>\n      <th>movie_title</th>\n      <th>release_date</th>\n      <th>genre</th>\n      <th>mpaa_rating</th>\n      <th>total_gross</th>\n      <th>inflation_adjusted_gross</th>\n    </tr>\n  </thead>\n  <tbody>\n    <tr>\n      <th>0</th>\n      <td>Snow White and the Seven Dwarfs</td>\n      <td>1937-12-21</td>\n      <td>Musical</td>\n      <td>G</td>\n      <td>184925485</td>\n      <td>5228953251</td>\n    </tr>\n    <tr>\n      <th>1</th>\n      <td>Pinocchio</td>\n      <td>1940-02-09</td>\n      <td>Adventure</td>\n      <td>G</td>\n      <td>84300000</td>\n      <td>2188229052</td>\n    </tr>\n    <tr>\n      <th>2</th>\n      <td>Fantasia</td>\n      <td>1940-11-13</td>\n      <td>Musical</td>\n      <td>G</td>\n      <td>83320000</td>\n      <td>2187090808</td>\n    </tr>\n    <tr>\n      <th>3</th>\n      <td>Song of the South</td>\n      <td>1946-11-12</td>\n      <td>Adventure</td>\n      <td>G</td>\n      <td>65000000</td>\n      <td>1078510579</td>\n    </tr>\n    <tr>\n      <th>4</th>\n      <td>Cinderella</td>\n      <td>1950-02-15</td>\n      <td>Drama</td>\n      <td>G</td>\n      <td>85000000</td>\n      <td>920608730</td>\n    </tr>\n  </tbody>\n</table>\n</div>"
     },
     "execution_count": 3,
     "metadata": {},
     "output_type": "execute_result"
    }
   ],
   "source": [
    "# Take a look at the raw dataset.\n",
    "disney_raw.head()"
   ],
   "metadata": {
    "collapsed": false,
    "pycharm": {
     "name": "#%%\n"
    }
   }
  },
  {
   "cell_type": "markdown",
   "source": [
    "Looking at the raw dataset, there are several features that I would like to remove and/or simplify.  For starters, the\n",
    "movie_title feature is probably not useful for this analysis. It seems strange to remove what I would consider one of\n",
    "the most important features for human interpretability, but it would probably only cause confusion in the context of\n",
    "preparing these data for machine learning algorithms."
   ],
   "metadata": {
    "collapsed": false
   }
  },
  {
   "cell_type": "code",
   "execution_count": 4,
   "outputs": [
    {
     "data": {
      "text/plain": "  release_date      genre mpaa_rating  total_gross  inflation_adjusted_gross\n0   1937-12-21    Musical           G    184925485                5228953251\n1   1940-02-09  Adventure           G     84300000                2188229052\n2   1940-11-13    Musical           G     83320000                2187090808\n3   1946-11-12  Adventure           G     65000000                1078510579\n4   1950-02-15      Drama           G     85000000                 920608730",
      "text/html": "<div>\n<style scoped>\n    .dataframe tbody tr th:only-of-type {\n        vertical-align: middle;\n    }\n\n    .dataframe tbody tr th {\n        vertical-align: top;\n    }\n\n    .dataframe thead th {\n        text-align: right;\n    }\n</style>\n<table border=\"1\" class=\"dataframe\">\n  <thead>\n    <tr style=\"text-align: right;\">\n      <th></th>\n      <th>release_date</th>\n      <th>genre</th>\n      <th>mpaa_rating</th>\n      <th>total_gross</th>\n      <th>inflation_adjusted_gross</th>\n    </tr>\n  </thead>\n  <tbody>\n    <tr>\n      <th>0</th>\n      <td>1937-12-21</td>\n      <td>Musical</td>\n      <td>G</td>\n      <td>184925485</td>\n      <td>5228953251</td>\n    </tr>\n    <tr>\n      <th>1</th>\n      <td>1940-02-09</td>\n      <td>Adventure</td>\n      <td>G</td>\n      <td>84300000</td>\n      <td>2188229052</td>\n    </tr>\n    <tr>\n      <th>2</th>\n      <td>1940-11-13</td>\n      <td>Musical</td>\n      <td>G</td>\n      <td>83320000</td>\n      <td>2187090808</td>\n    </tr>\n    <tr>\n      <th>3</th>\n      <td>1946-11-12</td>\n      <td>Adventure</td>\n      <td>G</td>\n      <td>65000000</td>\n      <td>1078510579</td>\n    </tr>\n    <tr>\n      <th>4</th>\n      <td>1950-02-15</td>\n      <td>Drama</td>\n      <td>G</td>\n      <td>85000000</td>\n      <td>920608730</td>\n    </tr>\n  </tbody>\n</table>\n</div>"
     },
     "execution_count": 4,
     "metadata": {},
     "output_type": "execute_result"
    }
   ],
   "source": [
    "# Make a copy of the dataset to work with.\n",
    "ddf1 = disney_raw.copy()\n",
    "# Drop the movie_title feature.\n",
    "ddf1 = ddf1.drop(columns='movie_title')\n",
    "# Check the results.\n",
    "ddf1.head()"
   ],
   "metadata": {
    "collapsed": false,
    "pycharm": {
     "name": "#%%\n"
    }
   }
  },
  {
   "cell_type": "markdown",
   "source": [
    "The other feature I want to remove is \"total_gross\".  This feature represents the dollar amount of the gross profits,\n",
    "without any kind of adjustment for inflation. I beleive using non-adjusted profits from such a large span of time could\n",
    "create a false correlation between time and profit, as well as potentially introducing other complications. Luckily,\n",
    "the data set already includes and adjusted profit feature, which shoud alleviate many of these issues."
   ],
   "metadata": {
    "collapsed": false,
    "pycharm": {
     "name": "#%% md\n"
    }
   }
  },
  {
   "cell_type": "code",
   "execution_count": 5,
   "outputs": [
    {
     "data": {
      "text/plain": "  release_date      genre mpaa_rating  inflation_adjusted_gross\n0   1937-12-21    Musical           G                5228953251\n1   1940-02-09  Adventure           G                2188229052\n2   1940-11-13    Musical           G                2187090808\n3   1946-11-12  Adventure           G                1078510579\n4   1950-02-15      Drama           G                 920608730",
      "text/html": "<div>\n<style scoped>\n    .dataframe tbody tr th:only-of-type {\n        vertical-align: middle;\n    }\n\n    .dataframe tbody tr th {\n        vertical-align: top;\n    }\n\n    .dataframe thead th {\n        text-align: right;\n    }\n</style>\n<table border=\"1\" class=\"dataframe\">\n  <thead>\n    <tr style=\"text-align: right;\">\n      <th></th>\n      <th>release_date</th>\n      <th>genre</th>\n      <th>mpaa_rating</th>\n      <th>inflation_adjusted_gross</th>\n    </tr>\n  </thead>\n  <tbody>\n    <tr>\n      <th>0</th>\n      <td>1937-12-21</td>\n      <td>Musical</td>\n      <td>G</td>\n      <td>5228953251</td>\n    </tr>\n    <tr>\n      <th>1</th>\n      <td>1940-02-09</td>\n      <td>Adventure</td>\n      <td>G</td>\n      <td>2188229052</td>\n    </tr>\n    <tr>\n      <th>2</th>\n      <td>1940-11-13</td>\n      <td>Musical</td>\n      <td>G</td>\n      <td>2187090808</td>\n    </tr>\n    <tr>\n      <th>3</th>\n      <td>1946-11-12</td>\n      <td>Adventure</td>\n      <td>G</td>\n      <td>1078510579</td>\n    </tr>\n    <tr>\n      <th>4</th>\n      <td>1950-02-15</td>\n      <td>Drama</td>\n      <td>G</td>\n      <td>920608730</td>\n    </tr>\n  </tbody>\n</table>\n</div>"
     },
     "execution_count": 5,
     "metadata": {},
     "output_type": "execute_result"
    }
   ],
   "source": [
    "# Drop the non-adjusted profits feature.\n",
    "ddf1 = ddf1.drop(columns='total_gross')\n",
    "# Check the results.\n",
    "ddf1.head()"
   ],
   "metadata": {
    "collapsed": false,
    "pycharm": {
     "name": "#%%\n"
    }
   }
  },
  {
   "cell_type": "markdown",
   "source": [
    "Next, I want to work on the release_date feature.  The date is relevant to my analysis, but I only plan to use the\n",
    "year portion.  I will extract the year and drop the month-day portion."
   ],
   "metadata": {
    "collapsed": false
   }
  },
  {
   "cell_type": "code",
   "execution_count": 6,
   "outputs": [
    {
     "data": {
      "text/plain": "       genre mpaa_rating  inflation_adjusted_gross  year\n0    Musical           G                5228953251  1937\n1  Adventure           G                2188229052  1940\n2    Musical           G                2187090808  1940\n3  Adventure           G                1078510579  1946\n4      Drama           G                 920608730  1950",
      "text/html": "<div>\n<style scoped>\n    .dataframe tbody tr th:only-of-type {\n        vertical-align: middle;\n    }\n\n    .dataframe tbody tr th {\n        vertical-align: top;\n    }\n\n    .dataframe thead th {\n        text-align: right;\n    }\n</style>\n<table border=\"1\" class=\"dataframe\">\n  <thead>\n    <tr style=\"text-align: right;\">\n      <th></th>\n      <th>genre</th>\n      <th>mpaa_rating</th>\n      <th>inflation_adjusted_gross</th>\n      <th>year</th>\n    </tr>\n  </thead>\n  <tbody>\n    <tr>\n      <th>0</th>\n      <td>Musical</td>\n      <td>G</td>\n      <td>5228953251</td>\n      <td>1937</td>\n    </tr>\n    <tr>\n      <th>1</th>\n      <td>Adventure</td>\n      <td>G</td>\n      <td>2188229052</td>\n      <td>1940</td>\n    </tr>\n    <tr>\n      <th>2</th>\n      <td>Musical</td>\n      <td>G</td>\n      <td>2187090808</td>\n      <td>1940</td>\n    </tr>\n    <tr>\n      <th>3</th>\n      <td>Adventure</td>\n      <td>G</td>\n      <td>1078510579</td>\n      <td>1946</td>\n    </tr>\n    <tr>\n      <th>4</th>\n      <td>Drama</td>\n      <td>G</td>\n      <td>920608730</td>\n      <td>1950</td>\n    </tr>\n  </tbody>\n</table>\n</div>"
     },
     "execution_count": 6,
     "metadata": {},
     "output_type": "execute_result"
    }
   ],
   "source": [
    "# I will start by converting the release_date feature to a datetime data type.\n",
    "ddf1.release_date = ddf1.release_date.astype(np.datetime64)\n",
    "# Now we can easily extract the year portion and assign it to a new column.\n",
    "ddf1['year'] = ddf1.release_date.apply(lambda x: x.year)\n",
    "# Finally, we can drop the original date column.\n",
    "ddf1 = ddf1.drop(columns='release_date')\n",
    "# Check the results.\n",
    "ddf1.head()"
   ],
   "metadata": {
    "collapsed": false,
    "pycharm": {
     "name": "#%%\n"
    }
   }
  },
  {
   "cell_type": "markdown",
   "source": [
    "Next, I will address the missing values in some of my features. I also noticed some zero values in the adjusted\n",
    "profits feature, which, in this context, is essentially the same as a missing value."
   ],
   "metadata": {
    "collapsed": false
   }
  },
  {
   "cell_type": "code",
   "execution_count": 7,
   "outputs": [
    {
     "data": {
      "text/plain": "genre                       17\nmpaa_rating                 56\ninflation_adjusted_gross     0\nyear                         0\ndtype: int64"
     },
     "execution_count": 7,
     "metadata": {},
     "output_type": "execute_result"
    }
   ],
   "source": [
    "ddf1.isna().sum()"
   ],
   "metadata": {
    "collapsed": false,
    "pycharm": {
     "name": "#%%\n"
    }
   }
  },
  {
   "cell_type": "code",
   "execution_count": 8,
   "outputs": [
    {
     "data": {
      "text/plain": "4"
     },
     "execution_count": 8,
     "metadata": {},
     "output_type": "execute_result"
    }
   ],
   "source": [
    "sum(ddf1.inflation_adjusted_gross == 0)"
   ],
   "metadata": {
    "collapsed": false,
    "pycharm": {
     "name": "#%%\n"
    }
   }
  },
  {
   "cell_type": "markdown",
   "source": [
    "It looks like we are missing relatively few values in the profit and genre feature, but more than a few in the\n",
    "mpaa_rating feature.  The observations that are missing the profit data are not useful and should be dropped."
   ],
   "metadata": {
    "collapsed": false
   }
  },
  {
   "cell_type": "code",
   "execution_count": 9,
   "outputs": [],
   "source": [
    "ddf1 = ddf1[ddf1.inflation_adjusted_gross != 0]"
   ],
   "metadata": {
    "collapsed": false,
    "pycharm": {
     "name": "#%%\n"
    }
   }
  },
  {
   "cell_type": "markdown",
   "source": [
    "I think that any observations that are missing both the genre and rating will not contain enough information\n",
    "to be useful, so I will drop those as well."
   ],
   "metadata": {
    "collapsed": false
   }
  },
  {
   "cell_type": "code",
   "execution_count": 10,
   "outputs": [
    {
     "data": {
      "text/plain": "genre                       10\nmpaa_rating                 47\ninflation_adjusted_gross     0\nyear                         0\ndtype: int64"
     },
     "execution_count": 10,
     "metadata": {},
     "output_type": "execute_result"
    }
   ],
   "source": [
    "# Drop observations that are missing values for all of the specified subset of features.\n",
    "ddf1 = ddf1.dropna(subset=['genre', 'mpaa_rating'], how='all')\n",
    "# Check the missing values again.\n",
    "ddf1.isna().sum()"
   ],
   "metadata": {
    "collapsed": false,
    "pycharm": {
     "name": "#%%\n"
    }
   }
  },
  {
   "cell_type": "markdown",
   "source": [
    "Unfortunately, we still have 57 observations that are missing either the genre or the rating value. In this context\n",
    "it would probably not make much sense to attempt to calculate a fill value, since these values are presumably not\n",
    "related to the values of any of the other features aside from the target. Therefore, I will drop these observations."
   ],
   "metadata": {
    "collapsed": false
   }
  },
  {
   "cell_type": "code",
   "execution_count": 11,
   "outputs": [
    {
     "data": {
      "text/plain": "genre                       0\nmpaa_rating                 0\ninflation_adjusted_gross    0\nyear                        0\ndtype: int64"
     },
     "execution_count": 11,
     "metadata": {},
     "output_type": "execute_result"
    }
   ],
   "source": [
    "ddf1 = ddf1.dropna()\n",
    "# Check the results.\n",
    "ddf1.isna().sum()"
   ],
   "metadata": {
    "collapsed": false,
    "pycharm": {
     "name": "#%%\n"
    }
   }
  },
  {
   "cell_type": "markdown",
   "source": [
    "Now that we have only the features of interest, and NA values have been addressed, I will create dummy variables for\n",
    "the genre and rating features."
   ],
   "metadata": {
    "collapsed": false
   }
  },
  {
   "cell_type": "code",
   "execution_count": 14,
   "outputs": [
    {
     "data": {
      "text/plain": "   inflation_adjusted_gross  year  genre_Action  genre_Adventure  \\\n0                5228953251  1937             0                0   \n1                2188229052  1940             0                1   \n2                2187090808  1940             0                0   \n3                1078510579  1946             0                1   \n4                 920608730  1950             0                0   \n\n   genre_Black Comedy  genre_Comedy  genre_Concert/Performance  \\\n0                   0             0                          0   \n1                   0             0                          0   \n2                   0             0                          0   \n3                   0             0                          0   \n4                   0             0                          0   \n\n   genre_Documentary  genre_Drama  genre_Horror  genre_Musical  \\\n0                  0            0             0              1   \n1                  0            0             0              0   \n2                  0            0             0              1   \n3                  0            0             0              0   \n4                  0            1             0              0   \n\n   genre_Romantic Comedy  genre_Thriller/Suspense  genre_Western  \\\n0                      0                        0              0   \n1                      0                        0              0   \n2                      0                        0              0   \n3                      0                        0              0   \n4                      0                        0              0   \n\n   mpaa_rating_G  mpaa_rating_Not Rated  mpaa_rating_PG  mpaa_rating_PG-13  \\\n0              1                      0               0                  0   \n1              1                      0               0                  0   \n2              1                      0               0                  0   \n3              1                      0               0                  0   \n4              1                      0               0                  0   \n\n   mpaa_rating_R  \n0              0  \n1              0  \n2              0  \n3              0  \n4              0  ",
      "text/html": "<div>\n<style scoped>\n    .dataframe tbody tr th:only-of-type {\n        vertical-align: middle;\n    }\n\n    .dataframe tbody tr th {\n        vertical-align: top;\n    }\n\n    .dataframe thead th {\n        text-align: right;\n    }\n</style>\n<table border=\"1\" class=\"dataframe\">\n  <thead>\n    <tr style=\"text-align: right;\">\n      <th></th>\n      <th>inflation_adjusted_gross</th>\n      <th>year</th>\n      <th>genre_Action</th>\n      <th>genre_Adventure</th>\n      <th>genre_Black Comedy</th>\n      <th>genre_Comedy</th>\n      <th>genre_Concert/Performance</th>\n      <th>genre_Documentary</th>\n      <th>genre_Drama</th>\n      <th>genre_Horror</th>\n      <th>genre_Musical</th>\n      <th>genre_Romantic Comedy</th>\n      <th>genre_Thriller/Suspense</th>\n      <th>genre_Western</th>\n      <th>mpaa_rating_G</th>\n      <th>mpaa_rating_Not Rated</th>\n      <th>mpaa_rating_PG</th>\n      <th>mpaa_rating_PG-13</th>\n      <th>mpaa_rating_R</th>\n    </tr>\n  </thead>\n  <tbody>\n    <tr>\n      <th>0</th>\n      <td>5228953251</td>\n      <td>1937</td>\n      <td>0</td>\n      <td>0</td>\n      <td>0</td>\n      <td>0</td>\n      <td>0</td>\n      <td>0</td>\n      <td>0</td>\n      <td>0</td>\n      <td>1</td>\n      <td>0</td>\n      <td>0</td>\n      <td>0</td>\n      <td>1</td>\n      <td>0</td>\n      <td>0</td>\n      <td>0</td>\n      <td>0</td>\n    </tr>\n    <tr>\n      <th>1</th>\n      <td>2188229052</td>\n      <td>1940</td>\n      <td>0</td>\n      <td>1</td>\n      <td>0</td>\n      <td>0</td>\n      <td>0</td>\n      <td>0</td>\n      <td>0</td>\n      <td>0</td>\n      <td>0</td>\n      <td>0</td>\n      <td>0</td>\n      <td>0</td>\n      <td>1</td>\n      <td>0</td>\n      <td>0</td>\n      <td>0</td>\n      <td>0</td>\n    </tr>\n    <tr>\n      <th>2</th>\n      <td>2187090808</td>\n      <td>1940</td>\n      <td>0</td>\n      <td>0</td>\n      <td>0</td>\n      <td>0</td>\n      <td>0</td>\n      <td>0</td>\n      <td>0</td>\n      <td>0</td>\n      <td>1</td>\n      <td>0</td>\n      <td>0</td>\n      <td>0</td>\n      <td>1</td>\n      <td>0</td>\n      <td>0</td>\n      <td>0</td>\n      <td>0</td>\n    </tr>\n    <tr>\n      <th>3</th>\n      <td>1078510579</td>\n      <td>1946</td>\n      <td>0</td>\n      <td>1</td>\n      <td>0</td>\n      <td>0</td>\n      <td>0</td>\n      <td>0</td>\n      <td>0</td>\n      <td>0</td>\n      <td>0</td>\n      <td>0</td>\n      <td>0</td>\n      <td>0</td>\n      <td>1</td>\n      <td>0</td>\n      <td>0</td>\n      <td>0</td>\n      <td>0</td>\n    </tr>\n    <tr>\n      <th>4</th>\n      <td>920608730</td>\n      <td>1950</td>\n      <td>0</td>\n      <td>0</td>\n      <td>0</td>\n      <td>0</td>\n      <td>0</td>\n      <td>0</td>\n      <td>1</td>\n      <td>0</td>\n      <td>0</td>\n      <td>0</td>\n      <td>0</td>\n      <td>0</td>\n      <td>1</td>\n      <td>0</td>\n      <td>0</td>\n      <td>0</td>\n      <td>0</td>\n    </tr>\n  </tbody>\n</table>\n</div>"
     },
     "execution_count": 14,
     "metadata": {},
     "output_type": "execute_result"
    }
   ],
   "source": [
    "ddf2 = pd.get_dummies(data=ddf1, columns=['genre', 'mpaa_rating'])\n",
    "# Check the results.\n",
    "ddf2.head()"
   ],
   "metadata": {
    "collapsed": false,
    "pycharm": {
     "name": "#%%\n"
    }
   }
  },
  {
   "cell_type": "markdown",
   "source": [
    "Now we are left with all numerical features representing the adjusted gross profits and release year, and binary\n",
    "features for each genre and MPAA rating."
   ],
   "metadata": {
    "collapsed": false,
    "pycharm": {
     "name": "#%% md\n"
    }
   }
  }
 ],
 "metadata": {
  "kernelspec": {
   "name": "pycharm-2f3a5d6e",
   "language": "python",
   "display_name": "PyCharm (dsc550)"
  },
  "language_info": {
   "codemirror_mode": {
    "name": "ipython",
    "version": 2
   },
   "file_extension": ".py",
   "mimetype": "text/x-python",
   "name": "python",
   "nbconvert_exporter": "python",
   "pygments_lexer": "ipython2",
   "version": "2.7.6"
  }
 },
 "nbformat": 4,
 "nbformat_minor": 0
}