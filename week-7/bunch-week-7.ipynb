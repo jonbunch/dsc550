{
 "cells": [
  {
   "cell_type": "markdown",
   "metadata": {
    "collapsed": true,
    "pycharm": {
     "name": "#%% md\n"
    }
   },
   "source": [
    "### Jonathan Bunch\n",
    "\n",
    "13 October 2021\n",
    "\n",
    "Bellevue University\n",
    "\n",
    "DSC550-T301\n",
    "\n",
    "---\n",
    "\n",
    "# Titanic Case Study Part 2\n",
    "\n",
    "### 11. Some of my questions have been answered by seeing the charts but in some ways, looking at this much data has created even more questions.\n",
    "\n",
    "### a. Now it’s time to reduce some of the features so we can concentrate on the things that matter!  There features we will get rid of are:  \"PassengerId\", \"Name\", \"Ticket\" and \"Cabin\"."
   ]
  },
  {
   "cell_type": "code",
   "execution_count": 2,
   "outputs": [
    {
     "data": {
      "text/plain": "   PassengerId  Survived  Pclass  \\\n0            1         0       3   \n1            2         1       1   \n2            3         1       3   \n3            4         1       1   \n4            5         0       3   \n\n                                                Name     Sex   Age  SibSp  \\\n0                            Braund, Mr. Owen Harris    male  22.0      1   \n1  Cumings, Mrs. John Bradley (Florence Briggs Th...  female  38.0      1   \n2                             Heikkinen, Miss. Laina  female  26.0      0   \n3       Futrelle, Mrs. Jacques Heath (Lily May Peel)  female  35.0      1   \n4                           Allen, Mr. William Henry    male  35.0      0   \n\n   Parch            Ticket     Fare Cabin Embarked  \n0      0         A/5 21171   7.2500   NaN        S  \n1      0          PC 17599  71.2833   C85        C  \n2      0  STON/O2. 3101282   7.9250   NaN        S  \n3      0            113803  53.1000  C123        S  \n4      0            373450   8.0500   NaN        S  ",
      "text/html": "<div>\n<style scoped>\n    .dataframe tbody tr th:only-of-type {\n        vertical-align: middle;\n    }\n\n    .dataframe tbody tr th {\n        vertical-align: top;\n    }\n\n    .dataframe thead th {\n        text-align: right;\n    }\n</style>\n<table border=\"1\" class=\"dataframe\">\n  <thead>\n    <tr style=\"text-align: right;\">\n      <th></th>\n      <th>PassengerId</th>\n      <th>Survived</th>\n      <th>Pclass</th>\n      <th>Name</th>\n      <th>Sex</th>\n      <th>Age</th>\n      <th>SibSp</th>\n      <th>Parch</th>\n      <th>Ticket</th>\n      <th>Fare</th>\n      <th>Cabin</th>\n      <th>Embarked</th>\n    </tr>\n  </thead>\n  <tbody>\n    <tr>\n      <th>0</th>\n      <td>1</td>\n      <td>0</td>\n      <td>3</td>\n      <td>Braund, Mr. Owen Harris</td>\n      <td>male</td>\n      <td>22.0</td>\n      <td>1</td>\n      <td>0</td>\n      <td>A/5 21171</td>\n      <td>7.2500</td>\n      <td>NaN</td>\n      <td>S</td>\n    </tr>\n    <tr>\n      <th>1</th>\n      <td>2</td>\n      <td>1</td>\n      <td>1</td>\n      <td>Cumings, Mrs. John Bradley (Florence Briggs Th...</td>\n      <td>female</td>\n      <td>38.0</td>\n      <td>1</td>\n      <td>0</td>\n      <td>PC 17599</td>\n      <td>71.2833</td>\n      <td>C85</td>\n      <td>C</td>\n    </tr>\n    <tr>\n      <th>2</th>\n      <td>3</td>\n      <td>1</td>\n      <td>3</td>\n      <td>Heikkinen, Miss. Laina</td>\n      <td>female</td>\n      <td>26.0</td>\n      <td>0</td>\n      <td>0</td>\n      <td>STON/O2. 3101282</td>\n      <td>7.9250</td>\n      <td>NaN</td>\n      <td>S</td>\n    </tr>\n    <tr>\n      <th>3</th>\n      <td>4</td>\n      <td>1</td>\n      <td>1</td>\n      <td>Futrelle, Mrs. Jacques Heath (Lily May Peel)</td>\n      <td>female</td>\n      <td>35.0</td>\n      <td>1</td>\n      <td>0</td>\n      <td>113803</td>\n      <td>53.1000</td>\n      <td>C123</td>\n      <td>S</td>\n    </tr>\n    <tr>\n      <th>4</th>\n      <td>5</td>\n      <td>0</td>\n      <td>3</td>\n      <td>Allen, Mr. William Henry</td>\n      <td>male</td>\n      <td>35.0</td>\n      <td>0</td>\n      <td>0</td>\n      <td>373450</td>\n      <td>8.0500</td>\n      <td>NaN</td>\n      <td>S</td>\n    </tr>\n  </tbody>\n</table>\n</div>"
     },
     "execution_count": 2,
     "metadata": {},
     "output_type": "execute_result"
    }
   ],
   "source": [
    "# Import libraries.\n",
    "import pandas as pd\n",
    "import matplotlib.pyplot as plt\n",
    "import numpy as np\n",
    "\n",
    "# Load data set.\n",
    "titanic_raw = pd.read_csv(\"train.csv\")\n",
    "\n",
    "# Quick check of the dataframe.\n",
    "titanic_raw.head()"
   ],
   "metadata": {
    "collapsed": false,
    "pycharm": {
     "name": "#%%\n"
    }
   }
  },
  {
   "cell_type": "code",
   "execution_count": 3,
   "outputs": [
    {
     "data": {
      "text/plain": "   Survived  Pclass     Sex   Age  SibSp  Parch     Fare Embarked\n0         0       3    male  22.0      1      0   7.2500        S\n1         1       1  female  38.0      1      0  71.2833        C\n2         1       3  female  26.0      0      0   7.9250        S\n3         1       1  female  35.0      1      0  53.1000        S\n4         0       3    male  35.0      0      0   8.0500        S",
      "text/html": "<div>\n<style scoped>\n    .dataframe tbody tr th:only-of-type {\n        vertical-align: middle;\n    }\n\n    .dataframe tbody tr th {\n        vertical-align: top;\n    }\n\n    .dataframe thead th {\n        text-align: right;\n    }\n</style>\n<table border=\"1\" class=\"dataframe\">\n  <thead>\n    <tr style=\"text-align: right;\">\n      <th></th>\n      <th>Survived</th>\n      <th>Pclass</th>\n      <th>Sex</th>\n      <th>Age</th>\n      <th>SibSp</th>\n      <th>Parch</th>\n      <th>Fare</th>\n      <th>Embarked</th>\n    </tr>\n  </thead>\n  <tbody>\n    <tr>\n      <th>0</th>\n      <td>0</td>\n      <td>3</td>\n      <td>male</td>\n      <td>22.0</td>\n      <td>1</td>\n      <td>0</td>\n      <td>7.2500</td>\n      <td>S</td>\n    </tr>\n    <tr>\n      <th>1</th>\n      <td>1</td>\n      <td>1</td>\n      <td>female</td>\n      <td>38.0</td>\n      <td>1</td>\n      <td>0</td>\n      <td>71.2833</td>\n      <td>C</td>\n    </tr>\n    <tr>\n      <th>2</th>\n      <td>1</td>\n      <td>3</td>\n      <td>female</td>\n      <td>26.0</td>\n      <td>0</td>\n      <td>0</td>\n      <td>7.9250</td>\n      <td>S</td>\n    </tr>\n    <tr>\n      <th>3</th>\n      <td>1</td>\n      <td>1</td>\n      <td>female</td>\n      <td>35.0</td>\n      <td>1</td>\n      <td>0</td>\n      <td>53.1000</td>\n      <td>S</td>\n    </tr>\n    <tr>\n      <th>4</th>\n      <td>0</td>\n      <td>3</td>\n      <td>male</td>\n      <td>35.0</td>\n      <td>0</td>\n      <td>0</td>\n      <td>8.0500</td>\n      <td>S</td>\n    </tr>\n  </tbody>\n</table>\n</div>"
     },
     "execution_count": 3,
     "metadata": {},
     "output_type": "execute_result"
    }
   ],
   "source": [
    "# I will start by making a list of features we intend to drop.\n",
    "feat_to_drop = [\"PassengerId\", \"Name\", \"Ticket\", \"Cabin\"]\n",
    "\n",
    "# Create a subset with the desired features removed.\n",
    "t_sub_1 = titanic_raw.copy().drop(columns=feat_to_drop)\n",
    "\n",
    "# Check the results.\n",
    "t_sub_1.head()"
   ],
   "metadata": {
    "collapsed": false,
    "pycharm": {
     "name": "#%%\n"
    }
   }
  },
  {
   "cell_type": "markdown",
   "source": [
    "### b. We can also fill in missing values.  Age has some missing values so I’ll fill in with the average age.  Embarked also has some missing so I’ll the most common."
   ],
   "metadata": {
    "collapsed": false
   }
  },
  {
   "cell_type": "code",
   "execution_count": 4,
   "outputs": [
    {
     "name": "stdout",
     "output_type": "stream",
     "text": [
      "NA Value Counts Pre-Replacement:\n",
      " Survived      0\n",
      "Pclass        0\n",
      "Sex           0\n",
      "Age         177\n",
      "SibSp         0\n",
      "Parch         0\n",
      "Fare          0\n",
      "Embarked      2\n",
      "dtype: int64 \n",
      "\n"
     ]
    }
   ],
   "source": [
    "# Let's start by quantifying the number of NA values for each feature.\n",
    "print(\"NA Value Counts Pre-Replacement:\\n\", t_sub_1.isna().sum(), \"\\n\")"
   ],
   "metadata": {
    "collapsed": false,
    "pycharm": {
     "name": "#%%\n"
    }
   }
  },
  {
   "cell_type": "code",
   "execution_count": 5,
   "outputs": [
    {
     "name": "stdout",
     "output_type": "stream",
     "text": [
      "NA Value Counts Post-Replacement:\n",
      " Survived    0\n",
      "Pclass      0\n",
      "Sex         0\n",
      "Age         0\n",
      "SibSp       0\n",
      "Parch       0\n",
      "Fare        0\n",
      "Embarked    0\n",
      "dtype: int64\n"
     ]
    }
   ],
   "source": [
    "# First, I will find the most common value (mode) for the \"Embarked\" feature, and use it to fill NA values.\n",
    "# This method returns a series, so I will select the zero-index value (the only value in the series).\n",
    "embarked_mode = t_sub_1.Embarked.mode()[0]\n",
    "\n",
    "# The Age feature is missing quite a few values; we will replace them with the mean value for Age.\n",
    "age_mean = t_sub_1.Age.mean()\n",
    "\n",
    "# The Pandas \"fillna()\" method is very useful for replacing NA values. It can accept a dictionary in the form of\n",
    "# \"column name: replacement value\".\n",
    "na_fill_vals = {'Embarked': embarked_mode, 'Age': age_mean}\n",
    "\n",
    "# Apply the method to create a new subset.\n",
    "t_sub_2 = t_sub_1.fillna(na_fill_vals)\n",
    "\n",
    "# Check the results.\n",
    "print(\"NA Value Counts Post-Replacement:\\n\", t_sub_2.isna().sum())"
   ],
   "metadata": {
    "collapsed": false,
    "pycharm": {
     "name": "#%%\n"
    }
   }
  },
  {
   "cell_type": "markdown",
   "source": [
    "### 12. If you go back and look at the histograms of Fare, you’ll see that it is very skewed…many low cost fares, not very many high cost fares.  Log Transformation is a good method to use on highly skewed data."
   ],
   "metadata": {
    "collapsed": false
   }
  },
  {
   "cell_type": "code",
   "execution_count": 11,
   "outputs": [
    {
     "data": {
      "text/plain": "<Figure size 432x288 with 1 Axes>",
      "image/png": "[encoded data removed]"
     },
     "metadata": {
      "needs_background": "light"
     },
     "output_type": "display_data"
    }
   ],
   "source": [
    "# Check the histogram of the original 'Fare' feature.\n",
    "t_sub_2.Fare.hist(bins=20)\n",
    "plt.title('Histogram of \"Fare\"')\n",
    "plt.xlabel(\"Fare\")\n",
    "plt.ylabel(\"Count\")\n",
    "plt.show()"
   ],
   "metadata": {
    "collapsed": false,
    "pycharm": {
     "name": "#%%\n"
    }
   }
  },
  {
   "cell_type": "code",
   "execution_count": 12,
   "outputs": [
    {
     "data": {
      "text/plain": "<Figure size 432x288 with 1 Axes>",
      "image/png": "[encoded data removed]"
     },
     "metadata": {
      "needs_background": "light"
     },
     "output_type": "display_data"
    }
   ],
   "source": [
    "# Create a new column with the log-transformed Fare values.\n",
    "t_sub_2['log_fare'] = np.log1p(t_sub_2['Fare'])\n",
    "\n",
    "# Check the histogram of the log-transformed verion of Fare.\n",
    "t_sub_2.log_fare.hist(bins=20)\n",
    "plt.title('Histogram of Log-Transformed \"Fare\"')\n",
    "plt.xlabel(\"Log-Transformed Fare\")\n",
    "plt.ylabel(\"Count\")\n",
    "plt.show()"
   ],
   "metadata": {
    "collapsed": false,
    "pycharm": {
     "name": "#%%\n"
    }
   }
  },
  {
   "cell_type": "markdown",
   "source": [
    "### 13. Convert your categorical data into numbers (Sex, PClass, Embark)"
   ],
   "metadata": {
    "collapsed": false
   }
  },
  {
   "cell_type": "code",
   "execution_count": 7,
   "outputs": [
    {
     "name": "stdout",
     "output_type": "stream",
     "text": [
      "<class 'pandas.core.frame.DataFrame'>\n",
      "RangeIndex: 891 entries, 0 to 890\n",
      "Data columns (total 9 columns):\n",
      " #   Column    Non-Null Count  Dtype  \n",
      "---  ------    --------------  -----  \n",
      " 0   Survived  891 non-null    int64  \n",
      " 1   Pclass    891 non-null    int64  \n",
      " 2   Sex       891 non-null    object \n",
      " 3   Age       891 non-null    float64\n",
      " 4   SibSp     891 non-null    int64  \n",
      " 5   Parch     891 non-null    int64  \n",
      " 6   Fare      891 non-null    float64\n",
      " 7   Embarked  891 non-null    object \n",
      " 8   log_fare  891 non-null    float64\n",
      "dtypes: float64(3), int64(4), object(2)\n",
      "memory usage: 62.8+ KB\n",
      "None\n"
     ]
    }
   ],
   "source": [
    "# First, let's take another look at the data types.\n",
    "print(t_sub_2.info())"
   ],
   "metadata": {
    "collapsed": false,
    "pycharm": {
     "name": "#%%\n"
    }
   }
  },
  {
   "cell_type": "code",
   "execution_count": 8,
   "outputs": [
    {
     "name": "stdout",
     "output_type": "stream",
     "text": [
      "<class 'pandas.core.frame.DataFrame'>\n",
      "RangeIndex: 891 entries, 0 to 890\n",
      "Data columns (total 10 columns):\n",
      " #   Column         Non-Null Count  Dtype  \n",
      "---  ------         --------------  -----  \n",
      " 0   Survived       891 non-null    int64  \n",
      " 1   Pclass         891 non-null    int64  \n",
      " 2   Sex            891 non-null    object \n",
      " 3   Age            891 non-null    float64\n",
      " 4   SibSp          891 non-null    int64  \n",
      " 5   Parch          891 non-null    int64  \n",
      " 6   Fare           891 non-null    float64\n",
      " 7   Embarked       891 non-null    object \n",
      " 8   log_fare       891 non-null    float64\n",
      " 9   sex_males_one  891 non-null    int64  \n",
      "dtypes: float64(3), int64(5), object(2)\n",
      "memory usage: 69.7+ KB\n",
      "None\n"
     ]
    }
   ],
   "source": [
    "# It looks like all of our features are already in a numeric format except for Sex and Embarked.\n",
    "# I will start with the Sex variable. One method is to use the get_dummies method. With a binary variable, we can\n",
    "# simply drop one of the columns. I will create a new column with 1s representing males.\n",
    "t_sub_2['sex_males_one'] = pd.get_dummies(t_sub_2['Sex'], drop_first=True)\n",
    "\n",
    "# Just for consistency, I will change the new column's datatype from uint8 to int64.\n",
    "t_sub_2['sex_males_one'] = t_sub_2['sex_males_one'].astype(np.int64)\n",
    "\n",
    "# Check the data types again.\n",
    "print(t_sub_2.info())"
   ],
   "metadata": {
    "collapsed": false,
    "pycharm": {
     "name": "#%%\n"
    }
   }
  },
  {
   "cell_type": "code",
   "execution_count": 9,
   "outputs": [
    {
     "name": "stdout",
     "output_type": "stream",
     "text": [
      "<class 'pandas.core.frame.DataFrame'>\n",
      "RangeIndex: 891 entries, 0 to 890\n",
      "Data columns (total 11 columns):\n",
      " #   Column          Non-Null Count  Dtype  \n",
      "---  ------          --------------  -----  \n",
      " 0   Survived        891 non-null    int64  \n",
      " 1   Pclass          891 non-null    int64  \n",
      " 2   Sex             891 non-null    object \n",
      " 3   Age             891 non-null    float64\n",
      " 4   SibSp           891 non-null    int64  \n",
      " 5   Parch           891 non-null    int64  \n",
      " 6   Fare            891 non-null    float64\n",
      " 7   Embarked        891 non-null    object \n",
      " 8   log_fare        891 non-null    float64\n",
      " 9   sex_males_one   891 non-null    int64  \n",
      " 10  embarked_dummy  891 non-null    int64  \n",
      "dtypes: float64(3), int64(6), object(2)\n",
      "memory usage: 76.7+ KB\n",
      "None\n"
     ]
    },
    {
     "data": {
      "text/plain": "   Survived  Pclass     Sex        Age  SibSp  Parch     Fare Embarked  \\\n0         0       3    male  22.000000      1      0   7.2500        S   \n1         1       1  female  38.000000      1      0  71.2833        C   \n2         1       3  female  26.000000      0      0   7.9250        S   \n3         1       1  female  35.000000      1      0  53.1000        S   \n4         0       3    male  35.000000      0      0   8.0500        S   \n5         0       3    male  29.699118      0      0   8.4583        Q   \n6         0       1    male  54.000000      0      0  51.8625        S   \n\n   log_fare  sex_males_one  embarked_dummy  \n0  2.110213              1               0  \n1  4.280593              0               1  \n2  2.188856              0               0  \n3  3.990834              0               0  \n4  2.202765              1               0  \n5  2.246893              1               2  \n6  3.967694              1               0  ",
      "text/html": "<div>\n<style scoped>\n    .dataframe tbody tr th:only-of-type {\n        vertical-align: middle;\n    }\n\n    .dataframe tbody tr th {\n        vertical-align: top;\n    }\n\n    .dataframe thead th {\n        text-align: right;\n    }\n</style>\n<table border=\"1\" class=\"dataframe\">\n  <thead>\n    <tr style=\"text-align: right;\">\n      <th></th>\n      <th>Survived</th>\n      <th>Pclass</th>\n      <th>Sex</th>\n      <th>Age</th>\n      <th>SibSp</th>\n      <th>Parch</th>\n      <th>Fare</th>\n      <th>Embarked</th>\n      <th>log_fare</th>\n      <th>sex_males_one</th>\n      <th>embarked_dummy</th>\n    </tr>\n  </thead>\n  <tbody>\n    <tr>\n      <th>0</th>\n      <td>0</td>\n      <td>3</td>\n      <td>male</td>\n      <td>22.000000</td>\n      <td>1</td>\n      <td>0</td>\n      <td>7.2500</td>\n      <td>S</td>\n      <td>2.110213</td>\n      <td>1</td>\n      <td>0</td>\n    </tr>\n    <tr>\n      <th>1</th>\n      <td>1</td>\n      <td>1</td>\n      <td>female</td>\n      <td>38.000000</td>\n      <td>1</td>\n      <td>0</td>\n      <td>71.2833</td>\n      <td>C</td>\n      <td>4.280593</td>\n      <td>0</td>\n      <td>1</td>\n    </tr>\n    <tr>\n      <th>2</th>\n      <td>1</td>\n      <td>3</td>\n      <td>female</td>\n      <td>26.000000</td>\n      <td>0</td>\n      <td>0</td>\n      <td>7.9250</td>\n      <td>S</td>\n      <td>2.188856</td>\n      <td>0</td>\n      <td>0</td>\n    </tr>\n    <tr>\n      <th>3</th>\n      <td>1</td>\n      <td>1</td>\n      <td>female</td>\n      <td>35.000000</td>\n      <td>1</td>\n      <td>0</td>\n      <td>53.1000</td>\n      <td>S</td>\n      <td>3.990834</td>\n      <td>0</td>\n      <td>0</td>\n    </tr>\n    <tr>\n      <th>4</th>\n      <td>0</td>\n      <td>3</td>\n      <td>male</td>\n      <td>35.000000</td>\n      <td>0</td>\n      <td>0</td>\n      <td>8.0500</td>\n      <td>S</td>\n      <td>2.202765</td>\n      <td>1</td>\n      <td>0</td>\n    </tr>\n    <tr>\n      <th>5</th>\n      <td>0</td>\n      <td>3</td>\n      <td>male</td>\n      <td>29.699118</td>\n      <td>0</td>\n      <td>0</td>\n      <td>8.4583</td>\n      <td>Q</td>\n      <td>2.246893</td>\n      <td>1</td>\n      <td>2</td>\n    </tr>\n    <tr>\n      <th>6</th>\n      <td>0</td>\n      <td>1</td>\n      <td>male</td>\n      <td>54.000000</td>\n      <td>0</td>\n      <td>0</td>\n      <td>51.8625</td>\n      <td>S</td>\n      <td>3.967694</td>\n      <td>1</td>\n      <td>0</td>\n    </tr>\n  </tbody>\n</table>\n</div>"
     },
     "execution_count": 9,
     "metadata": {},
     "output_type": "execute_result"
    }
   ],
   "source": [
    "\n",
    "# Another possible method would be to create a custom function.  I will try this technique for Embarked.\n",
    "# Since these are categories with no logical order, it doesn't matter which number represents which category.\n",
    "def dummy_embark(cat):\n",
    "    if cat == 'S':\n",
    "        val = 0\n",
    "    elif cat == 'C':\n",
    "        val = 1\n",
    "    else:\n",
    "        val = 2\n",
    "    return val\n",
    "\n",
    "\n",
    "# Now I will apply the function to the feature and put the results in a new column.\n",
    "t_sub_2['embarked_dummy'] = t_sub_2.Embarked.apply(dummy_embark)\n",
    "\n",
    "# Check the results.\n",
    "print(t_sub_2.info())\n",
    "t_sub_2.head(7)"
   ],
   "metadata": {
    "collapsed": false,
    "pycharm": {
     "name": "#%%\n"
    }
   }
  },
  {
   "cell_type": "code",
   "execution_count": 10,
   "outputs": [
    {
     "name": "stdout",
     "output_type": "stream",
     "text": [
      "<class 'pandas.core.frame.DataFrame'>\n",
      "RangeIndex: 891 entries, 0 to 890\n",
      "Data columns (total 8 columns):\n",
      " #   Column          Non-Null Count  Dtype  \n",
      "---  ------          --------------  -----  \n",
      " 0   Survived        891 non-null    int64  \n",
      " 1   Pclass          891 non-null    int64  \n",
      " 2   Age             891 non-null    float64\n",
      " 3   SibSp           891 non-null    int64  \n",
      " 4   Parch           891 non-null    int64  \n",
      " 5   log_fare        891 non-null    float64\n",
      " 6   sex_males_one   891 non-null    int64  \n",
      " 7   embarked_dummy  891 non-null    int64  \n",
      "dtypes: float64(2), int64(6)\n",
      "memory usage: 55.8 KB\n",
      "None\n"
     ]
    },
    {
     "data": {
      "text/plain": "   Survived  Pclass        Age  SibSp  Parch  log_fare  sex_males_one  \\\n0         0       3  22.000000      1      0  2.110213              1   \n1         1       1  38.000000      1      0  4.280593              0   \n2         1       3  26.000000      0      0  2.188856              0   \n3         1       1  35.000000      1      0  3.990834              0   \n4         0       3  35.000000      0      0  2.202765              1   \n5         0       3  29.699118      0      0  2.246893              1   \n6         0       1  54.000000      0      0  3.967694              1   \n\n   embarked_dummy  \n0               0  \n1               1  \n2               0  \n3               0  \n4               0  \n5               2  \n6               0  ",
      "text/html": "<div>\n<style scoped>\n    .dataframe tbody tr th:only-of-type {\n        vertical-align: middle;\n    }\n\n    .dataframe tbody tr th {\n        vertical-align: top;\n    }\n\n    .dataframe thead th {\n        text-align: right;\n    }\n</style>\n<table border=\"1\" class=\"dataframe\">\n  <thead>\n    <tr style=\"text-align: right;\">\n      <th></th>\n      <th>Survived</th>\n      <th>Pclass</th>\n      <th>Age</th>\n      <th>SibSp</th>\n      <th>Parch</th>\n      <th>log_fare</th>\n      <th>sex_males_one</th>\n      <th>embarked_dummy</th>\n    </tr>\n  </thead>\n  <tbody>\n    <tr>\n      <th>0</th>\n      <td>0</td>\n      <td>3</td>\n      <td>22.000000</td>\n      <td>1</td>\n      <td>0</td>\n      <td>2.110213</td>\n      <td>1</td>\n      <td>0</td>\n    </tr>\n    <tr>\n      <th>1</th>\n      <td>1</td>\n      <td>1</td>\n      <td>38.000000</td>\n      <td>1</td>\n      <td>0</td>\n      <td>4.280593</td>\n      <td>0</td>\n      <td>1</td>\n    </tr>\n    <tr>\n      <th>2</th>\n      <td>1</td>\n      <td>3</td>\n      <td>26.000000</td>\n      <td>0</td>\n      <td>0</td>\n      <td>2.188856</td>\n      <td>0</td>\n      <td>0</td>\n    </tr>\n    <tr>\n      <th>3</th>\n      <td>1</td>\n      <td>1</td>\n      <td>35.000000</td>\n      <td>1</td>\n      <td>0</td>\n      <td>3.990834</td>\n      <td>0</td>\n      <td>0</td>\n    </tr>\n    <tr>\n      <th>4</th>\n      <td>0</td>\n      <td>3</td>\n      <td>35.000000</td>\n      <td>0</td>\n      <td>0</td>\n      <td>2.202765</td>\n      <td>1</td>\n      <td>0</td>\n    </tr>\n    <tr>\n      <th>5</th>\n      <td>0</td>\n      <td>3</td>\n      <td>29.699118</td>\n      <td>0</td>\n      <td>0</td>\n      <td>2.246893</td>\n      <td>1</td>\n      <td>2</td>\n    </tr>\n    <tr>\n      <th>6</th>\n      <td>0</td>\n      <td>1</td>\n      <td>54.000000</td>\n      <td>0</td>\n      <td>0</td>\n      <td>3.967694</td>\n      <td>1</td>\n      <td>0</td>\n    </tr>\n  </tbody>\n</table>\n</div>"
     },
     "execution_count": 10,
     "metadata": {},
     "output_type": "execute_result"
    }
   ],
   "source": [
    "# If desired, we can drop the original versions of those features.\n",
    "t_sub_3 = t_sub_2.copy().drop(columns=['Sex', 'Fare', 'Embarked'])\n",
    "\n",
    "# Check the final results.\n",
    "print(t_sub_3.info())\n",
    "t_sub_3.head(7)"
   ],
   "metadata": {
    "collapsed": false,
    "pycharm": {
     "name": "#%%\n"
    }
   }
  }
 ],
 "metadata": {
  "kernelspec": {
   "name": "pycharm-2f3a5d6e",
   "language": "python",
   "display_name": "PyCharm (dsc550)"
  },
  "language_info": {
   "codemirror_mode": {
    "name": "ipython",
    "version": 2
   },
   "file_extension": ".py",
   "mimetype": "text/x-python",
   "name": "python",
   "nbconvert_exporter": "python",
   "pygments_lexer": "ipython2",
   "version": "2.7.6"
  }
 },
 "nbformat": 4,
 "nbformat_minor": 0
}