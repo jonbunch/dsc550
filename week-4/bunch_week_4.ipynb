{
 "cells": [
  {
   "cell_type": "markdown",
   "metadata": {
    "collapsed": true,
    "pycharm": {
     "name": "#%% md\n"
    }
   },
   "source": [
    "# Jonathan Bunch\n",
    "\n",
    "26 September 2021\n",
    "\n",
    "Bellevue University\n",
    "\n",
    "DSC550-T301\n",
    "\n",
    "---\n",
    "\n",
    "# Week 4 Exercise: Sentiment Analysis"
   ]
  },
  {
   "cell_type": "code",
   "execution_count": 31,
   "outputs": [],
   "source": [
    "# Import libraries.\n",
    "import nltk\n",
    "import pandas as pd\n",
    "from nltk.corpus import opinion_lexicon\n",
    "from nltk.sentiment.vader import SentimentIntensityAnalyzer"
   ],
   "metadata": {
    "collapsed": false,
    "pycharm": {
     "name": "#%%\n"
    }
   }
  },
  {
   "cell_type": "markdown",
   "source": [
    "## Load the data file DailyComments.csv from the Week 4 Data Files into a data frame."
   ],
   "metadata": {
    "collapsed": false
   }
  },
  {
   "cell_type": "code",
   "execution_count": 32,
   "outputs": [
    {
     "data": {
      "text/plain": "  Day of Week                                        comments\n0      Monday                             Hello, how are you?\n1     Tuesday                            Today is a good day!\n2   Wednesday  It's my birthday so it's a really special day!\n3    Thursday       Today is neither a good day or a bad day!\n4      Friday                           I'm having a bad day.",
      "text/html": "<div>\n<style scoped>\n    .dataframe tbody tr th:only-of-type {\n        vertical-align: middle;\n    }\n\n    .dataframe tbody tr th {\n        vertical-align: top;\n    }\n\n    .dataframe thead th {\n        text-align: right;\n    }\n</style>\n<table border=\"1\" class=\"dataframe\">\n  <thead>\n    <tr style=\"text-align: right;\">\n      <th></th>\n      <th>Day of Week</th>\n      <th>comments</th>\n    </tr>\n  </thead>\n  <tbody>\n    <tr>\n      <th>0</th>\n      <td>Monday</td>\n      <td>Hello, how are you?</td>\n    </tr>\n    <tr>\n      <th>1</th>\n      <td>Tuesday</td>\n      <td>Today is a good day!</td>\n    </tr>\n    <tr>\n      <th>2</th>\n      <td>Wednesday</td>\n      <td>It's my birthday so it's a really special day!</td>\n    </tr>\n    <tr>\n      <th>3</th>\n      <td>Thursday</td>\n      <td>Today is neither a good day or a bad day!</td>\n    </tr>\n    <tr>\n      <th>4</th>\n      <td>Friday</td>\n      <td>I'm having a bad day.</td>\n    </tr>\n  </tbody>\n</table>\n</div>"
     },
     "execution_count": 32,
     "metadata": {},
     "output_type": "execute_result"
    }
   ],
   "source": [
    "df_daily = pd.read_csv(\"DailyComments.csv\")\n",
    "df_daily.head()"
   ],
   "metadata": {
    "collapsed": false,
    "pycharm": {
     "name": "#%%\n"
    }
   }
  },
  {
   "cell_type": "markdown",
   "source": [
    "## Identify a scheme to categorize each comment as positive or negative. You can devise your own scheme or find a  commonly used scheme to perform this sentiment analysis. However you decide to do this, make sure to explain the scheme you decide to use.\n",
    "\n",
    "I decided to try a simple word count method for categorizing the comments.  The nltk corpus includes pre-categorized\n",
    "lists of positive and negative words (opinion_lexicon), which I will compare to the tokenized words from each comment.\n",
    "Words that match those in the opinion lexicon are counted to determine the predicted sentiment.\n",
    "\n",
    "For comparison, I tried using an implementation of the VADER model from nltk.sentiment.vader.  This method returns a\n",
    "\"sentiment score\" with a value between (-1, 1) for the provided text.  Positve values represent positive sentiment,\n",
    "negative values represente negative sentiment, and distance from zero indicates intensity of sentiment."
   ],
   "metadata": {
    "collapsed": false,
    "pycharm": {
     "name": "#%% md\n"
    }
   }
  },
  {
   "cell_type": "code",
   "execution_count": 33,
   "outputs": [],
   "source": [
    "def sentiment_by_count(text):\n",
    "    \"\"\"\n",
    "    This function tokenizes the provided string and compares the tokens to pre-sorted lists of words indicating\n",
    "    positive or negative sentiment (courtesy of the nltk corpus). The number of words matching those in the pre-sorted\n",
    "    lists are counted and compared, and we return the name of the sentiment with the greatest number of matches.\n",
    "    \"\"\"\n",
    "    word_list = nltk.word_tokenize(text)\n",
    "    pos = len([word for word in word_list if word in opinion_lexicon.positive()])\n",
    "    neg = len([word for word in word_list if word in opinion_lexicon.negative()])\n",
    "    if pos > neg:\n",
    "        return \"positive\"\n",
    "    elif pos < neg:\n",
    "        return \"negative\"\n",
    "    else:\n",
    "        return \"neutral\"\n",
    "\n",
    "\n",
    "def sentiment_by_vader(text):\n",
    "    \"\"\"This function returns the normalized sentiment score for the provided text. This function utilizes methods\n",
    "    from the nltk.sentiment.vader module, provicded by:\n",
    "    Hutto, C.J. & Gilbert, E.E. (2014). VADER: A Parsimonious Rule-based Model for\n",
    "    Sentiment Analysis of Social Media Text. Eighth International Conference on\n",
    "    Weblogs and Social Media (ICWSM-14). Ann Arbor, MI, June 2014.\"\"\"\n",
    "    sent_int = SentimentIntensityAnalyzer()\n",
    "    compound_score = sent_int.polarity_scores(text)['compound']\n",
    "    return compound_score\n"
   ],
   "metadata": {
    "collapsed": false,
    "pycharm": {
     "name": "#%%\n"
    }
   }
  },
  {
   "cell_type": "markdown",
   "source": [
    "## Implement your sentiment analysis with code and display the results. Note: DailyComments.csv is a purposely small file, so you will be able to clearly see why the results are what they are."
   ],
   "metadata": {
    "collapsed": false,
    "pycharm": {
     "name": "#%% md\n"
    }
   }
  },
  {
   "cell_type": "code",
   "execution_count": 34,
   "outputs": [
    {
     "data": {
      "text/plain": "  Day of Week                                        comments  \\\n0      Monday                             Hello, how are you?   \n1     Tuesday                            Today is a good day!   \n2   Wednesday  It's my birthday so it's a really special day!   \n3    Thursday       Today is neither a good day or a bad day!   \n4      Friday                           I'm having a bad day.   \n5    Saturday       There' s nothing special happening today.   \n6      Sunday                      Today is a SUPER good day!   \n\n  sentiment_by_count  \n0            neutral  \n1           positive  \n2            neutral  \n3            neutral  \n4           negative  \n5            neutral  \n6           positive  ",
      "text/html": "<div>\n<style scoped>\n    .dataframe tbody tr th:only-of-type {\n        vertical-align: middle;\n    }\n\n    .dataframe tbody tr th {\n        vertical-align: top;\n    }\n\n    .dataframe thead th {\n        text-align: right;\n    }\n</style>\n<table border=\"1\" class=\"dataframe\">\n  <thead>\n    <tr style=\"text-align: right;\">\n      <th></th>\n      <th>Day of Week</th>\n      <th>comments</th>\n      <th>sentiment_by_count</th>\n    </tr>\n  </thead>\n  <tbody>\n    <tr>\n      <th>0</th>\n      <td>Monday</td>\n      <td>Hello, how are you?</td>\n      <td>neutral</td>\n    </tr>\n    <tr>\n      <th>1</th>\n      <td>Tuesday</td>\n      <td>Today is a good day!</td>\n      <td>positive</td>\n    </tr>\n    <tr>\n      <th>2</th>\n      <td>Wednesday</td>\n      <td>It's my birthday so it's a really special day!</td>\n      <td>neutral</td>\n    </tr>\n    <tr>\n      <th>3</th>\n      <td>Thursday</td>\n      <td>Today is neither a good day or a bad day!</td>\n      <td>neutral</td>\n    </tr>\n    <tr>\n      <th>4</th>\n      <td>Friday</td>\n      <td>I'm having a bad day.</td>\n      <td>negative</td>\n    </tr>\n    <tr>\n      <th>5</th>\n      <td>Saturday</td>\n      <td>There' s nothing special happening today.</td>\n      <td>neutral</td>\n    </tr>\n    <tr>\n      <th>6</th>\n      <td>Sunday</td>\n      <td>Today is a SUPER good day!</td>\n      <td>positive</td>\n    </tr>\n  </tbody>\n</table>\n</div>"
     },
     "execution_count": 34,
     "metadata": {},
     "output_type": "execute_result"
    }
   ],
   "source": [
    "# Apply the sentiment_by_count function, and store the results in a new dataframe column.\n",
    "df_daily['sentiment_by_count'] = df_daily.comments.apply(sentiment_by_count)\n",
    "df_daily"
   ],
   "metadata": {
    "collapsed": false,
    "pycharm": {
     "name": "#%%\n"
    }
   }
  },
  {
   "cell_type": "code",
   "execution_count": 35,
   "outputs": [
    {
     "data": {
      "text/plain": "  Day of Week                                        comments  \\\n0      Monday                             Hello, how are you?   \n1     Tuesday                            Today is a good day!   \n2   Wednesday  It's my birthday so it's a really special day!   \n3    Thursday       Today is neither a good day or a bad day!   \n4      Friday                           I'm having a bad day.   \n5    Saturday       There' s nothing special happening today.   \n6      Sunday                      Today is a SUPER good day!   \n\n  sentiment_by_count  vader_scores  \n0            neutral        0.0000  \n1           positive        0.4926  \n2            neutral        0.5497  \n3            neutral       -0.7350  \n4           negative       -0.5423  \n5            neutral       -0.3089  \n6           positive        0.8327  ",
      "text/html": "<div>\n<style scoped>\n    .dataframe tbody tr th:only-of-type {\n        vertical-align: middle;\n    }\n\n    .dataframe tbody tr th {\n        vertical-align: top;\n    }\n\n    .dataframe thead th {\n        text-align: right;\n    }\n</style>\n<table border=\"1\" class=\"dataframe\">\n  <thead>\n    <tr style=\"text-align: right;\">\n      <th></th>\n      <th>Day of Week</th>\n      <th>comments</th>\n      <th>sentiment_by_count</th>\n      <th>vader_scores</th>\n    </tr>\n  </thead>\n  <tbody>\n    <tr>\n      <th>0</th>\n      <td>Monday</td>\n      <td>Hello, how are you?</td>\n      <td>neutral</td>\n      <td>0.0000</td>\n    </tr>\n    <tr>\n      <th>1</th>\n      <td>Tuesday</td>\n      <td>Today is a good day!</td>\n      <td>positive</td>\n      <td>0.4926</td>\n    </tr>\n    <tr>\n      <th>2</th>\n      <td>Wednesday</td>\n      <td>It's my birthday so it's a really special day!</td>\n      <td>neutral</td>\n      <td>0.5497</td>\n    </tr>\n    <tr>\n      <th>3</th>\n      <td>Thursday</td>\n      <td>Today is neither a good day or a bad day!</td>\n      <td>neutral</td>\n      <td>-0.7350</td>\n    </tr>\n    <tr>\n      <th>4</th>\n      <td>Friday</td>\n      <td>I'm having a bad day.</td>\n      <td>negative</td>\n      <td>-0.5423</td>\n    </tr>\n    <tr>\n      <th>5</th>\n      <td>Saturday</td>\n      <td>There' s nothing special happening today.</td>\n      <td>neutral</td>\n      <td>-0.3089</td>\n    </tr>\n    <tr>\n      <th>6</th>\n      <td>Sunday</td>\n      <td>Today is a SUPER good day!</td>\n      <td>positive</td>\n      <td>0.8327</td>\n    </tr>\n  </tbody>\n</table>\n</div>"
     },
     "execution_count": 35,
     "metadata": {},
     "output_type": "execute_result"
    }
   ],
   "source": [
    "# Apply the sentiment_by_vader function the same way.\n",
    "df_daily['vader_scores'] = df_daily.comments.apply(sentiment_by_vader)\n",
    "df_daily"
   ],
   "metadata": {
    "collapsed": false,
    "pycharm": {
     "name": "#%%\n"
    }
   }
  },
  {
   "cell_type": "markdown",
   "source": [
    "## For up to 5% extra credit, find another set of comments, e.g., some tweets, and perform the same sentiment analysis.\n",
    "\n",
    "I will try applying these functions to a twitter dataset I found at:\n",
    "https://www.kaggle.com/crowdflower/twitter-airline-sentiment"
   ],
   "metadata": {
    "collapsed": false,
    "pycharm": {
     "name": "#%% md\n"
    }
   }
  },
  {
   "cell_type": "code",
   "execution_count": 36,
   "outputs": [
    {
     "data": {
      "text/plain": "                 tweet_id airline_sentiment  airline_sentiment_confidence  \\\n0      570306133677760513           neutral                        1.0000   \n1      570301130888122368          positive                        0.3486   \n2      570301083672813571           neutral                        0.6837   \n3      570301031407624196          negative                        1.0000   \n4      570300817074462722          negative                        1.0000   \n...                   ...               ...                           ...   \n14635  569587686496825344          positive                        0.3487   \n14636  569587371693355008          negative                        1.0000   \n14637  569587242672398336           neutral                        1.0000   \n14638  569587188687634433          negative                        1.0000   \n14639  569587140490866689           neutral                        0.6771   \n\n               negativereason  negativereason_confidence         airline  \\\n0                         NaN                        NaN  Virgin America   \n1                         NaN                     0.0000  Virgin America   \n2                         NaN                        NaN  Virgin America   \n3                  Bad Flight                     0.7033  Virgin America   \n4                  Can't Tell                     1.0000  Virgin America   \n...                       ...                        ...             ...   \n14635                     NaN                     0.0000        American   \n14636  Customer Service Issue                     1.0000        American   \n14637                     NaN                        NaN        American   \n14638  Customer Service Issue                     0.6659        American   \n14639                     NaN                     0.0000        American   \n\n      airline_sentiment_gold             name negativereason_gold  \\\n0                        NaN          cairdin                 NaN   \n1                        NaN         jnardino                 NaN   \n2                        NaN       yvonnalynn                 NaN   \n3                        NaN         jnardino                 NaN   \n4                        NaN         jnardino                 NaN   \n...                      ...              ...                 ...   \n14635                    NaN  KristenReenders                 NaN   \n14636                    NaN         itsropes                 NaN   \n14637                    NaN         sanyabun                 NaN   \n14638                    NaN       SraJackson                 NaN   \n14639                    NaN        daviddtwu                 NaN   \n\n       retweet_count                                               text  \\\n0                  0                @VirginAmerica What @dhepburn said.   \n1                  0  @VirginAmerica plus you've added commercials t...   \n2                  0  @VirginAmerica I didn't today... Must mean I n...   \n3                  0  @VirginAmerica it's really aggressive to blast...   \n4                  0  @VirginAmerica and it's a really big bad thing...   \n...              ...                                                ...   \n14635              0  @AmericanAir thank you we got on a different f...   \n14636              0  @AmericanAir leaving over 20 minutes Late Flig...   \n14637              0  @AmericanAir Please bring American Airlines to...   \n14638              0  @AmericanAir you have my money, you change my ...   \n14639              0  @AmericanAir we have 8 ppl so we need 2 know h...   \n\n      tweet_coord              tweet_created tweet_location  \\\n0             NaN  2015-02-24 11:35:52 -0800            NaN   \n1             NaN  2015-02-24 11:15:59 -0800            NaN   \n2             NaN  2015-02-24 11:15:48 -0800      Lets Play   \n3             NaN  2015-02-24 11:15:36 -0800            NaN   \n4             NaN  2015-02-24 11:14:45 -0800            NaN   \n...           ...                        ...            ...   \n14635         NaN  2015-02-22 12:01:01 -0800            NaN   \n14636         NaN  2015-02-22 11:59:46 -0800          Texas   \n14637         NaN  2015-02-22 11:59:15 -0800  Nigeria,lagos   \n14638         NaN  2015-02-22 11:59:02 -0800     New Jersey   \n14639         NaN  2015-02-22 11:58:51 -0800     dallas, TX   \n\n                    user_timezone  \n0      Eastern Time (US & Canada)  \n1      Pacific Time (US & Canada)  \n2      Central Time (US & Canada)  \n3      Pacific Time (US & Canada)  \n4      Pacific Time (US & Canada)  \n...                           ...  \n14635                         NaN  \n14636                         NaN  \n14637                         NaN  \n14638  Eastern Time (US & Canada)  \n14639                         NaN  \n\n[14640 rows x 15 columns]",
      "text/html": "<div>\n<style scoped>\n    .dataframe tbody tr th:only-of-type {\n        vertical-align: middle;\n    }\n\n    .dataframe tbody tr th {\n        vertical-align: top;\n    }\n\n    .dataframe thead th {\n        text-align: right;\n    }\n</style>\n<table border=\"1\" class=\"dataframe\">\n  <thead>\n    <tr style=\"text-align: right;\">\n      <th></th>\n      <th>tweet_id</th>\n      <th>airline_sentiment</th>\n      <th>airline_sentiment_confidence</th>\n      <th>negativereason</th>\n      <th>negativereason_confidence</th>\n      <th>airline</th>\n      <th>airline_sentiment_gold</th>\n      <th>name</th>\n      <th>negativereason_gold</th>\n      <th>retweet_count</th>\n      <th>text</th>\n      <th>tweet_coord</th>\n      <th>tweet_created</th>\n      <th>tweet_location</th>\n      <th>user_timezone</th>\n    </tr>\n  </thead>\n  <tbody>\n    <tr>\n      <th>0</th>\n      <td>570306133677760513</td>\n      <td>neutral</td>\n      <td>1.0000</td>\n      <td>NaN</td>\n      <td>NaN</td>\n      <td>Virgin America</td>\n      <td>NaN</td>\n      <td>cairdin</td>\n      <td>NaN</td>\n      <td>0</td>\n      <td>@VirginAmerica What @dhepburn said.</td>\n      <td>NaN</td>\n      <td>2015-02-24 11:35:52 -0800</td>\n      <td>NaN</td>\n      <td>Eastern Time (US &amp; Canada)</td>\n    </tr>\n    <tr>\n      <th>1</th>\n      <td>570301130888122368</td>\n      <td>positive</td>\n      <td>0.3486</td>\n      <td>NaN</td>\n      <td>0.0000</td>\n      <td>Virgin America</td>\n      <td>NaN</td>\n      <td>jnardino</td>\n      <td>NaN</td>\n      <td>0</td>\n      <td>@VirginAmerica plus you've added commercials t...</td>\n      <td>NaN</td>\n      <td>2015-02-24 11:15:59 -0800</td>\n      <td>NaN</td>\n      <td>Pacific Time (US &amp; Canada)</td>\n    </tr>\n    <tr>\n      <th>2</th>\n      <td>570301083672813571</td>\n      <td>neutral</td>\n      <td>0.6837</td>\n      <td>NaN</td>\n      <td>NaN</td>\n      <td>Virgin America</td>\n      <td>NaN</td>\n      <td>yvonnalynn</td>\n      <td>NaN</td>\n      <td>0</td>\n      <td>@VirginAmerica I didn't today... Must mean I n...</td>\n      <td>NaN</td>\n      <td>2015-02-24 11:15:48 -0800</td>\n      <td>Lets Play</td>\n      <td>Central Time (US &amp; Canada)</td>\n    </tr>\n    <tr>\n      <th>3</th>\n      <td>570301031407624196</td>\n      <td>negative</td>\n      <td>1.0000</td>\n      <td>Bad Flight</td>\n      <td>0.7033</td>\n      <td>Virgin America</td>\n      <td>NaN</td>\n      <td>jnardino</td>\n      <td>NaN</td>\n      <td>0</td>\n      <td>@VirginAmerica it's really aggressive to blast...</td>\n      <td>NaN</td>\n      <td>2015-02-24 11:15:36 -0800</td>\n      <td>NaN</td>\n      <td>Pacific Time (US &amp; Canada)</td>\n    </tr>\n    <tr>\n      <th>4</th>\n      <td>570300817074462722</td>\n      <td>negative</td>\n      <td>1.0000</td>\n      <td>Can't Tell</td>\n      <td>1.0000</td>\n      <td>Virgin America</td>\n      <td>NaN</td>\n      <td>jnardino</td>\n      <td>NaN</td>\n      <td>0</td>\n      <td>@VirginAmerica and it's a really big bad thing...</td>\n      <td>NaN</td>\n      <td>2015-02-24 11:14:45 -0800</td>\n      <td>NaN</td>\n      <td>Pacific Time (US &amp; Canada)</td>\n    </tr>\n    <tr>\n      <th>...</th>\n      <td>...</td>\n      <td>...</td>\n      <td>...</td>\n      <td>...</td>\n      <td>...</td>\n      <td>...</td>\n      <td>...</td>\n      <td>...</td>\n      <td>...</td>\n      <td>...</td>\n      <td>...</td>\n      <td>...</td>\n      <td>...</td>\n      <td>...</td>\n      <td>...</td>\n    </tr>\n    <tr>\n      <th>14635</th>\n      <td>569587686496825344</td>\n      <td>positive</td>\n      <td>0.3487</td>\n      <td>NaN</td>\n      <td>0.0000</td>\n      <td>American</td>\n      <td>NaN</td>\n      <td>KristenReenders</td>\n      <td>NaN</td>\n      <td>0</td>\n      <td>@AmericanAir thank you we got on a different f...</td>\n      <td>NaN</td>\n      <td>2015-02-22 12:01:01 -0800</td>\n      <td>NaN</td>\n      <td>NaN</td>\n    </tr>\n    <tr>\n      <th>14636</th>\n      <td>569587371693355008</td>\n      <td>negative</td>\n      <td>1.0000</td>\n      <td>Customer Service Issue</td>\n      <td>1.0000</td>\n      <td>American</td>\n      <td>NaN</td>\n      <td>itsropes</td>\n      <td>NaN</td>\n      <td>0</td>\n      <td>@AmericanAir leaving over 20 minutes Late Flig...</td>\n      <td>NaN</td>\n      <td>2015-02-22 11:59:46 -0800</td>\n      <td>Texas</td>\n      <td>NaN</td>\n    </tr>\n    <tr>\n      <th>14637</th>\n      <td>569587242672398336</td>\n      <td>neutral</td>\n      <td>1.0000</td>\n      <td>NaN</td>\n      <td>NaN</td>\n      <td>American</td>\n      <td>NaN</td>\n      <td>sanyabun</td>\n      <td>NaN</td>\n      <td>0</td>\n      <td>@AmericanAir Please bring American Airlines to...</td>\n      <td>NaN</td>\n      <td>2015-02-22 11:59:15 -0800</td>\n      <td>Nigeria,lagos</td>\n      <td>NaN</td>\n    </tr>\n    <tr>\n      <th>14638</th>\n      <td>569587188687634433</td>\n      <td>negative</td>\n      <td>1.0000</td>\n      <td>Customer Service Issue</td>\n      <td>0.6659</td>\n      <td>American</td>\n      <td>NaN</td>\n      <td>SraJackson</td>\n      <td>NaN</td>\n      <td>0</td>\n      <td>@AmericanAir you have my money, you change my ...</td>\n      <td>NaN</td>\n      <td>2015-02-22 11:59:02 -0800</td>\n      <td>New Jersey</td>\n      <td>Eastern Time (US &amp; Canada)</td>\n    </tr>\n    <tr>\n      <th>14639</th>\n      <td>569587140490866689</td>\n      <td>neutral</td>\n      <td>0.6771</td>\n      <td>NaN</td>\n      <td>0.0000</td>\n      <td>American</td>\n      <td>NaN</td>\n      <td>daviddtwu</td>\n      <td>NaN</td>\n      <td>0</td>\n      <td>@AmericanAir we have 8 ppl so we need 2 know h...</td>\n      <td>NaN</td>\n      <td>2015-02-22 11:58:51 -0800</td>\n      <td>dallas, TX</td>\n      <td>NaN</td>\n    </tr>\n  </tbody>\n</table>\n<p>14640 rows × 15 columns</p>\n</div>"
     },
     "execution_count": 36,
     "metadata": {},
     "output_type": "execute_result"
    }
   ],
   "source": [
    "# Import dataset.\n",
    "df_t_raw = pd.read_csv(\"Tweets.csv\")\n",
    "df_t_raw"
   ],
   "metadata": {
    "collapsed": false,
    "pycharm": {
     "name": "#%%\n"
    }
   }
  },
  {
   "cell_type": "code",
   "execution_count": 37,
   "outputs": [
    {
     "data": {
      "text/plain": "                                               tweet provided_sentiment\n0  @USAirways please have your people hold flight...            neutral\n1  @united second time flying into Houston and 45...           negative\n2  @USAirways YOU ARE THE BEST AIRWAYS!!! FOLLOW ...           positive\n3  @united finally got through and they were very...           positive\n4  @USAirways thanks for making me miss my meetin...           negative\n5  @USAirways what is going on with the computers...           negative\n6  @JetBlue can't change it. True blue points and...           negative\n7  @united WHERE IS MY RECEIPT! I upgraded return...           negative\n8  @united flight 4567 have already been Cancelle...           negative\n9  @JetBlue is gettin fancy! #Mint #LieFlat Nice ...           positive",
      "text/html": "<div>\n<style scoped>\n    .dataframe tbody tr th:only-of-type {\n        vertical-align: middle;\n    }\n\n    .dataframe tbody tr th {\n        vertical-align: top;\n    }\n\n    .dataframe thead th {\n        text-align: right;\n    }\n</style>\n<table border=\"1\" class=\"dataframe\">\n  <thead>\n    <tr style=\"text-align: right;\">\n      <th></th>\n      <th>tweet</th>\n      <th>provided_sentiment</th>\n    </tr>\n  </thead>\n  <tbody>\n    <tr>\n      <th>0</th>\n      <td>@USAirways please have your people hold flight...</td>\n      <td>neutral</td>\n    </tr>\n    <tr>\n      <th>1</th>\n      <td>@united second time flying into Houston and 45...</td>\n      <td>negative</td>\n    </tr>\n    <tr>\n      <th>2</th>\n      <td>@USAirways YOU ARE THE BEST AIRWAYS!!! FOLLOW ...</td>\n      <td>positive</td>\n    </tr>\n    <tr>\n      <th>3</th>\n      <td>@united finally got through and they were very...</td>\n      <td>positive</td>\n    </tr>\n    <tr>\n      <th>4</th>\n      <td>@USAirways thanks for making me miss my meetin...</td>\n      <td>negative</td>\n    </tr>\n    <tr>\n      <th>5</th>\n      <td>@USAirways what is going on with the computers...</td>\n      <td>negative</td>\n    </tr>\n    <tr>\n      <th>6</th>\n      <td>@JetBlue can't change it. True blue points and...</td>\n      <td>negative</td>\n    </tr>\n    <tr>\n      <th>7</th>\n      <td>@united WHERE IS MY RECEIPT! I upgraded return...</td>\n      <td>negative</td>\n    </tr>\n    <tr>\n      <th>8</th>\n      <td>@united flight 4567 have already been Cancelle...</td>\n      <td>negative</td>\n    </tr>\n    <tr>\n      <th>9</th>\n      <td>@JetBlue is gettin fancy! #Mint #LieFlat Nice ...</td>\n      <td>positive</td>\n    </tr>\n  </tbody>\n</table>\n</div>"
     },
     "execution_count": 37,
     "metadata": {},
     "output_type": "execute_result"
    }
   ],
   "source": [
    "# Pre-process data.\n",
    "df_t_raw = df_t_raw[df_t_raw.airline_sentiment_confidence == 1]\n",
    "df_tweets = df_t_raw.loc[:, ['text', 'airline_sentiment']]\n",
    "df_tweets = df_tweets.rename(columns={'text': 'tweet', 'airline_sentiment': 'provided_sentiment'})\n",
    "\n",
    "# I will take a small sample to work with for now.\n",
    "df_tweets = df_tweets.sample(n=10, random_state=7).reset_index(drop=True)\n",
    "df_tweets"
   ],
   "metadata": {
    "collapsed": false,
    "pycharm": {
     "name": "#%%\n"
    }
   }
  },
  {
   "cell_type": "code",
   "execution_count": 38,
   "outputs": [
    {
     "data": {
      "text/plain": "                                               tweet provided_sentiment  \\\n0  @USAirways please have your people hold flight...            neutral   \n1  @united second time flying into Houston and 45...           negative   \n2  @USAirways YOU ARE THE BEST AIRWAYS!!! FOLLOW ...           positive   \n3  @united finally got through and they were very...           positive   \n4  @USAirways thanks for making me miss my meetin...           negative   \n5  @USAirways what is going on with the computers...           negative   \n6  @JetBlue can't change it. True blue points and...           negative   \n7  @united WHERE IS MY RECEIPT! I upgraded return...           negative   \n8  @united flight 4567 have already been Cancelle...           negative   \n9  @JetBlue is gettin fancy! #Mint #LieFlat Nice ...           positive   \n\n  sentiment_by_count  \n0            neutral  \n1            neutral  \n2            neutral  \n3           positive  \n4           negative  \n5           negative  \n6            neutral  \n7           positive  \n8           negative  \n9           positive  ",
      "text/html": "<div>\n<style scoped>\n    .dataframe tbody tr th:only-of-type {\n        vertical-align: middle;\n    }\n\n    .dataframe tbody tr th {\n        vertical-align: top;\n    }\n\n    .dataframe thead th {\n        text-align: right;\n    }\n</style>\n<table border=\"1\" class=\"dataframe\">\n  <thead>\n    <tr style=\"text-align: right;\">\n      <th></th>\n      <th>tweet</th>\n      <th>provided_sentiment</th>\n      <th>sentiment_by_count</th>\n    </tr>\n  </thead>\n  <tbody>\n    <tr>\n      <th>0</th>\n      <td>@USAirways please have your people hold flight...</td>\n      <td>neutral</td>\n      <td>neutral</td>\n    </tr>\n    <tr>\n      <th>1</th>\n      <td>@united second time flying into Houston and 45...</td>\n      <td>negative</td>\n      <td>neutral</td>\n    </tr>\n    <tr>\n      <th>2</th>\n      <td>@USAirways YOU ARE THE BEST AIRWAYS!!! FOLLOW ...</td>\n      <td>positive</td>\n      <td>neutral</td>\n    </tr>\n    <tr>\n      <th>3</th>\n      <td>@united finally got through and they were very...</td>\n      <td>positive</td>\n      <td>positive</td>\n    </tr>\n    <tr>\n      <th>4</th>\n      <td>@USAirways thanks for making me miss my meetin...</td>\n      <td>negative</td>\n      <td>negative</td>\n    </tr>\n    <tr>\n      <th>5</th>\n      <td>@USAirways what is going on with the computers...</td>\n      <td>negative</td>\n      <td>negative</td>\n    </tr>\n    <tr>\n      <th>6</th>\n      <td>@JetBlue can't change it. True blue points and...</td>\n      <td>negative</td>\n      <td>neutral</td>\n    </tr>\n    <tr>\n      <th>7</th>\n      <td>@united WHERE IS MY RECEIPT! I upgraded return...</td>\n      <td>negative</td>\n      <td>positive</td>\n    </tr>\n    <tr>\n      <th>8</th>\n      <td>@united flight 4567 have already been Cancelle...</td>\n      <td>negative</td>\n      <td>negative</td>\n    </tr>\n    <tr>\n      <th>9</th>\n      <td>@JetBlue is gettin fancy! #Mint #LieFlat Nice ...</td>\n      <td>positive</td>\n      <td>positive</td>\n    </tr>\n  </tbody>\n</table>\n</div>"
     },
     "execution_count": 38,
     "metadata": {},
     "output_type": "execute_result"
    }
   ],
   "source": [
    "# Apply the sentiment_by_count function.\n",
    "df_tweets['sentiment_by_count'] = df_tweets.tweet.apply(sentiment_by_count)\n",
    "df_tweets"
   ],
   "metadata": {
    "collapsed": false,
    "pycharm": {
     "name": "#%%\n"
    }
   }
  },
  {
   "cell_type": "code",
   "execution_count": 39,
   "outputs": [
    {
     "data": {
      "text/plain": "                                               tweet provided_sentiment  \\\n0  @USAirways please have your people hold flight...            neutral   \n1  @united second time flying into Houston and 45...           negative   \n2  @USAirways YOU ARE THE BEST AIRWAYS!!! FOLLOW ...           positive   \n3  @united finally got through and they were very...           positive   \n4  @USAirways thanks for making me miss my meetin...           negative   \n5  @USAirways what is going on with the computers...           negative   \n6  @JetBlue can't change it. True blue points and...           negative   \n7  @united WHERE IS MY RECEIPT! I upgraded return...           negative   \n8  @united flight 4567 have already been Cancelle...           negative   \n9  @JetBlue is gettin fancy! #Mint #LieFlat Nice ...           positive   \n\n  sentiment_by_count  vader_scores  \n0            neutral        0.3802  \n1            neutral        0.0000  \n2            neutral        0.7788  \n3           positive        0.7479  \n4           negative        0.3182  \n5           negative       -0.5330  \n6            neutral       -0.3252  \n7           positive       -0.5449  \n8           negative       -0.2500  \n9           positive        0.4753  ",
      "text/html": "<div>\n<style scoped>\n    .dataframe tbody tr th:only-of-type {\n        vertical-align: middle;\n    }\n\n    .dataframe tbody tr th {\n        vertical-align: top;\n    }\n\n    .dataframe thead th {\n        text-align: right;\n    }\n</style>\n<table border=\"1\" class=\"dataframe\">\n  <thead>\n    <tr style=\"text-align: right;\">\n      <th></th>\n      <th>tweet</th>\n      <th>provided_sentiment</th>\n      <th>sentiment_by_count</th>\n      <th>vader_scores</th>\n    </tr>\n  </thead>\n  <tbody>\n    <tr>\n      <th>0</th>\n      <td>@USAirways please have your people hold flight...</td>\n      <td>neutral</td>\n      <td>neutral</td>\n      <td>0.3802</td>\n    </tr>\n    <tr>\n      <th>1</th>\n      <td>@united second time flying into Houston and 45...</td>\n      <td>negative</td>\n      <td>neutral</td>\n      <td>0.0000</td>\n    </tr>\n    <tr>\n      <th>2</th>\n      <td>@USAirways YOU ARE THE BEST AIRWAYS!!! FOLLOW ...</td>\n      <td>positive</td>\n      <td>neutral</td>\n      <td>0.7788</td>\n    </tr>\n    <tr>\n      <th>3</th>\n      <td>@united finally got through and they were very...</td>\n      <td>positive</td>\n      <td>positive</td>\n      <td>0.7479</td>\n    </tr>\n    <tr>\n      <th>4</th>\n      <td>@USAirways thanks for making me miss my meetin...</td>\n      <td>negative</td>\n      <td>negative</td>\n      <td>0.3182</td>\n    </tr>\n    <tr>\n      <th>5</th>\n      <td>@USAirways what is going on with the computers...</td>\n      <td>negative</td>\n      <td>negative</td>\n      <td>-0.5330</td>\n    </tr>\n    <tr>\n      <th>6</th>\n      <td>@JetBlue can't change it. True blue points and...</td>\n      <td>negative</td>\n      <td>neutral</td>\n      <td>-0.3252</td>\n    </tr>\n    <tr>\n      <th>7</th>\n      <td>@united WHERE IS MY RECEIPT! I upgraded return...</td>\n      <td>negative</td>\n      <td>positive</td>\n      <td>-0.5449</td>\n    </tr>\n    <tr>\n      <th>8</th>\n      <td>@united flight 4567 have already been Cancelle...</td>\n      <td>negative</td>\n      <td>negative</td>\n      <td>-0.2500</td>\n    </tr>\n    <tr>\n      <th>9</th>\n      <td>@JetBlue is gettin fancy! #Mint #LieFlat Nice ...</td>\n      <td>positive</td>\n      <td>positive</td>\n      <td>0.4753</td>\n    </tr>\n  </tbody>\n</table>\n</div>"
     },
     "execution_count": 39,
     "metadata": {},
     "output_type": "execute_result"
    }
   ],
   "source": [
    "# Apply the sentiment_by_vader function.\n",
    "df_tweets['vader_scores'] = df_tweets.tweet.apply(sentiment_by_vader)\n",
    "df_tweets"
   ],
   "metadata": {
    "collapsed": false,
    "pycharm": {
     "name": "#%%\n"
    }
   }
  }
 ],
 "metadata": {
  "kernelspec": {
   "display_name": "Python 3",
   "language": "python",
   "name": "python3"
  },
  "language_info": {
   "codemirror_mode": {
    "name": "ipython",
    "version": 2
   },
   "file_extension": ".py",
   "mimetype": "text/x-python",
   "name": "python",
   "nbconvert_exporter": "python",
   "pygments_lexer": "ipython2",
   "version": "2.7.6"
  }
 },
 "nbformat": 4,
 "nbformat_minor": 0
}