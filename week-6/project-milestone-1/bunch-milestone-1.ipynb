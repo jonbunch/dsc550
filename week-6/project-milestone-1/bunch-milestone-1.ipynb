{
 "cells": [
  {
   "cell_type": "markdown",
   "metadata": {
    "collapsed": true,
    "pycharm": {
     "name": "#%% md\n"
    }
   },
   "source": [
    "## Jonathan Bunch\n",
    "\n",
    "10 October 2021\n",
    "\n",
    "Bellevue University\n",
    "\n",
    "DSC550-T301\n",
    "\n",
    "---\n",
    "\n",
    "I happened across an interesting data set that seemed relevant to me as a Disney employee—the total profits from each Disney film.  I was curious to see if general societal measures could be used a predictor for these movie profits.\n",
    "\n",
    "It seems reasonable to assume that the overall health and prosperity of a society—per capita income, unemployment rates, health measures, and so on—would have some sort of impact on the desire of individuals to visit the theater.  Disney movies in particular have a certain connotation; they are generally thought of as family friendly and often taking the form of animation.\n",
    "\n",
    "What societal factors could an entertainment manufacturer, such as Disney, use to predict the success of a new product?  Do factors such as unemployment rate have a measurable impact on the overall success of movie premiers?  What about factors relating to children, such as fertility rate?\n",
    "\n",
    "I will explore three data sets in this analysis: the Disney movie profits, yearly U.S. unemployment rate data, and a dataset that includes yearly income, fertility, and mortality data.  These data will need further cleaning and reorganization before I can continue with deeper analysis, but, for now, I will attempt to load the data sets and perform some basic graphical EDA."
   ]
  },
  {
   "cell_type": "code",
   "execution_count": 1,
   "outputs": [],
   "source": [
    "# Import libraries.\n",
    "import pandas as pd\n",
    "import matplotlib.pyplot as plt"
   ],
   "metadata": {
    "collapsed": false,
    "pycharm": {
     "name": "#%%\n"
    }
   }
  },
  {
   "cell_type": "code",
   "execution_count": 3,
   "outputs": [],
   "source": [
    "# Load data sets.\n",
    "disney_raw = pd.read_csv(\"disney_movies_total_gross.csv\")\n",
    "unemp_raw = pd.read_csv(\"USUnemployment.csv\")\n",
    "mort_inc_raw = pd.read_csv(\"MortalityFertilityIncome.csv\")"
   ],
   "metadata": {
    "collapsed": false,
    "pycharm": {
     "name": "#%%\n"
    }
   }
  },
  {
   "cell_type": "code",
   "execution_count": 4,
   "outputs": [
    {
     "data": {
      "text/plain": "                       movie_title release_date      genre mpaa_rating  \\\n0  Snow White and the Seven Dwarfs   1937-12-21    Musical           G   \n1                        Pinocchio   1940-02-09  Adventure           G   \n2                         Fantasia   1940-11-13    Musical           G   \n3                Song of the South   1946-11-12  Adventure           G   \n4                       Cinderella   1950-02-15      Drama           G   \n\n   total_gross  inflation_adjusted_gross  \n0    184925485                5228953251  \n1     84300000                2188229052  \n2     83320000                2187090808  \n3     65000000                1078510579  \n4     85000000                 920608730  ",
      "text/html": "<div>\n<style scoped>\n    .dataframe tbody tr th:only-of-type {\n        vertical-align: middle;\n    }\n\n    .dataframe tbody tr th {\n        vertical-align: top;\n    }\n\n    .dataframe thead th {\n        text-align: right;\n    }\n</style>\n<table border=\"1\" class=\"dataframe\">\n  <thead>\n    <tr style=\"text-align: right;\">\n      <th></th>\n      <th>movie_title</th>\n      <th>release_date</th>\n      <th>genre</th>\n      <th>mpaa_rating</th>\n      <th>total_gross</th>\n      <th>inflation_adjusted_gross</th>\n    </tr>\n  </thead>\n  <tbody>\n    <tr>\n      <th>0</th>\n      <td>Snow White and the Seven Dwarfs</td>\n      <td>1937-12-21</td>\n      <td>Musical</td>\n      <td>G</td>\n      <td>184925485</td>\n      <td>5228953251</td>\n    </tr>\n    <tr>\n      <th>1</th>\n      <td>Pinocchio</td>\n      <td>1940-02-09</td>\n      <td>Adventure</td>\n      <td>G</td>\n      <td>84300000</td>\n      <td>2188229052</td>\n    </tr>\n    <tr>\n      <th>2</th>\n      <td>Fantasia</td>\n      <td>1940-11-13</td>\n      <td>Musical</td>\n      <td>G</td>\n      <td>83320000</td>\n      <td>2187090808</td>\n    </tr>\n    <tr>\n      <th>3</th>\n      <td>Song of the South</td>\n      <td>1946-11-12</td>\n      <td>Adventure</td>\n      <td>G</td>\n      <td>65000000</td>\n      <td>1078510579</td>\n    </tr>\n    <tr>\n      <th>4</th>\n      <td>Cinderella</td>\n      <td>1950-02-15</td>\n      <td>Drama</td>\n      <td>G</td>\n      <td>85000000</td>\n      <td>920608730</td>\n    </tr>\n  </tbody>\n</table>\n</div>"
     },
     "execution_count": 4,
     "metadata": {},
     "output_type": "execute_result"
    }
   ],
   "source": [
    "# Let's take a look at the data sets.\n",
    "disney_raw.head()"
   ],
   "metadata": {
    "collapsed": false,
    "pycharm": {
     "name": "#%%\n"
    }
   }
  },
  {
   "cell_type": "code",
   "execution_count": 5,
   "outputs": [
    {
     "data": {
      "text/plain": "   Year  Jan  Feb  Mar  Apr  May  Jun  Jul  Aug  Sep  Oct  Nov  Dec\n0  1948  3.4  3.8  4.0  3.9  3.5  3.6  3.6  3.9  3.8  3.7  3.8  4.0\n1  1949  4.3  4.7  5.0  5.3  6.1  6.2  6.7  6.8  6.6  7.9  6.4  6.6\n2  1950  6.5  6.4  6.3  5.8  5.5  5.4  5.0  4.5  4.4  4.2  4.2  4.3\n3  1951  3.7  3.4  3.4  3.1  3.0  3.2  3.1  3.1  3.3  3.5  3.5  3.1\n4  1952  3.2  3.1  2.9  2.9  3.0  3.0  3.2  3.4  3.1  3.0  2.8  2.7",
      "text/html": "<div>\n<style scoped>\n    .dataframe tbody tr th:only-of-type {\n        vertical-align: middle;\n    }\n\n    .dataframe tbody tr th {\n        vertical-align: top;\n    }\n\n    .dataframe thead th {\n        text-align: right;\n    }\n</style>\n<table border=\"1\" class=\"dataframe\">\n  <thead>\n    <tr style=\"text-align: right;\">\n      <th></th>\n      <th>Year</th>\n      <th>Jan</th>\n      <th>Feb</th>\n      <th>Mar</th>\n      <th>Apr</th>\n      <th>May</th>\n      <th>Jun</th>\n      <th>Jul</th>\n      <th>Aug</th>\n      <th>Sep</th>\n      <th>Oct</th>\n      <th>Nov</th>\n      <th>Dec</th>\n    </tr>\n  </thead>\n  <tbody>\n    <tr>\n      <th>0</th>\n      <td>1948</td>\n      <td>3.4</td>\n      <td>3.8</td>\n      <td>4.0</td>\n      <td>3.9</td>\n      <td>3.5</td>\n      <td>3.6</td>\n      <td>3.6</td>\n      <td>3.9</td>\n      <td>3.8</td>\n      <td>3.7</td>\n      <td>3.8</td>\n      <td>4.0</td>\n    </tr>\n    <tr>\n      <th>1</th>\n      <td>1949</td>\n      <td>4.3</td>\n      <td>4.7</td>\n      <td>5.0</td>\n      <td>5.3</td>\n      <td>6.1</td>\n      <td>6.2</td>\n      <td>6.7</td>\n      <td>6.8</td>\n      <td>6.6</td>\n      <td>7.9</td>\n      <td>6.4</td>\n      <td>6.6</td>\n    </tr>\n    <tr>\n      <th>2</th>\n      <td>1950</td>\n      <td>6.5</td>\n      <td>6.4</td>\n      <td>6.3</td>\n      <td>5.8</td>\n      <td>5.5</td>\n      <td>5.4</td>\n      <td>5.0</td>\n      <td>4.5</td>\n      <td>4.4</td>\n      <td>4.2</td>\n      <td>4.2</td>\n      <td>4.3</td>\n    </tr>\n    <tr>\n      <th>3</th>\n      <td>1951</td>\n      <td>3.7</td>\n      <td>3.4</td>\n      <td>3.4</td>\n      <td>3.1</td>\n      <td>3.0</td>\n      <td>3.2</td>\n      <td>3.1</td>\n      <td>3.1</td>\n      <td>3.3</td>\n      <td>3.5</td>\n      <td>3.5</td>\n      <td>3.1</td>\n    </tr>\n    <tr>\n      <th>4</th>\n      <td>1952</td>\n      <td>3.2</td>\n      <td>3.1</td>\n      <td>2.9</td>\n      <td>2.9</td>\n      <td>3.0</td>\n      <td>3.0</td>\n      <td>3.2</td>\n      <td>3.4</td>\n      <td>3.1</td>\n      <td>3.0</td>\n      <td>2.8</td>\n      <td>2.7</td>\n    </tr>\n  </tbody>\n</table>\n</div>"
     },
     "execution_count": 5,
     "metadata": {},
     "output_type": "execute_result"
    }
   ],
   "source": [
    "unemp_raw.head()"
   ],
   "metadata": {
    "collapsed": false,
    "pycharm": {
     "name": "#%%\n"
    }
   }
  },
  {
   "cell_type": "code",
   "execution_count": 6,
   "outputs": [
    {
     "data": {
      "text/plain": "  Country Name Country Code                     Region  m1970 m1971 m1972  \\\n0        Aruba          ABW  Latin America & Caribbean    NaN   NaN   NaN   \n1  Afghanistan          AFG                 South Asia  204,8   201   197   \n2       Angola          AGO         Sub-Saharan Africa    NaN   NaN   NaN   \n3      Albania          ALB      Europe & Central Asia    NaN   NaN   NaN   \n4      Andorra          AND      Europe & Central Asia    NaN   NaN   NaN   \n\n   m1973  m1974  m1975  m1976  ...        i2007        i2008        i2009  \\\n0    NaN    NaN    NaN    NaN  ...          NaN          NaN          NaN   \n1  193,1  188,8  184,7  180,6  ...  331,3254993  331,2271678  395,5679021   \n2    NaN    NaN    NaN    NaN  ...  629,2704433   251,732843  902,6093382   \n3    NaN    NaN    NaN    NaN  ...  3343,591615  3961,319155  3622,890286   \n4    NaN    NaN    NaN    NaN  ...          NaN          NaN          NaN   \n\n         i2010        i2011        i2012        i2013        i2014  \\\n0          NaN          NaN          NaN          NaN          NaN   \n1  486,9793222  535,3307235  590,4566662   559,223161  548,5265822   \n2  1095,241414  1219,032021  1492,119826  1853,506007  2091,133487   \n3  3530,054028  3850,766176  3641,192766  3866,501647  3937,222372   \n4          NaN          NaN          NaN          NaN          NaN   \n\n         i2015        i2016  \n0          NaN          NaN  \n1  494,2921982  489,7756091  \n2  2062,581538   1777,44841  \n3  3458,725714  3606,903851  \n4          NaN          NaN  \n\n[5 rows x 144 columns]",
      "text/html": "<div>\n<style scoped>\n    .dataframe tbody tr th:only-of-type {\n        vertical-align: middle;\n    }\n\n    .dataframe tbody tr th {\n        vertical-align: top;\n    }\n\n    .dataframe thead th {\n        text-align: right;\n    }\n</style>\n<table border=\"1\" class=\"dataframe\">\n  <thead>\n    <tr style=\"text-align: right;\">\n      <th></th>\n      <th>Country Name</th>\n      <th>Country Code</th>\n      <th>Region</th>\n      <th>m1970</th>\n      <th>m1971</th>\n      <th>m1972</th>\n      <th>m1973</th>\n      <th>m1974</th>\n      <th>m1975</th>\n      <th>m1976</th>\n      <th>...</th>\n      <th>i2007</th>\n      <th>i2008</th>\n      <th>i2009</th>\n      <th>i2010</th>\n      <th>i2011</th>\n      <th>i2012</th>\n      <th>i2013</th>\n      <th>i2014</th>\n      <th>i2015</th>\n      <th>i2016</th>\n    </tr>\n  </thead>\n  <tbody>\n    <tr>\n      <th>0</th>\n      <td>Aruba</td>\n      <td>ABW</td>\n      <td>Latin America &amp; Caribbean</td>\n      <td>NaN</td>\n      <td>NaN</td>\n      <td>NaN</td>\n      <td>NaN</td>\n      <td>NaN</td>\n      <td>NaN</td>\n      <td>NaN</td>\n      <td>...</td>\n      <td>NaN</td>\n      <td>NaN</td>\n      <td>NaN</td>\n      <td>NaN</td>\n      <td>NaN</td>\n      <td>NaN</td>\n      <td>NaN</td>\n      <td>NaN</td>\n      <td>NaN</td>\n      <td>NaN</td>\n    </tr>\n    <tr>\n      <th>1</th>\n      <td>Afghanistan</td>\n      <td>AFG</td>\n      <td>South Asia</td>\n      <td>204,8</td>\n      <td>201</td>\n      <td>197</td>\n      <td>193,1</td>\n      <td>188,8</td>\n      <td>184,7</td>\n      <td>180,6</td>\n      <td>...</td>\n      <td>331,3254993</td>\n      <td>331,2271678</td>\n      <td>395,5679021</td>\n      <td>486,9793222</td>\n      <td>535,3307235</td>\n      <td>590,4566662</td>\n      <td>559,223161</td>\n      <td>548,5265822</td>\n      <td>494,2921982</td>\n      <td>489,7756091</td>\n    </tr>\n    <tr>\n      <th>2</th>\n      <td>Angola</td>\n      <td>AGO</td>\n      <td>Sub-Saharan Africa</td>\n      <td>NaN</td>\n      <td>NaN</td>\n      <td>NaN</td>\n      <td>NaN</td>\n      <td>NaN</td>\n      <td>NaN</td>\n      <td>NaN</td>\n      <td>...</td>\n      <td>629,2704433</td>\n      <td>251,732843</td>\n      <td>902,6093382</td>\n      <td>1095,241414</td>\n      <td>1219,032021</td>\n      <td>1492,119826</td>\n      <td>1853,506007</td>\n      <td>2091,133487</td>\n      <td>2062,581538</td>\n      <td>1777,44841</td>\n    </tr>\n    <tr>\n      <th>3</th>\n      <td>Albania</td>\n      <td>ALB</td>\n      <td>Europe &amp; Central Asia</td>\n      <td>NaN</td>\n      <td>NaN</td>\n      <td>NaN</td>\n      <td>NaN</td>\n      <td>NaN</td>\n      <td>NaN</td>\n      <td>NaN</td>\n      <td>...</td>\n      <td>3343,591615</td>\n      <td>3961,319155</td>\n      <td>3622,890286</td>\n      <td>3530,054028</td>\n      <td>3850,766176</td>\n      <td>3641,192766</td>\n      <td>3866,501647</td>\n      <td>3937,222372</td>\n      <td>3458,725714</td>\n      <td>3606,903851</td>\n    </tr>\n    <tr>\n      <th>4</th>\n      <td>Andorra</td>\n      <td>AND</td>\n      <td>Europe &amp; Central Asia</td>\n      <td>NaN</td>\n      <td>NaN</td>\n      <td>NaN</td>\n      <td>NaN</td>\n      <td>NaN</td>\n      <td>NaN</td>\n      <td>NaN</td>\n      <td>...</td>\n      <td>NaN</td>\n      <td>NaN</td>\n      <td>NaN</td>\n      <td>NaN</td>\n      <td>NaN</td>\n      <td>NaN</td>\n      <td>NaN</td>\n      <td>NaN</td>\n      <td>NaN</td>\n      <td>NaN</td>\n    </tr>\n  </tbody>\n</table>\n<p>5 rows × 144 columns</p>\n</div>"
     },
     "execution_count": 6,
     "metadata": {},
     "output_type": "execute_result"
    }
   ],
   "source": [
    "mort_inc_raw.head()"
   ],
   "metadata": {
    "collapsed": false,
    "pycharm": {
     "name": "#%%\n"
    }
   }
  },
  {
   "cell_type": "code",
   "execution_count": 7,
   "outputs": [
    {
     "data": {
      "text/plain": "      Country Name Country Code         Region m1970 m1971 m1972 m1973 m1974  \\\n203  United States          USA  North America  19,9  19,1  18,3  17,5  16,7   \n\n    m1975 m1976  ...        i2007        i2008        i2009        i2010  \\\n203    16  15,2  ...  40594,21177  40369,26202  39379,54994  40903,86626   \n\n           i2011        i2012        i2013        i2014       i2015  \\\n203  42607,52741  44582,33345  45548,28824  47344,28554  49058,0894   \n\n           i2016  \n203  49725,78053  \n\n[1 rows x 144 columns]",
      "text/html": "<div>\n<style scoped>\n    .dataframe tbody tr th:only-of-type {\n        vertical-align: middle;\n    }\n\n    .dataframe tbody tr th {\n        vertical-align: top;\n    }\n\n    .dataframe thead th {\n        text-align: right;\n    }\n</style>\n<table border=\"1\" class=\"dataframe\">\n  <thead>\n    <tr style=\"text-align: right;\">\n      <th></th>\n      <th>Country Name</th>\n      <th>Country Code</th>\n      <th>Region</th>\n      <th>m1970</th>\n      <th>m1971</th>\n      <th>m1972</th>\n      <th>m1973</th>\n      <th>m1974</th>\n      <th>m1975</th>\n      <th>m1976</th>\n      <th>...</th>\n      <th>i2007</th>\n      <th>i2008</th>\n      <th>i2009</th>\n      <th>i2010</th>\n      <th>i2011</th>\n      <th>i2012</th>\n      <th>i2013</th>\n      <th>i2014</th>\n      <th>i2015</th>\n      <th>i2016</th>\n    </tr>\n  </thead>\n  <tbody>\n    <tr>\n      <th>203</th>\n      <td>United States</td>\n      <td>USA</td>\n      <td>North America</td>\n      <td>19,9</td>\n      <td>19,1</td>\n      <td>18,3</td>\n      <td>17,5</td>\n      <td>16,7</td>\n      <td>16</td>\n      <td>15,2</td>\n      <td>...</td>\n      <td>40594,21177</td>\n      <td>40369,26202</td>\n      <td>39379,54994</td>\n      <td>40903,86626</td>\n      <td>42607,52741</td>\n      <td>44582,33345</td>\n      <td>45548,28824</td>\n      <td>47344,28554</td>\n      <td>49058,0894</td>\n      <td>49725,78053</td>\n    </tr>\n  </tbody>\n</table>\n<p>1 rows × 144 columns</p>\n</div>"
     },
     "execution_count": 7,
     "metadata": {},
     "output_type": "execute_result"
    }
   ],
   "source": [
    "# We can at least filter this data set down to U.S. data.\n",
    "mort_inc_us = mort_inc_raw[mort_inc_raw['Country Name'] == \"United States\"]\n",
    "mort_inc_us.head()"
   ],
   "metadata": {
    "collapsed": false,
    "pycharm": {
     "name": "#%%\n"
    }
   }
  },
  {
   "cell_type": "markdown",
   "source": [
    "We can see that the time aspect of these data sets will need some work. Also, the final data set actually has only three variables with an observation for each year--it will need some serious re-organization."
   ],
   "metadata": {
    "collapsed": false,
    "pycharm": {
     "name": "#%% md\n"
    }
   }
  },
  {
   "cell_type": "markdown",
   "source": [
    "### Visualizations\n",
    "\n",
    "I will start with some histograms for the Disney movie profit features."
   ],
   "metadata": {
    "collapsed": false,
    "pycharm": {
     "name": "#%% md\n"
    }
   }
  },
  {
   "cell_type": "code",
   "execution_count": 8,
   "outputs": [
    {
     "data": {
      "text/plain": "<Figure size 432x288 with 1 Axes>",
      "image/png": "[encoded data removed]"
     },
     "metadata": {
      "needs_background": "light"
     },
     "output_type": "display_data"
    },
    {
     "data": {
      "text/plain": "<Figure size 432x288 with 1 Axes>",
      "image/png": "[encoded data removed]"
     },
     "metadata": {
      "needs_background": "light"
     },
     "output_type": "display_data"
    }
   ],
   "source": [
    "# Histogram of total profits of Disney movies.\n",
    "plt.hist(x=disney_raw.total_gross, bins=50)\n",
    "plt.title(\"Histogram of Total Gross Profits\")\n",
    "plt.xlabel(\"Total Gross Profit (Dollars x10e8)\")\n",
    "plt.ylabel(\"Count\")\n",
    "plt.show()\n",
    "\n",
    "# Histogram of adjusted gross profits of Disney movies.\n",
    "plt.hist(x=disney_raw.inflation_adjusted_gross, bins=50)\n",
    "plt.title(\"Histogram of Inflation Adjusted Gross Profits\")\n",
    "plt.xlabel(\"Adjusted Gross Profit (Dollars x10e9)\")\n",
    "plt.ylabel(\"Count\")\n",
    "plt.show()"
   ],
   "metadata": {
    "collapsed": false,
    "pycharm": {
     "name": "#%%\n"
    }
   }
  },
  {
   "cell_type": "markdown",
   "source": [
    "We can see from these histograms that the profit and adjusted profit display a similar shape of distribution. These plots also reveal several outliers that will need further investigation.\n",
    "\n",
    "Next, I will create bar plots of U.S. unemployment rate for January and June of each year."
   ],
   "metadata": {
    "collapsed": false,
    "pycharm": {
     "name": "#%% md\n"
    }
   }
  },
  {
   "cell_type": "code",
   "execution_count": 9,
   "outputs": [
    {
     "data": {
      "text/plain": "<Figure size 432x288 with 1 Axes>",
      "image/png": "[encoded data removed]"
     },
     "metadata": {
      "needs_background": "light"
     },
     "output_type": "display_data"
    },
    {
     "data": {
      "text/plain": "<Figure size 432x288 with 1 Axes>",
      "image/png": "[encoded data removed]"
     },
     "metadata": {
      "needs_background": "light"
     },
     "output_type": "display_data"
    }
   ],
   "source": [
    "# Bar plot of January U.S. unemployment rates by year.\n",
    "plt.bar(x=unemp_raw.Year, height=unemp_raw.Jan)\n",
    "plt.title(\"January U.S. Unemployment Rates\")\n",
    "plt.xlabel(\"Year\")\n",
    "plt.ylabel(\"Unemployment Rate (%)\")\n",
    "plt.show()\n",
    "\n",
    "# Bar plot of June U.S. unemployment rates.\n",
    "plt.bar(x=unemp_raw.Year, height=unemp_raw.Jun)\n",
    "plt.title(\"June U.S. Unemployment Rates\")\n",
    "plt.xlabel(\"Year\")\n",
    "plt.ylabel(\"Unemployment Rate (%)\")\n",
    "plt.show()"
   ],
   "metadata": {
    "collapsed": false,
    "pycharm": {
     "name": "#%%\n"
    }
   }
  },
  {
   "cell_type": "markdown",
   "source": [
    "These plots allow us to compare the beginning- and mid-year unemployment rates for each year.  We can see that the overall distribution follows a similar pattern, but there are significant differences in some years."
   ],
   "metadata": {
    "collapsed": false,
    "pycharm": {
     "name": "#%% md\n"
    }
   }
  }
 ],
 "metadata": {
  "kernelspec": {
   "name": "pycharm-2f3a5d6e",
   "language": "python",
   "display_name": "PyCharm (dsc550)"
  },
  "language_info": {
   "codemirror_mode": {
    "name": "ipython",
    "version": 2
   },
   "file_extension": ".py",
   "mimetype": "text/x-python",
   "name": "python",
   "nbconvert_exporter": "python",
   "pygments_lexer": "ipython2",
   "version": "2.7.6"
  }
 },
 "nbformat": 4,
 "nbformat_minor": 0
}